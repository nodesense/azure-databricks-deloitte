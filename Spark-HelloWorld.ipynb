{
  "nbformat": 4,
  "nbformat_minor": 2,
  "metadata": {
    "kernelspec": {
      "name": "synapse_pyspark",
      "display_name": "python"
    },
    "language_info": {
      "name": "python"
    },
    "save_output": true,
    "synapse_widget": {
      "version": "0.1",
      "state": {
        "e5117291-a03f-4bf5-8a10-6bfa9a2ef88d": {
          "type": "Synapse.DataFrame",
          "sync_state": {
            "table": {
              "rows": [
                {
                  "movieId": 1,
                  "title": "Toy Story (1995)",
                  "genres": "Adventure|Animation|Children|Comedy|Fantasy"
                },
                {
                  "movieId": 2,
                  "title": "Jumanji (1995)",
                  "genres": "Adventure|Children|Fantasy"
                },
                {
                  "movieId": 3,
                  "title": "Grumpier Old Men (1995)",
                  "genres": "Comedy|Romance"
                },
                {
                  "movieId": 4,
                  "title": "Waiting to Exhale (1995)",
                  "genres": "Comedy|Drama|Romance"
                },
                {
                  "movieId": 5,
                  "title": "Father of the Bride Part II (1995)",
                  "genres": "Comedy"
                },
                {
                  "movieId": 6,
                  "title": "Heat (1995)",
                  "genres": "Action|Crime|Thriller"
                },
                {
                  "movieId": 7,
                  "title": "Sabrina (1995)",
                  "genres": "Comedy|Romance"
                },
                {
                  "movieId": 8,
                  "title": "Tom and Huck (1995)",
                  "genres": "Adventure|Children"
                },
                {
                  "movieId": 9,
                  "title": "Sudden Death (1995)",
                  "genres": "Action"
                },
                {
                  "movieId": 10,
                  "title": "GoldenEye (1995)",
                  "genres": "Action|Adventure|Thriller"
                },
                {
                  "movieId": 11,
                  "title": "American President, The (1995)",
                  "genres": "Comedy|Drama|Romance"
                },
                {
                  "movieId": 12,
                  "title": "Dracula: Dead and Loving It (1995)",
                  "genres": "Comedy|Horror"
                },
                {
                  "movieId": 13,
                  "title": "Balto (1995)",
                  "genres": "Adventure|Animation|Children"
                },
                {
                  "movieId": 14,
                  "title": "Nixon (1995)",
                  "genres": "Drama"
                },
                {
                  "movieId": 15,
                  "title": "Cutthroat Island (1995)",
                  "genres": "Action|Adventure|Romance"
                },
                {
                  "movieId": 16,
                  "title": "Casino (1995)",
                  "genres": "Crime|Drama"
                },
                {
                  "movieId": 17,
                  "title": "Sense and Sensibility (1995)",
                  "genres": "Drama|Romance"
                },
                {
                  "movieId": 18,
                  "title": "Four Rooms (1995)",
                  "genres": "Comedy"
                },
                {
                  "movieId": 19,
                  "title": "Ace Ventura: When Nature Calls (1995)",
                  "genres": "Comedy"
                },
                {
                  "movieId": 20,
                  "title": "Money Train (1995)",
                  "genres": "Action|Comedy|Crime|Drama|Thriller"
                },
                {
                  "movieId": 21,
                  "title": "Get Shorty (1995)",
                  "genres": "Comedy|Crime|Thriller"
                },
                {
                  "movieId": 22,
                  "title": "Copycat (1995)",
                  "genres": "Crime|Drama|Horror|Mystery|Thriller"
                },
                {
                  "movieId": 23,
                  "title": "Assassins (1995)",
                  "genres": "Action|Crime|Thriller"
                },
                {
                  "movieId": 24,
                  "title": "Powder (1995)",
                  "genres": "Drama|Sci-Fi"
                },
                {
                  "movieId": 25,
                  "title": "Leaving Las Vegas (1995)",
                  "genres": "Drama|Romance"
                },
                {
                  "movieId": 26,
                  "title": "Othello (1995)",
                  "genres": "Drama"
                },
                {
                  "movieId": 27,
                  "title": "Now and Then (1995)",
                  "genres": "Children|Drama"
                },
                {
                  "movieId": 28,
                  "title": "Persuasion (1995)",
                  "genres": "Drama|Romance"
                },
                {
                  "movieId": 29,
                  "title": "City of Lost Children, The (Cité des enfants perdus, La) (1995)",
                  "genres": "Adventure|Drama|Fantasy|Mystery|Sci-Fi"
                },
                {
                  "movieId": 30,
                  "title": "Shanghai Triad (Yao a yao yao dao waipo qiao) (1995)",
                  "genres": "Crime|Drama"
                },
                {
                  "movieId": 31,
                  "title": "Dangerous Minds (1995)",
                  "genres": "Drama"
                },
                {
                  "movieId": 32,
                  "title": "Twelve Monkeys (a.k.a. 12 Monkeys) (1995)",
                  "genres": "Mystery|Sci-Fi|Thriller"
                },
                {
                  "movieId": 34,
                  "title": "Babe (1995)",
                  "genres": "Children|Drama"
                },
                {
                  "movieId": 36,
                  "title": "Dead Man Walking (1995)",
                  "genres": "Crime|Drama"
                },
                {
                  "movieId": 38,
                  "title": "It Takes Two (1995)",
                  "genres": "Children|Comedy"
                },
                {
                  "movieId": 39,
                  "title": "Clueless (1995)",
                  "genres": "Comedy|Romance"
                },
                {
                  "movieId": 40,
                  "title": "Cry, the Beloved Country (1995)",
                  "genres": "Drama"
                },
                {
                  "movieId": 41,
                  "title": "Richard III (1995)",
                  "genres": "Drama|War"
                },
                {
                  "movieId": 42,
                  "title": "Dead Presidents (1995)",
                  "genres": "Action|Crime|Drama"
                },
                {
                  "movieId": 43,
                  "title": "Restoration (1995)",
                  "genres": "Drama"
                },
                {
                  "movieId": 44,
                  "title": "Mortal Kombat (1995)",
                  "genres": "Action|Adventure|Fantasy"
                },
                {
                  "movieId": 45,
                  "title": "To Die For (1995)",
                  "genres": "Comedy|Drama|Thriller"
                },
                {
                  "movieId": 46,
                  "title": "How to Make an American Quilt (1995)",
                  "genres": "Drama|Romance"
                },
                {
                  "movieId": 47,
                  "title": "Seven (a.k.a. Se7en) (1995)",
                  "genres": "Mystery|Thriller"
                },
                {
                  "movieId": 48,
                  "title": "Pocahontas (1995)",
                  "genres": "Animation|Children|Drama|Musical|Romance"
                },
                {
                  "movieId": 49,
                  "title": "When Night Is Falling (1995)",
                  "genres": "Drama|Romance"
                },
                {
                  "movieId": 50,
                  "title": "Usual Suspects, The (1995)",
                  "genres": "Crime|Mystery|Thriller"
                },
                {
                  "movieId": 52,
                  "title": "Mighty Aphrodite (1995)",
                  "genres": "Comedy|Drama|Romance"
                },
                {
                  "movieId": 53,
                  "title": "Lamerica (1994)",
                  "genres": "Adventure|Drama"
                },
                {
                  "movieId": 54,
                  "title": "Big Green, The (1995)",
                  "genres": "Children|Comedy"
                },
                {
                  "movieId": 55,
                  "title": "Georgia (1995)",
                  "genres": "Drama"
                },
                {
                  "movieId": 57,
                  "title": "Home for the Holidays (1995)",
                  "genres": "Drama"
                },
                {
                  "movieId": 58,
                  "title": "Postman, The (Postino, Il) (1994)",
                  "genres": "Comedy|Drama|Romance"
                },
                {
                  "movieId": 60,
                  "title": "Indian in the Cupboard, The (1995)",
                  "genres": "Adventure|Children|Fantasy"
                },
                {
                  "movieId": 61,
                  "title": "Eye for an Eye (1996)",
                  "genres": "Drama|Thriller"
                },
                {
                  "movieId": 62,
                  "title": "Mr. Holland's Opus (1995)",
                  "genres": "Drama"
                },
                {
                  "movieId": 63,
                  "title": "Don't Be a Menace to South Central While Drinking Your Juice in the Hood (1996)",
                  "genres": "Comedy|Crime"
                },
                {
                  "movieId": 64,
                  "title": "Two if by Sea (1996)",
                  "genres": "Comedy|Romance"
                },
                {
                  "movieId": 65,
                  "title": "Bio-Dome (1996)",
                  "genres": "Comedy"
                },
                {
                  "movieId": 66,
                  "title": "Lawnmower Man 2: Beyond Cyberspace (1996)",
                  "genres": "Action|Sci-Fi|Thriller"
                },
                {
                  "movieId": 68,
                  "title": "French Twist (Gazon maudit) (1995)",
                  "genres": "Comedy|Romance"
                },
                {
                  "movieId": 69,
                  "title": "Friday (1995)",
                  "genres": "Comedy"
                },
                {
                  "movieId": 70,
                  "title": "From Dusk Till Dawn (1996)",
                  "genres": "Action|Comedy|Horror|Thriller"
                },
                {
                  "movieId": 71,
                  "title": "Fair Game (1995)",
                  "genres": "Action"
                },
                {
                  "movieId": 72,
                  "title": "Kicking and Screaming (1995)",
                  "genres": "Comedy|Drama"
                },
                {
                  "movieId": 73,
                  "title": "Misérables, Les (1995)",
                  "genres": "Drama|War"
                },
                {
                  "movieId": 74,
                  "title": "Bed of Roses (1996)",
                  "genres": "Drama|Romance"
                },
                {
                  "movieId": 75,
                  "title": "Big Bully (1996)",
                  "genres": "Comedy|Drama"
                },
                {
                  "movieId": 76,
                  "title": "Screamers (1995)",
                  "genres": "Action|Sci-Fi|Thriller"
                },
                {
                  "movieId": 77,
                  "title": "Nico Icon (1995)",
                  "genres": "Documentary"
                },
                {
                  "movieId": 78,
                  "title": "Crossing Guard, The (1995)",
                  "genres": "Action|Crime|Drama|Thriller"
                },
                {
                  "movieId": 79,
                  "title": "Juror, The (1996)",
                  "genres": "Drama|Thriller"
                },
                {
                  "movieId": 80,
                  "title": "White Balloon, The (Badkonake sefid) (1995)",
                  "genres": "Children|Drama"
                },
                {
                  "movieId": 81,
                  "title": "Things to Do in Denver When You're Dead (1995)",
                  "genres": "Crime|Drama|Romance"
                },
                {
                  "movieId": 82,
                  "title": "Antonia's Line (Antonia) (1995)",
                  "genres": "Comedy|Drama"
                },
                {
                  "movieId": 83,
                  "title": "Once Upon a Time... When We Were Colored (1995)",
                  "genres": "Drama|Romance"
                },
                {
                  "movieId": 85,
                  "title": "Angels and Insects (1995)",
                  "genres": "Drama|Romance"
                },
                {
                  "movieId": 86,
                  "title": "White Squall (1996)",
                  "genres": "Action|Adventure|Drama"
                },
                {
                  "movieId": 87,
                  "title": "Dunston Checks In (1996)",
                  "genres": "Children|Comedy"
                },
                {
                  "movieId": 88,
                  "title": "Black Sheep (1996)",
                  "genres": "Comedy"
                },
                {
                  "movieId": 89,
                  "title": "Nick of Time (1995)",
                  "genres": "Action|Thriller"
                },
                {
                  "movieId": 92,
                  "title": "Mary Reilly (1996)",
                  "genres": "Drama|Horror|Thriller"
                },
                {
                  "movieId": 93,
                  "title": "Vampire in Brooklyn (1995)",
                  "genres": "Comedy|Horror|Romance"
                },
                {
                  "movieId": 94,
                  "title": "Beautiful Girls (1996)",
                  "genres": "Comedy|Drama|Romance"
                },
                {
                  "movieId": 95,
                  "title": "Broken Arrow (1996)",
                  "genres": "Action|Adventure|Thriller"
                },
                {
                  "movieId": 96,
                  "title": "In the Bleak Midwinter (1995)",
                  "genres": "Comedy|Drama"
                },
                {
                  "movieId": 97,
                  "title": "Hate (Haine, La) (1995)",
                  "genres": "Crime|Drama"
                },
                {
                  "movieId": 99,
                  "title": "Heidi Fleiss: Hollywood Madam (1995)",
                  "genres": "Documentary"
                },
                {
                  "movieId": 100,
                  "title": "City Hall (1996)",
                  "genres": "Drama|Thriller"
                },
                {
                  "movieId": 101,
                  "title": "Bottle Rocket (1996)",
                  "genres": "Adventure|Comedy|Crime|Romance"
                },
                {
                  "movieId": 102,
                  "title": "Mr. Wrong (1996)",
                  "genres": "Comedy"
                },
                {
                  "movieId": 103,
                  "title": "Unforgettable (1996)",
                  "genres": "Mystery|Sci-Fi|Thriller"
                },
                {
                  "movieId": 104,
                  "title": "Happy Gilmore (1996)",
                  "genres": "Comedy"
                },
                {
                  "movieId": 105,
                  "title": "Bridges of Madison County, The (1995)",
                  "genres": "Drama|Romance"
                },
                {
                  "movieId": 106,
                  "title": "Nobody Loves Me (Keiner liebt mich) (1994)",
                  "genres": "Comedy|Drama"
                },
                {
                  "movieId": 107,
                  "title": "Muppet Treasure Island (1996)",
                  "genres": "Adventure|Children|Comedy|Musical"
                },
                {
                  "movieId": 108,
                  "title": "Catwalk (1996)",
                  "genres": "Documentary"
                },
                {
                  "movieId": 110,
                  "title": "Braveheart (1995)",
                  "genres": "Action|Drama|War"
                },
                {
                  "movieId": 111,
                  "title": "Taxi Driver (1976)",
                  "genres": "Crime|Drama|Thriller"
                },
                {
                  "movieId": 112,
                  "title": "Rumble in the Bronx (Hont faan kui) (1995)",
                  "genres": "Action|Adventure|Comedy|Crime"
                },
                {
                  "movieId": 113,
                  "title": "Before and After (1996)",
                  "genres": "Drama|Mystery"
                },
                {
                  "movieId": 116,
                  "title": "Anne Frank Remembered (1995)",
                  "genres": "Documentary"
                },
                {
                  "movieId": 117,
                  "title": "Young Poisoner's Handbook, The (1995)",
                  "genres": "Crime|Drama"
                },
                {
                  "movieId": 118,
                  "title": "If Lucy Fell (1996)",
                  "genres": "Comedy|Romance"
                },
                {
                  "movieId": 119,
                  "title": "Steal Big, Steal Little (1995)",
                  "genres": "Comedy"
                },
                {
                  "movieId": 121,
                  "title": "Boys of St. Vincent, The (1992)",
                  "genres": "Drama"
                },
                {
                  "movieId": 122,
                  "title": "Boomerang (1992)",
                  "genres": "Comedy|Romance"
                },
                {
                  "movieId": 123,
                  "title": "Chungking Express (Chung Hing sam lam) (1994)",
                  "genres": "Drama|Mystery|Romance"
                },
                {
                  "movieId": 125,
                  "title": "Flirting With Disaster (1996)",
                  "genres": "Comedy"
                },
                {
                  "movieId": 126,
                  "title": "NeverEnding Story III, The (1994)",
                  "genres": "Adventure|Children|Fantasy"
                },
                {
                  "movieId": 128,
                  "title": "Jupiter's Wife (1994)",
                  "genres": "Documentary"
                },
                {
                  "movieId": 129,
                  "title": "Pie in the Sky (1996)",
                  "genres": "Comedy|Romance"
                },
                {
                  "movieId": 132,
                  "title": "Jade (1995)",
                  "genres": "Thriller"
                },
                {
                  "movieId": 135,
                  "title": "Down Periscope (1996)",
                  "genres": "Comedy"
                },
                {
                  "movieId": 137,
                  "title": "Man of the Year (1995)",
                  "genres": "Documentary"
                },
                {
                  "movieId": 140,
                  "title": "Up Close and Personal (1996)",
                  "genres": "Drama|Romance"
                },
                {
                  "movieId": 141,
                  "title": "Birdcage, The (1996)",
                  "genres": "Comedy"
                },
                {
                  "movieId": 144,
                  "title": "Brothers McMullen, The (1995)",
                  "genres": "Comedy"
                },
                {
                  "movieId": 145,
                  "title": "Bad Boys (1995)",
                  "genres": "Action|Comedy|Crime|Drama|Thriller"
                },
                {
                  "movieId": 146,
                  "title": "Amazing Panda Adventure, The (1995)",
                  "genres": "Adventure|Children"
                },
                {
                  "movieId": 147,
                  "title": "Basketball Diaries, The (1995)",
                  "genres": "Drama"
                },
                {
                  "movieId": 148,
                  "title": "Awfully Big Adventure, An (1995)",
                  "genres": "Drama"
                },
                {
                  "movieId": 149,
                  "title": "Amateur (1994)",
                  "genres": "Crime|Drama|Thriller"
                },
                {
                  "movieId": 150,
                  "title": "Apollo 13 (1995)",
                  "genres": "Adventure|Drama|IMAX"
                },
                {
                  "movieId": 151,
                  "title": "Rob Roy (1995)",
                  "genres": "Action|Drama|Romance|War"
                },
                {
                  "movieId": 152,
                  "title": "Addiction, The (1995)",
                  "genres": "Drama|Horror"
                },
                {
                  "movieId": 153,
                  "title": "Batman Forever (1995)",
                  "genres": "Action|Adventure|Comedy|Crime"
                },
                {
                  "movieId": 154,
                  "title": "Beauty of the Day (Belle de jour) (1967)",
                  "genres": "Drama"
                },
                {
                  "movieId": 155,
                  "title": "Beyond Rangoon (1995)",
                  "genres": "Adventure|Drama|War"
                },
                {
                  "movieId": 156,
                  "title": "Blue in the Face (1995)",
                  "genres": "Comedy|Drama"
                },
                {
                  "movieId": 157,
                  "title": "Canadian Bacon (1995)",
                  "genres": "Comedy|War"
                },
                {
                  "movieId": 158,
                  "title": "Casper (1995)",
                  "genres": "Adventure|Children"
                },
                {
                  "movieId": 159,
                  "title": "Clockers (1995)",
                  "genres": "Crime|Drama|Mystery"
                },
                {
                  "movieId": 160,
                  "title": "Congo (1995)",
                  "genres": "Action|Adventure|Mystery|Sci-Fi"
                },
                {
                  "movieId": 161,
                  "title": "Crimson Tide (1995)",
                  "genres": "Drama|Thriller|War"
                },
                {
                  "movieId": 162,
                  "title": "Crumb (1994)",
                  "genres": "Documentary"
                },
                {
                  "movieId": 163,
                  "title": "Desperado (1995)",
                  "genres": "Action|Romance|Western"
                },
                {
                  "movieId": 164,
                  "title": "Devil in a Blue Dress (1995)",
                  "genres": "Crime|Film-Noir|Mystery|Thriller"
                },
                {
                  "movieId": 165,
                  "title": "Die Hard: With a Vengeance (1995)",
                  "genres": "Action|Crime|Thriller"
                },
                {
                  "movieId": 166,
                  "title": "Doom Generation, The (1995)",
                  "genres": "Comedy|Crime|Drama"
                },
                {
                  "movieId": 168,
                  "title": "First Knight (1995)",
                  "genres": "Action|Drama|Romance"
                },
                {
                  "movieId": 169,
                  "title": "Free Willy 2: The Adventure Home (1995)",
                  "genres": "Adventure|Children|Drama"
                },
                {
                  "movieId": 170,
                  "title": "Hackers (1995)",
                  "genres": "Action|Adventure|Crime|Thriller"
                },
                {
                  "movieId": 171,
                  "title": "Jeffrey (1995)",
                  "genres": "Comedy|Drama"
                },
                {
                  "movieId": 172,
                  "title": "Johnny Mnemonic (1995)",
                  "genres": "Action|Sci-Fi|Thriller"
                },
                {
                  "movieId": 173,
                  "title": "Judge Dredd (1995)",
                  "genres": "Action|Crime|Sci-Fi"
                },
                {
                  "movieId": 174,
                  "title": "Jury Duty (1995)",
                  "genres": "Comedy"
                },
                {
                  "movieId": 175,
                  "title": "Kids (1995)",
                  "genres": "Drama"
                },
                {
                  "movieId": 176,
                  "title": "Living in Oblivion (1995)",
                  "genres": "Comedy"
                },
                {
                  "movieId": 177,
                  "title": "Lord of Illusions (1995)",
                  "genres": "Horror"
                },
                {
                  "movieId": 178,
                  "title": "Love & Human Remains (1993)",
                  "genres": "Comedy|Drama"
                },
                {
                  "movieId": 179,
                  "title": "Mad Love (1995)",
                  "genres": "Drama|Romance"
                },
                {
                  "movieId": 180,
                  "title": "Mallrats (1995)",
                  "genres": "Comedy|Romance"
                },
                {
                  "movieId": 181,
                  "title": "Mighty Morphin Power Rangers: The Movie (1995)",
                  "genres": "Action|Children"
                },
                {
                  "movieId": 183,
                  "title": "Mute Witness (1994)",
                  "genres": "Comedy|Horror|Thriller"
                },
                {
                  "movieId": 184,
                  "title": "Nadja (1994)",
                  "genres": "Drama"
                },
                {
                  "movieId": 185,
                  "title": "Net, The (1995)",
                  "genres": "Action|Crime|Thriller"
                },
                {
                  "movieId": 186,
                  "title": "Nine Months (1995)",
                  "genres": "Comedy|Romance"
                },
                {
                  "movieId": 187,
                  "title": "Party Girl (1995)",
                  "genres": "Comedy"
                },
                {
                  "movieId": 188,
                  "title": "Prophecy, The (1995)",
                  "genres": "Fantasy|Horror|Mystery"
                },
                {
                  "movieId": 189,
                  "title": "Reckless (1995)",
                  "genres": "Comedy|Fantasy"
                },
                {
                  "movieId": 190,
                  "title": "Safe (1995)",
                  "genres": "Thriller"
                },
                {
                  "movieId": 191,
                  "title": "Scarlet Letter, The (1995)",
                  "genres": "Drama|Romance"
                },
                {
                  "movieId": 193,
                  "title": "Showgirls (1995)",
                  "genres": "Drama"
                },
                {
                  "movieId": 194,
                  "title": "Smoke (1995)",
                  "genres": "Comedy|Drama"
                },
                {
                  "movieId": 195,
                  "title": "Something to Talk About (1995)",
                  "genres": "Comedy|Drama|Romance"
                },
                {
                  "movieId": 196,
                  "title": "Species (1995)",
                  "genres": "Horror|Sci-Fi"
                },
                {
                  "movieId": 198,
                  "title": "Strange Days (1995)",
                  "genres": "Action|Crime|Drama|Mystery|Sci-Fi|Thriller"
                },
                {
                  "movieId": 199,
                  "title": "Umbrellas of Cherbourg, The (Parapluies de Cherbourg, Les) (1964)",
                  "genres": "Drama|Musical|Romance"
                },
                {
                  "movieId": 201,
                  "title": "Three Wishes (1995)",
                  "genres": "Drama|Fantasy"
                },
                {
                  "movieId": 202,
                  "title": "Total Eclipse (1995)",
                  "genres": "Drama|Romance"
                },
                {
                  "movieId": 203,
                  "title": "To Wong Foo, Thanks for Everything! Julie Newmar (1995)",
                  "genres": "Comedy"
                },
                {
                  "movieId": 204,
                  "title": "Under Siege 2: Dark Territory (1995)",
                  "genres": "Action"
                },
                {
                  "movieId": 205,
                  "title": "Unstrung Heroes (1995)",
                  "genres": "Comedy|Drama"
                },
                {
                  "movieId": 206,
                  "title": "Unzipped (1995)",
                  "genres": "Documentary"
                },
                {
                  "movieId": 207,
                  "title": "Walk in the Clouds, A (1995)",
                  "genres": "Drama|Romance"
                },
                {
                  "movieId": 208,
                  "title": "Waterworld (1995)",
                  "genres": "Action|Adventure|Sci-Fi"
                },
                {
                  "movieId": 209,
                  "title": "White Man's Burden (1995)",
                  "genres": "Drama"
                },
                {
                  "movieId": 210,
                  "title": "Wild Bill (1995)",
                  "genres": "Western"
                },
                {
                  "movieId": 211,
                  "title": "Browning Version, The (1994)",
                  "genres": "Drama"
                },
                {
                  "movieId": 212,
                  "title": "Bushwhacked (1995)",
                  "genres": "Adventure|Comedy|Crime|Mystery"
                },
                {
                  "movieId": 213,
                  "title": "Burnt by the Sun (Utomlyonnye solntsem) (1994)",
                  "genres": "Drama"
                },
                {
                  "movieId": 214,
                  "title": "Before the Rain (Pred dozhdot) (1994)",
                  "genres": "Drama|War"
                },
                {
                  "movieId": 215,
                  "title": "Before Sunrise (1995)",
                  "genres": "Drama|Romance"
                },
                {
                  "movieId": 216,
                  "title": "Billy Madison (1995)",
                  "genres": "Comedy"
                },
                {
                  "movieId": 217,
                  "title": "Babysitter, The (1995)",
                  "genres": "Drama|Thriller"
                },
                {
                  "movieId": 218,
                  "title": "Boys on the Side (1995)",
                  "genres": "Comedy|Drama"
                },
                {
                  "movieId": 219,
                  "title": "Cure, The (1995)",
                  "genres": "Drama"
                },
                {
                  "movieId": 220,
                  "title": "Castle Freak (1995)",
                  "genres": "Horror"
                },
                {
                  "movieId": 222,
                  "title": "Circle of Friends (1995)",
                  "genres": "Drama|Romance"
                },
                {
                  "movieId": 223,
                  "title": "Clerks (1994)",
                  "genres": "Comedy"
                },
                {
                  "movieId": 224,
                  "title": "Don Juan DeMarco (1995)",
                  "genres": "Comedy|Drama|Romance"
                },
                {
                  "movieId": 225,
                  "title": "Disclosure (1994)",
                  "genres": "Drama|Thriller"
                },
                {
                  "movieId": 227,
                  "title": "Drop Zone (1994)",
                  "genres": "Action|Thriller"
                },
                {
                  "movieId": 228,
                  "title": "Destiny Turns on the Radio (1995)",
                  "genres": "Comedy"
                },
                {
                  "movieId": 229,
                  "title": "Death and the Maiden (1994)",
                  "genres": "Drama|Thriller"
                },
                {
                  "movieId": 230,
                  "title": "Dolores Claiborne (1995)",
                  "genres": "Drama|Thriller"
                },
                {
                  "movieId": 231,
                  "title": "Dumb & Dumber (Dumb and Dumber) (1994)",
                  "genres": "Adventure|Comedy"
                },
                {
                  "movieId": 232,
                  "title": "Eat Drink Man Woman (Yin shi nan nu) (1994)",
                  "genres": "Comedy|Drama|Romance"
                },
                {
                  "movieId": 233,
                  "title": "Exotica (1994)",
                  "genres": "Drama"
                },
                {
                  "movieId": 234,
                  "title": "Exit to Eden (1994)",
                  "genres": "Comedy"
                },
                {
                  "movieId": 235,
                  "title": "Ed Wood (1994)",
                  "genres": "Comedy|Drama"
                },
                {
                  "movieId": 236,
                  "title": "French Kiss (1995)",
                  "genres": "Action|Comedy|Romance"
                },
                {
                  "movieId": 237,
                  "title": "Forget Paris (1995)",
                  "genres": "Comedy|Romance"
                },
                {
                  "movieId": 238,
                  "title": "Far From Home: The Adventures of Yellow Dog (1995)",
                  "genres": "Adventure|Children"
                },
                {
                  "movieId": 239,
                  "title": "Goofy Movie, A (1995)",
                  "genres": "Animation|Children|Comedy|Romance"
                },
                {
                  "movieId": 240,
                  "title": "Hideaway (1995)",
                  "genres": "Thriller"
                },
                {
                  "movieId": 241,
                  "title": "Fluke (1995)",
                  "genres": "Children|Drama"
                },
                {
                  "movieId": 242,
                  "title": "Farinelli: il castrato (1994)",
                  "genres": "Drama|Musical"
                },
                {
                  "movieId": 243,
                  "title": "Gordy (1995)",
                  "genres": "Children|Comedy|Fantasy"
                },
                {
                  "movieId": 246,
                  "title": "Hoop Dreams (1994)",
                  "genres": "Documentary"
                },
                {
                  "movieId": 247,
                  "title": "Heavenly Creatures (1994)",
                  "genres": "Crime|Drama"
                },
                {
                  "movieId": 248,
                  "title": "Houseguest (1994)",
                  "genres": "Comedy"
                },
                {
                  "movieId": 249,
                  "title": "Immortal Beloved (1994)",
                  "genres": "Drama|Romance"
                },
                {
                  "movieId": 250,
                  "title": "Heavyweights (Heavy Weights) (1995)",
                  "genres": "Children|Comedy"
                },
                {
                  "movieId": 251,
                  "title": "Hunted, The (1995)",
                  "genres": "Action"
                },
                {
                  "movieId": 252,
                  "title": "I.Q. (1994)",
                  "genres": "Comedy|Romance"
                },
                {
                  "movieId": 253,
                  "title": "Interview with the Vampire: The Vampire Chronicles (1994)",
                  "genres": "Drama|Horror"
                },
                {
                  "movieId": 254,
                  "title": "Jefferson in Paris (1995)",
                  "genres": "Drama"
                },
                {
                  "movieId": 255,
                  "title": "Jerky Boys, The (1995)",
                  "genres": "Comedy"
                },
                {
                  "movieId": 256,
                  "title": "Junior (1994)",
                  "genres": "Comedy|Sci-Fi"
                },
                {
                  "movieId": 257,
                  "title": "Just Cause (1995)",
                  "genres": "Mystery|Thriller"
                },
                {
                  "movieId": 258,
                  "title": "Kid in King Arthur's Court, A (1995)",
                  "genres": "Adventure|Children|Comedy|Fantasy|Romance"
                },
                {
                  "movieId": 259,
                  "title": "Kiss of Death (1995)",
                  "genres": "Crime|Drama|Thriller"
                },
                {
                  "movieId": 260,
                  "title": "Star Wars: Episode IV - A New Hope (1977)",
                  "genres": "Action|Adventure|Sci-Fi"
                },
                {
                  "movieId": 261,
                  "title": "Little Women (1994)",
                  "genres": "Drama"
                },
                {
                  "movieId": 262,
                  "title": "Little Princess, A (1995)",
                  "genres": "Children|Drama"
                },
                {
                  "movieId": 263,
                  "title": "Ladybird Ladybird (1994)",
                  "genres": "Drama"
                },
                {
                  "movieId": 265,
                  "title": "Like Water for Chocolate (Como agua para chocolate) (1992)",
                  "genres": "Drama|Fantasy|Romance"
                },
                {
                  "movieId": 266,
                  "title": "Legends of the Fall (1994)",
                  "genres": "Drama|Romance|War|Western"
                },
                {
                  "movieId": 267,
                  "title": "Major Payne (1995)",
                  "genres": "Comedy"
                },
                {
                  "movieId": 269,
                  "title": "My Crazy Life (Mi vida loca) (1993)",
                  "genres": "Drama"
                },
                {
                  "movieId": 270,
                  "title": "Love Affair (1994)",
                  "genres": "Drama|Romance"
                },
                {
                  "movieId": 271,
                  "title": "Losing Isaiah (1995)",
                  "genres": "Drama"
                },
                {
                  "movieId": 272,
                  "title": "Madness of King George, The (1994)",
                  "genres": "Comedy|Drama"
                },
                {
                  "movieId": 273,
                  "title": "Mary Shelley's Frankenstein (Frankenstein) (1994)",
                  "genres": "Drama|Horror|Sci-Fi"
                },
                {
                  "movieId": 274,
                  "title": "Man of the House (1995)",
                  "genres": "Comedy"
                },
                {
                  "movieId": 275,
                  "title": "Mixed Nuts (1994)",
                  "genres": "Comedy"
                },
                {
                  "movieId": 276,
                  "title": "Milk Money (1994)",
                  "genres": "Comedy|Romance"
                },
                {
                  "movieId": 277,
                  "title": "Miracle on 34th Street (1994)",
                  "genres": "Drama"
                },
                {
                  "movieId": 278,
                  "title": "Miami Rhapsody (1995)",
                  "genres": "Comedy"
                },
                {
                  "movieId": 279,
                  "title": "My Family (1995)",
                  "genres": "Drama"
                },
                {
                  "movieId": 280,
                  "title": "Murder in the First (1995)",
                  "genres": "Drama|Thriller"
                },
                {
                  "movieId": 281,
                  "title": "Nobody's Fool (1994)",
                  "genres": "Comedy|Drama|Romance"
                },
                {
                  "movieId": 282,
                  "title": "Nell (1994)",
                  "genres": "Drama"
                },
                {
                  "movieId": 283,
                  "title": "New Jersey Drive (1995)",
                  "genres": "Crime|Drama"
                },
                {
                  "movieId": 284,
                  "title": "New York Cop (Nyû Yôku no koppu) (1993)",
                  "genres": "Action|Crime"
                },
                {
                  "movieId": 285,
                  "title": "Beyond Bedlam (1993)",
                  "genres": "Drama|Horror"
                },
                {
                  "movieId": 287,
                  "title": "Nina Takes a Lover (1994)",
                  "genres": "Comedy|Romance"
                },
                {
                  "movieId": 288,
                  "title": "Natural Born Killers (1994)",
                  "genres": "Action|Crime|Thriller"
                },
                {
                  "movieId": 289,
                  "title": "Only You (1994)",
                  "genres": "Comedy|Romance"
                },
                {
                  "movieId": 290,
                  "title": "Once Were Warriors (1994)",
                  "genres": "Crime|Drama"
                },
                {
                  "movieId": 291,
                  "title": "Poison Ivy II (1996)",
                  "genres": "Drama|Thriller"
                },
                {
                  "movieId": 292,
                  "title": "Outbreak (1995)",
                  "genres": "Action|Drama|Sci-Fi|Thriller"
                },
                {
                  "movieId": 293,
                  "title": "Léon: The Professional (a.k.a. The Professional) (Léon) (1994)",
                  "genres": "Action|Crime|Drama|Thriller"
                },
                {
                  "movieId": 294,
                  "title": "Perez Family, The (1995)",
                  "genres": "Comedy|Romance"
                },
                {
                  "movieId": 295,
                  "title": "Pyromaniac's Love Story, A (1995)",
                  "genres": "Comedy|Romance"
                },
                {
                  "movieId": 296,
                  "title": "Pulp Fiction (1994)",
                  "genres": "Comedy|Crime|Drama|Thriller"
                },
                {
                  "movieId": 298,
                  "title": "Pushing Hands (Tui shou) (1992)",
                  "genres": "Drama"
                },
                {
                  "movieId": 299,
                  "title": "Priest (1994)",
                  "genres": "Drama"
                },
                {
                  "movieId": 300,
                  "title": "Quiz Show (1994)",
                  "genres": "Drama"
                },
                {
                  "movieId": 301,
                  "title": "Picture Bride (Bijo photo) (1994)",
                  "genres": "Drama|Romance"
                },
                {
                  "movieId": 302,
                  "title": "Queen Margot (Reine Margot, La) (1994)",
                  "genres": "Drama|Romance"
                },
                {
                  "movieId": 303,
                  "title": "Quick and the Dead, The (1995)",
                  "genres": "Action|Thriller|Western"
                },
                {
                  "movieId": 304,
                  "title": "Roommates (1995)",
                  "genres": "Comedy|Drama"
                },
                {
                  "movieId": 305,
                  "title": "Ready to Wear (Pret-A-Porter) (1994)",
                  "genres": "Comedy"
                },
                {
                  "movieId": 306,
                  "title": "Three Colors: Red (Trois couleurs: Rouge) (1994)",
                  "genres": "Drama"
                },
                {
                  "movieId": 307,
                  "title": "Three Colors: Blue (Trois couleurs: Bleu) (1993)",
                  "genres": "Drama"
                },
                {
                  "movieId": 308,
                  "title": "Three Colors: White (Trzy kolory: Bialy) (1994)",
                  "genres": "Comedy|Drama"
                },
                {
                  "movieId": 310,
                  "title": "Rent-a-Kid (1995)",
                  "genres": "Comedy"
                },
                {
                  "movieId": 311,
                  "title": "Relative Fear (1994)",
                  "genres": "Horror|Thriller"
                },
                {
                  "movieId": 312,
                  "title": "Stuart Saves His Family (1995)",
                  "genres": "Comedy"
                },
                {
                  "movieId": 313,
                  "title": "Swan Princess, The (1994)",
                  "genres": "Animation|Children"
                },
                {
                  "movieId": 314,
                  "title": "Secret of Roan Inish, The (1994)",
                  "genres": "Children|Drama|Fantasy|Mystery"
                },
                {
                  "movieId": 315,
                  "title": "Specialist, The (1994)",
                  "genres": "Action|Drama|Thriller"
                },
                {
                  "movieId": 316,
                  "title": "Stargate (1994)",
                  "genres": "Action|Adventure|Sci-Fi"
                },
                {
                  "movieId": 317,
                  "title": "Santa Clause, The (1994)",
                  "genres": "Comedy|Drama|Fantasy"
                },
                {
                  "movieId": 318,
                  "title": "Shawshank Redemption, The (1994)",
                  "genres": "Crime|Drama"
                },
                {
                  "movieId": 319,
                  "title": "Shallow Grave (1994)",
                  "genres": "Comedy|Drama|Thriller"
                },
                {
                  "movieId": 320,
                  "title": "Suture (1993)",
                  "genres": "Film-Noir|Thriller"
                },
                {
                  "movieId": 321,
                  "title": "Strawberry and Chocolate (Fresa y chocolate) (1993)",
                  "genres": "Drama"
                },
                {
                  "movieId": 322,
                  "title": "Swimming with Sharks (1995)",
                  "genres": "Comedy|Drama"
                },
                {
                  "movieId": 324,
                  "title": "Sum of Us, The (1994)",
                  "genres": "Comedy|Drama"
                },
                {
                  "movieId": 325,
                  "title": "National Lampoon's Senior Trip (1995)",
                  "genres": "Comedy"
                },
                {
                  "movieId": 326,
                  "title": "To Live (Huozhe) (1994)",
                  "genres": "Drama"
                },
                {
                  "movieId": 327,
                  "title": "Tank Girl (1995)",
                  "genres": "Action|Comedy|Sci-Fi"
                },
                {
                  "movieId": 328,
                  "title": "Tales from the Crypt Presents: Demon Knight (1995)",
                  "genres": "Horror|Thriller"
                },
                {
                  "movieId": 329,
                  "title": "Star Trek: Generations (1994)",
                  "genres": "Adventure|Drama|Sci-Fi"
                },
                {
                  "movieId": 330,
                  "title": "Tales from the Hood (1995)",
                  "genres": "Action|Crime|Horror"
                },
                {
                  "movieId": 331,
                  "title": "Tom & Viv (1994)",
                  "genres": "Drama"
                },
                {
                  "movieId": 332,
                  "title": "Village of the Damned (1995)",
                  "genres": "Horror|Sci-Fi"
                },
                {
                  "movieId": 333,
                  "title": "Tommy Boy (1995)",
                  "genres": "Comedy"
                },
                {
                  "movieId": 334,
                  "title": "Vanya on 42nd Street (1994)",
                  "genres": "Drama"
                },
                {
                  "movieId": 335,
                  "title": "Underneath (1995)",
                  "genres": "Mystery|Thriller"
                },
                {
                  "movieId": 336,
                  "title": "Walking Dead, The (1995)",
                  "genres": "Drama|War"
                },
                {
                  "movieId": 337,
                  "title": "What's Eating Gilbert Grape (1993)",
                  "genres": "Drama"
                },
                {
                  "movieId": 338,
                  "title": "Virtuosity (1995)",
                  "genres": "Action|Sci-Fi|Thriller"
                },
                {
                  "movieId": 339,
                  "title": "While You Were Sleeping (1995)",
                  "genres": "Comedy|Romance"
                },
                {
                  "movieId": 340,
                  "title": "War, The (1994)",
                  "genres": "Adventure|Drama|War"
                },
                {
                  "movieId": 341,
                  "title": "Double Happiness (1994)",
                  "genres": "Drama"
                },
                {
                  "movieId": 342,
                  "title": "Muriel's Wedding (1994)",
                  "genres": "Comedy"
                },
                {
                  "movieId": 343,
                  "title": "Baby-Sitters Club, The (1995)",
                  "genres": "Children"
                },
                {
                  "movieId": 344,
                  "title": "Ace Ventura: Pet Detective (1994)",
                  "genres": "Comedy"
                },
                {
                  "movieId": 345,
                  "title": "Adventures of Priscilla, Queen of the Desert, The (1994)",
                  "genres": "Comedy|Drama"
                },
                {
                  "movieId": 346,
                  "title": "Backbeat (1993)",
                  "genres": "Drama|Musical"
                },
                {
                  "movieId": 347,
                  "title": "Bitter Moon (1992)",
                  "genres": "Drama|Film-Noir|Romance"
                },
                {
                  "movieId": 348,
                  "title": "Bullets Over Broadway (1994)",
                  "genres": "Comedy"
                },
                {
                  "movieId": 349,
                  "title": "Clear and Present Danger (1994)",
                  "genres": "Action|Crime|Drama|Thriller"
                },
                {
                  "movieId": 350,
                  "title": "Client, The (1994)",
                  "genres": "Drama|Mystery|Thriller"
                },
                {
                  "movieId": 351,
                  "title": "Corrina, Corrina (1994)",
                  "genres": "Comedy|Drama|Romance"
                },
                {
                  "movieId": 352,
                  "title": "Crooklyn (1994)",
                  "genres": "Comedy|Drama"
                },
                {
                  "movieId": 353,
                  "title": "Crow, The (1994)",
                  "genres": "Action|Crime|Fantasy|Thriller"
                },
                {
                  "movieId": 354,
                  "title": "Cobb (1994)",
                  "genres": "Drama"
                },
                {
                  "movieId": 355,
                  "title": "Flintstones, The (1994)",
                  "genres": "Children|Comedy|Fantasy"
                },
                {
                  "movieId": 356,
                  "title": "Forrest Gump (1994)",
                  "genres": "Comedy|Drama|Romance|War"
                },
                {
                  "movieId": 357,
                  "title": "Four Weddings and a Funeral (1994)",
                  "genres": "Comedy|Romance"
                },
                {
                  "movieId": 358,
                  "title": "Higher Learning (1995)",
                  "genres": "Drama"
                },
                {
                  "movieId": 359,
                  "title": "I Like It Like That (1994)",
                  "genres": "Comedy|Drama|Romance"
                },
                {
                  "movieId": 360,
                  "title": "I Love Trouble (1994)",
                  "genres": "Action|Comedy"
                },
                {
                  "movieId": 361,
                  "title": "It Could Happen to You (1994)",
                  "genres": "Comedy|Drama|Romance"
                },
                {
                  "movieId": 362,
                  "title": "Jungle Book, The (1994)",
                  "genres": "Adventure|Children|Romance"
                },
                {
                  "movieId": 363,
                  "title": "Wonderful, Horrible Life of Leni Riefenstahl, The (Macht der Bilder: Leni Riefenstahl, Die) (1993)",
                  "genres": "Documentary"
                },
                {
                  "movieId": 364,
                  "title": "Lion King, The (1994)",
                  "genres": "Adventure|Animation|Children|Drama|Musical|IMAX"
                },
                {
                  "movieId": 365,
                  "title": "Little Buddha (1993)",
                  "genres": "Drama"
                },
                {
                  "movieId": 366,
                  "title": "Wes Craven's New Nightmare (Nightmare on Elm Street Part 7: Freddy's Finale, A) (1994)",
                  "genres": "Drama|Horror|Mystery|Thriller"
                },
                {
                  "movieId": 367,
                  "title": "Mask, The (1994)",
                  "genres": "Action|Comedy|Crime|Fantasy"
                },
                {
                  "movieId": 368,
                  "title": "Maverick (1994)",
                  "genres": "Adventure|Comedy|Western"
                },
                {
                  "movieId": 369,
                  "title": "Mrs. Parker and the Vicious Circle (1994)",
                  "genres": "Drama"
                },
                {
                  "movieId": 370,
                  "title": "Naked Gun 33 1/3: The Final Insult (1994)",
                  "genres": "Action|Comedy"
                },
                {
                  "movieId": 371,
                  "title": "Paper, The (1994)",
                  "genres": "Comedy|Drama"
                },
                {
                  "movieId": 372,
                  "title": "Reality Bites (1994)",
                  "genres": "Comedy|Drama|Romance"
                },
                {
                  "movieId": 373,
                  "title": "Red Rock West (1992)",
                  "genres": "Thriller"
                },
                {
                  "movieId": 374,
                  "title": "Richie Rich (1994)",
                  "genres": "Children|Comedy"
                },
                {
                  "movieId": 376,
                  "title": "River Wild, The (1994)",
                  "genres": "Action|Thriller"
                },
                {
                  "movieId": 377,
                  "title": "Speed (1994)",
                  "genres": "Action|Romance|Thriller"
                },
                {
                  "movieId": 378,
                  "title": "Speechless (1994)",
                  "genres": "Comedy|Romance"
                },
                {
                  "movieId": 379,
                  "title": "Timecop (1994)",
                  "genres": "Action|Sci-Fi|Thriller"
                },
                {
                  "movieId": 380,
                  "title": "True Lies (1994)",
                  "genres": "Action|Adventure|Comedy|Romance|Thriller"
                },
                {
                  "movieId": 381,
                  "title": "When a Man Loves a Woman (1994)",
                  "genres": "Drama|Romance"
                },
                {
                  "movieId": 382,
                  "title": "Wolf (1994)",
                  "genres": "Drama|Horror|Romance|Thriller"
                },
                {
                  "movieId": 383,
                  "title": "Wyatt Earp (1994)",
                  "genres": "Western"
                },
                {
                  "movieId": 384,
                  "title": "Bad Company (1995)",
                  "genres": "Action|Crime|Drama"
                },
                {
                  "movieId": 385,
                  "title": "Man of No Importance, A (1994)",
                  "genres": "Drama"
                },
                {
                  "movieId": 386,
                  "title": "S.F.W. (1994)",
                  "genres": "Drama"
                },
                {
                  "movieId": 387,
                  "title": "Low Down Dirty Shame, A (1994)",
                  "genres": "Action|Comedy"
                },
                {
                  "movieId": 388,
                  "title": "Boys Life (1995)",
                  "genres": "Drama"
                },
                {
                  "movieId": 389,
                  "title": "Colonel Chabert, Le (1994)",
                  "genres": "Drama|Romance|War"
                },
                {
                  "movieId": 390,
                  "title": "Faster Pussycat! Kill! Kill! (1965)",
                  "genres": "Action|Crime|Drama"
                },
                {
                  "movieId": 391,
                  "title": "Jason's Lyric (1994)",
                  "genres": "Crime|Drama"
                },
                {
                  "movieId": 393,
                  "title": "Street Fighter (1994)",
                  "genres": "Action|Adventure|Fantasy"
                },
                {
                  "movieId": 405,
                  "title": "Highlander III: The Sorcerer (a.k.a. Highlander: The Final Dimension) (1994)",
                  "genres": "Action|Fantasy"
                },
                {
                  "movieId": 406,
                  "title": "Federal Hill (1994)",
                  "genres": "Drama"
                },
                {
                  "movieId": 407,
                  "title": "In the Mouth of Madness (1995)",
                  "genres": "Horror|Thriller"
                },
                {
                  "movieId": 408,
                  "title": "8 Seconds (1994)",
                  "genres": "Drama"
                },
                {
                  "movieId": 409,
                  "title": "Above the Rim (1994)",
                  "genres": "Crime|Drama"
                },
                {
                  "movieId": 410,
                  "title": "Addams Family Values (1993)",
                  "genres": "Children|Comedy|Fantasy"
                },
                {
                  "movieId": 412,
                  "title": "Age of Innocence, The (1993)",
                  "genres": "Drama"
                },
                {
                  "movieId": 413,
                  "title": "Airheads (1994)",
                  "genres": "Comedy"
                },
                {
                  "movieId": 414,
                  "title": "Air Up There, The (1994)",
                  "genres": "Comedy"
                },
                {
                  "movieId": 415,
                  "title": "Another Stakeout (1993)",
                  "genres": "Comedy|Thriller"
                },
                {
                  "movieId": 416,
                  "title": "Bad Girls (1994)",
                  "genres": "Western"
                },
                {
                  "movieId": 417,
                  "title": "Barcelona (1994)",
                  "genres": "Comedy|Romance"
                },
                {
                  "movieId": 418,
                  "title": "Being Human (1993)",
                  "genres": "Drama"
                },
                {
                  "movieId": 419,
                  "title": "Beverly Hillbillies, The (1993)",
                  "genres": "Comedy"
                },
                {
                  "movieId": 420,
                  "title": "Beverly Hills Cop III (1994)",
                  "genres": "Action|Comedy|Crime|Thriller"
                },
                {
                  "movieId": 421,
                  "title": "Black Beauty (1994)",
                  "genres": "Adventure|Children|Drama"
                },
                {
                  "movieId": 422,
                  "title": "Blink (1994)",
                  "genres": "Thriller"
                },
                {
                  "movieId": 423,
                  "title": "Blown Away (1994)",
                  "genres": "Action|Thriller"
                },
                {
                  "movieId": 424,
                  "title": "Blue Chips (1994)",
                  "genres": "Drama"
                },
                {
                  "movieId": 425,
                  "title": "Blue Sky (1994)",
                  "genres": "Drama|Romance"
                },
                {
                  "movieId": 426,
                  "title": "Body Snatchers (1993)",
                  "genres": "Horror|Sci-Fi|Thriller"
                },
                {
                  "movieId": 427,
                  "title": "Boxing Helena (1993)",
                  "genres": "Drama|Mystery|Romance|Thriller"
                },
                {
                  "movieId": 428,
                  "title": "Bronx Tale, A (1993)",
                  "genres": "Drama"
                },
                {
                  "movieId": 429,
                  "title": "Cabin Boy (1994)",
                  "genres": "Comedy"
                },
                {
                  "movieId": 430,
                  "title": "Calendar Girl (1993)",
                  "genres": "Comedy|Drama"
                },
                {
                  "movieId": 431,
                  "title": "Carlito's Way (1993)",
                  "genres": "Crime|Drama"
                },
                {
                  "movieId": 432,
                  "title": "City Slickers II: The Legend of Curly's Gold (1994)",
                  "genres": "Adventure|Comedy|Western"
                },
                {
                  "movieId": 433,
                  "title": "Clean Slate (1994)",
                  "genres": "Comedy"
                },
                {
                  "movieId": 434,
                  "title": "Cliffhanger (1993)",
                  "genres": "Action|Adventure|Thriller"
                },
                {
                  "movieId": 435,
                  "title": "Coneheads (1993)",
                  "genres": "Comedy|Sci-Fi"
                },
                {
                  "movieId": 436,
                  "title": "Color of Night (1994)",
                  "genres": "Drama|Thriller"
                },
                {
                  "movieId": 437,
                  "title": "Cops and Robbersons (1994)",
                  "genres": "Comedy"
                },
                {
                  "movieId": 438,
                  "title": "Cowboy Way, The (1994)",
                  "genres": "Action|Comedy|Drama"
                },
                {
                  "movieId": 440,
                  "title": "Dave (1993)",
                  "genres": "Comedy|Romance"
                },
                {
                  "movieId": 441,
                  "title": "Dazed and Confused (1993)",
                  "genres": "Comedy"
                },
                {
                  "movieId": 442,
                  "title": "Demolition Man (1993)",
                  "genres": "Action|Adventure|Sci-Fi"
                },
                {
                  "movieId": 444,
                  "title": "Even Cowgirls Get the Blues (1993)",
                  "genres": "Comedy|Romance"
                },
                {
                  "movieId": 445,
                  "title": "Fatal Instinct (1993)",
                  "genres": "Comedy"
                },
                {
                  "movieId": 446,
                  "title": "Farewell My Concubine (Ba wang bie ji) (1993)",
                  "genres": "Drama|Romance"
                },
                {
                  "movieId": 448,
                  "title": "Fearless (1993)",
                  "genres": "Drama"
                },
                {
                  "movieId": 449,
                  "title": "Fear of a Black Hat (1994)",
                  "genres": "Comedy"
                },
                {
                  "movieId": 450,
                  "title": "With Honors (1994)",
                  "genres": "Comedy|Drama"
                },
                {
                  "movieId": 451,
                  "title": "Flesh and Bone (1993)",
                  "genres": "Drama|Mystery|Romance"
                },
                {
                  "movieId": 452,
                  "title": "Widows' Peak (1994)",
                  "genres": "Drama"
                },
                {
                  "movieId": 453,
                  "title": "For Love or Money (1993)",
                  "genres": "Comedy|Romance"
                },
                {
                  "movieId": 454,
                  "title": "Firm, The (1993)",
                  "genres": "Drama|Thriller"
                },
                {
                  "movieId": 455,
                  "title": "Free Willy (1993)",
                  "genres": "Adventure|Children|Drama"
                },
                {
                  "movieId": 456,
                  "title": "Fresh (1994)",
                  "genres": "Crime|Drama|Thriller"
                },
                {
                  "movieId": 457,
                  "title": "Fugitive, The (1993)",
                  "genres": "Thriller"
                },
                {
                  "movieId": 458,
                  "title": "Geronimo: An American Legend (1993)",
                  "genres": "Drama|Western"
                },
                {
                  "movieId": 459,
                  "title": "Getaway, The (1994)",
                  "genres": "Action|Adventure|Crime|Drama|Romance|Thriller"
                },
                {
                  "movieId": 460,
                  "title": "Getting Even with Dad (1994)",
                  "genres": "Comedy"
                },
                {
                  "movieId": 461,
                  "title": "Go Fish (1994)",
                  "genres": "Drama|Romance"
                },
                {
                  "movieId": 464,
                  "title": "Hard Target (1993)",
                  "genres": "Action|Adventure|Crime|Thriller"
                },
                {
                  "movieId": 466,
                  "title": "Hot Shots! Part Deux (1993)",
                  "genres": "Action|Comedy|War"
                },
                {
                  "movieId": 467,
                  "title": "Live Nude Girls (1995)",
                  "genres": "Comedy"
                },
                {
                  "movieId": 468,
                  "title": "Englishman Who Went Up a Hill But Came Down a Mountain, The (1995)",
                  "genres": "Comedy|Romance"
                },
                {
                  "movieId": 469,
                  "title": "House of the Spirits, The (1993)",
                  "genres": "Drama|Romance"
                },
                {
                  "movieId": 470,
                  "title": "House Party 3 (1994)",
                  "genres": "Comedy"
                },
                {
                  "movieId": 471,
                  "title": "Hudsucker Proxy, The (1994)",
                  "genres": "Comedy"
                },
                {
                  "movieId": 472,
                  "title": "I'll Do Anything (1994)",
                  "genres": "Comedy|Drama"
                },
                {
                  "movieId": 473,
                  "title": "In the Army Now (1994)",
                  "genres": "Comedy|War"
                },
                {
                  "movieId": 474,
                  "title": "In the Line of Fire (1993)",
                  "genres": "Action|Thriller"
                },
                {
                  "movieId": 475,
                  "title": "In the Name of the Father (1993)",
                  "genres": "Drama"
                },
                {
                  "movieId": 476,
                  "title": "Inkwell, The (1994)",
                  "genres": "Comedy|Drama"
                },
                {
                  "movieId": 477,
                  "title": "What's Love Got to Do with It? (1993)",
                  "genres": "Drama|Musical"
                },
                {
                  "movieId": 478,
                  "title": "Jimmy Hollywood (1994)",
                  "genres": "Comedy|Crime|Drama"
                },
                {
                  "movieId": 479,
                  "title": "Judgment Night (1993)",
                  "genres": "Action|Crime|Thriller"
                },
                {
                  "movieId": 480,
                  "title": "Jurassic Park (1993)",
                  "genres": "Action|Adventure|Sci-Fi|Thriller"
                },
                {
                  "movieId": 481,
                  "title": "Kalifornia (1993)",
                  "genres": "Drama|Thriller"
                },
                {
                  "movieId": 482,
                  "title": "Killing Zoe (1994)",
                  "genres": "Crime|Drama|Thriller"
                },
                {
                  "movieId": 484,
                  "title": "Lassie (1994)",
                  "genres": "Adventure|Children"
                },
                {
                  "movieId": 485,
                  "title": "Last Action Hero (1993)",
                  "genres": "Action|Adventure|Comedy|Fantasy"
                },
                {
                  "movieId": 486,
                  "title": "Life with Mikey (1993)",
                  "genres": "Comedy"
                },
                {
                  "movieId": 487,
                  "title": "Lightning Jack (1994)",
                  "genres": "Comedy|Western"
                },
                {
                  "movieId": 488,
                  "title": "M. Butterfly (1993)",
                  "genres": "Drama|Romance"
                },
                {
                  "movieId": 489,
                  "title": "Made in America (1993)",
                  "genres": "Comedy"
                },
                {
                  "movieId": 490,
                  "title": "Malice (1993)",
                  "genres": "Thriller"
                },
                {
                  "movieId": 491,
                  "title": "Man Without a Face, The (1993)",
                  "genres": "Drama"
                },
                {
                  "movieId": 492,
                  "title": "Manhattan Murder Mystery (1993)",
                  "genres": "Comedy|Mystery"
                },
                {
                  "movieId": 493,
                  "title": "Menace II Society (1993)",
                  "genres": "Action|Crime|Drama"
                },
                {
                  "movieId": 494,
                  "title": "Executive Decision (1996)",
                  "genres": "Action|Adventure|Thriller"
                },
                {
                  "movieId": 495,
                  "title": "In the Realm of the Senses (Ai no corrida) (1976)",
                  "genres": "Drama"
                },
                {
                  "movieId": 496,
                  "title": "What Happened Was... (1994)",
                  "genres": "Comedy|Drama|Romance|Thriller"
                },
                {
                  "movieId": 497,
                  "title": "Much Ado About Nothing (1993)",
                  "genres": "Comedy|Romance"
                },
                {
                  "movieId": 499,
                  "title": "Mr. Wonderful (1993)",
                  "genres": "Comedy|Romance"
                },
                {
                  "movieId": 500,
                  "title": "Mrs. Doubtfire (1993)",
                  "genres": "Comedy|Drama"
                },
                {
                  "movieId": 501,
                  "title": "Naked (1993)",
                  "genres": "Drama"
                },
                {
                  "movieId": 502,
                  "title": "Next Karate Kid, The (1994)",
                  "genres": "Action|Children|Romance"
                },
                {
                  "movieId": 504,
                  "title": "No Escape (1994)",
                  "genres": "Action|Drama|Sci-Fi"
                },
                {
                  "movieId": 505,
                  "title": "North (1994)",
                  "genres": "Comedy"
                },
                {
                  "movieId": 506,
                  "title": "Orlando (1992)",
                  "genres": "Drama|Fantasy|Romance"
                },
                {
                  "movieId": 507,
                  "title": "Perfect World, A (1993)",
                  "genres": "Crime|Drama|Thriller"
                },
                {
                  "movieId": 508,
                  "title": "Philadelphia (1993)",
                  "genres": "Drama"
                },
                {
                  "movieId": 509,
                  "title": "Piano, The (1993)",
                  "genres": "Drama|Romance"
                },
                {
                  "movieId": 510,
                  "title": "Poetic Justice (1993)",
                  "genres": "Drama"
                },
                {
                  "movieId": 511,
                  "title": "Program, The (1993)",
                  "genres": "Action|Drama"
                },
                {
                  "movieId": 512,
                  "title": "Puppet Masters, The (1994)",
                  "genres": "Horror|Sci-Fi"
                },
                {
                  "movieId": 513,
                  "title": "Radioland Murders (1994)",
                  "genres": "Comedy|Mystery|Romance"
                },
                {
                  "movieId": 514,
                  "title": "Ref, The (1994)",
                  "genres": "Comedy"
                },
                {
                  "movieId": 515,
                  "title": "Remains of the Day, The (1993)",
                  "genres": "Drama|Romance"
                },
                {
                  "movieId": 516,
                  "title": "Renaissance Man (1994)",
                  "genres": "Comedy|Drama"
                },
                {
                  "movieId": 517,
                  "title": "Rising Sun (1993)",
                  "genres": "Action|Drama|Mystery"
                },
                {
                  "movieId": 518,
                  "title": "Road to Wellville, The (1994)",
                  "genres": "Comedy"
                },
                {
                  "movieId": 519,
                  "title": "RoboCop 3 (1993)",
                  "genres": "Action|Crime|Drama|Sci-Fi|Thriller"
                },
                {
                  "movieId": 520,
                  "title": "Robin Hood: Men in Tights (1993)",
                  "genres": "Comedy"
                },
                {
                  "movieId": 521,
                  "title": "Romeo Is Bleeding (1993)",
                  "genres": "Crime|Thriller"
                },
                {
                  "movieId": 522,
                  "title": "Romper Stomper (1992)",
                  "genres": "Action|Drama"
                },
                {
                  "movieId": 523,
                  "title": "Ruby in Paradise (1993)",
                  "genres": "Drama"
                },
                {
                  "movieId": 524,
                  "title": "Rudy (1993)",
                  "genres": "Drama"
                },
                {
                  "movieId": 526,
                  "title": "Savage Nights (Nuits fauves, Les) (1992)",
                  "genres": "Drama"
                },
                {
                  "movieId": 527,
                  "title": "Schindler's List (1993)",
                  "genres": "Drama|War"
                },
                {
                  "movieId": 528,
                  "title": "Scout, The (1994)",
                  "genres": "Comedy|Drama"
                },
                {
                  "movieId": 529,
                  "title": "Searching for Bobby Fischer (1993)",
                  "genres": "Drama"
                },
                {
                  "movieId": 531,
                  "title": "Secret Garden, The (1993)",
                  "genres": "Children|Drama"
                },
                {
                  "movieId": 532,
                  "title": "Serial Mom (1994)",
                  "genres": "Comedy|Crime|Horror"
                },
                {
                  "movieId": 533,
                  "title": "Shadow, The (1994)",
                  "genres": "Action|Adventure|Fantasy|Mystery"
                },
                {
                  "movieId": 534,
                  "title": "Shadowlands (1993)",
                  "genres": "Drama|Romance"
                },
                {
                  "movieId": 535,
                  "title": "Short Cuts (1993)",
                  "genres": "Drama"
                },
                {
                  "movieId": 536,
                  "title": "Simple Twist of Fate, A (1994)",
                  "genres": "Drama"
                },
                {
                  "movieId": 537,
                  "title": "Sirens (1994)",
                  "genres": "Drama"
                },
                {
                  "movieId": 538,
                  "title": "Six Degrees of Separation (1993)",
                  "genres": "Drama"
                },
                {
                  "movieId": 539,
                  "title": "Sleepless in Seattle (1993)",
                  "genres": "Comedy|Drama|Romance"
                },
                {
                  "movieId": 540,
                  "title": "Sliver (1993)",
                  "genres": "Thriller"
                },
                {
                  "movieId": 541,
                  "title": "Blade Runner (1982)",
                  "genres": "Action|Sci-Fi|Thriller"
                },
                {
                  "movieId": 542,
                  "title": "Son in Law (1993)",
                  "genres": "Comedy|Drama|Romance"
                },
                {
                  "movieId": 543,
                  "title": "So I Married an Axe Murderer (1993)",
                  "genres": "Comedy|Romance|Thriller"
                },
                {
                  "movieId": 544,
                  "title": "Striking Distance (1993)",
                  "genres": "Action|Crime"
                },
                {
                  "movieId": 546,
                  "title": "Super Mario Bros. (1993)",
                  "genres": "Action|Adventure|Children|Comedy|Fantasy|Sci-Fi"
                },
                {
                  "movieId": 547,
                  "title": "Surviving the Game (1994)",
                  "genres": "Action|Adventure|Thriller"
                },
                {
                  "movieId": 548,
                  "title": "Terminal Velocity (1994)",
                  "genres": "Action|Mystery|Thriller"
                },
                {
                  "movieId": 549,
                  "title": "Thirty-Two Short Films About Glenn Gould (1993)",
                  "genres": "Drama|Musical"
                },
                {
                  "movieId": 550,
                  "title": "Threesome (1994)",
                  "genres": "Comedy|Romance"
                },
                {
                  "movieId": 551,
                  "title": "Nightmare Before Christmas, The (1993)",
                  "genres": "Animation|Children|Fantasy|Musical"
                },
                {
                  "movieId": 552,
                  "title": "Three Musketeers, The (1993)",
                  "genres": "Action|Adventure|Comedy|Romance"
                },
                {
                  "movieId": 553,
                  "title": "Tombstone (1993)",
                  "genres": "Action|Drama|Western"
                },
                {
                  "movieId": 555,
                  "title": "True Romance (1993)",
                  "genres": "Crime|Thriller"
                },
                {
                  "movieId": 556,
                  "title": "War Room, The (1993)",
                  "genres": "Documentary"
                },
                {
                  "movieId": 558,
                  "title": "Pagemaster, The (1994)",
                  "genres": "Action|Adventure|Animation|Children|Fantasy"
                },
                {
                  "movieId": 562,
                  "title": "Welcome to the Dollhouse (1995)",
                  "genres": "Comedy|Drama"
                },
                {
                  "movieId": 563,
                  "title": "Germinal (1993)",
                  "genres": "Drama|Romance"
                },
                {
                  "movieId": 564,
                  "title": "Chasers (1994)",
                  "genres": "Comedy"
                },
                {
                  "movieId": 567,
                  "title": "Kika (1993)",
                  "genres": "Comedy|Drama"
                },
                {
                  "movieId": 568,
                  "title": "Bhaji on the Beach (1993)",
                  "genres": "Comedy|Drama"
                },
                {
                  "movieId": 569,
                  "title": "Little Big League (1994)",
                  "genres": "Comedy|Drama"
                },
                {
                  "movieId": 573,
                  "title": "Ciao, Professore! (Io speriamo che me la cavo) (1992)",
                  "genres": "Drama"
                },
                {
                  "movieId": 574,
                  "title": "Spanking the Monkey (1994)",
                  "genres": "Comedy|Drama"
                },
                {
                  "movieId": 575,
                  "title": "Little Rascals, The (1994)",
                  "genres": "Children|Comedy"
                },
                {
                  "movieId": 577,
                  "title": "Andre (1994)",
                  "genres": "Adventure|Children|Drama"
                },
                {
                  "movieId": 579,
                  "title": "Escort, The (Scorta, La) (1993)",
                  "genres": "Crime|Thriller"
                },
                {
                  "movieId": 580,
                  "title": "Princess Caraboo (1994)",
                  "genres": "Drama"
                },
                {
                  "movieId": 581,
                  "title": "Celluloid Closet, The (1995)",
                  "genres": "Documentary"
                },
                {
                  "movieId": 583,
                  "title": "Dear Diary (Caro Diario) (1994)",
                  "genres": "Comedy|Drama"
                },
                {
                  "movieId": 585,
                  "title": "Brady Bunch Movie, The (1995)",
                  "genres": "Comedy"
                },
                {
                  "movieId": 586,
                  "title": "Home Alone (1990)",
                  "genres": "Children|Comedy"
                },
                {
                  "movieId": 587,
                  "title": "Ghost (1990)",
                  "genres": "Comedy|Drama|Fantasy|Romance|Thriller"
                },
                {
                  "movieId": 588,
                  "title": "Aladdin (1992)",
                  "genres": "Adventure|Animation|Children|Comedy|Musical"
                },
                {
                  "movieId": 589,
                  "title": "Terminator 2: Judgment Day (1991)",
                  "genres": "Action|Sci-Fi"
                },
                {
                  "movieId": 590,
                  "title": "Dances with Wolves (1990)",
                  "genres": "Adventure|Drama|Western"
                },
                {
                  "movieId": 592,
                  "title": "Batman (1989)",
                  "genres": "Action|Crime|Thriller"
                },
                {
                  "movieId": 593,
                  "title": "Silence of the Lambs, The (1991)",
                  "genres": "Crime|Horror|Thriller"
                },
                {
                  "movieId": 594,
                  "title": "Snow White and the Seven Dwarfs (1937)",
                  "genres": "Animation|Children|Drama|Fantasy|Musical"
                },
                {
                  "movieId": 595,
                  "title": "Beauty and the Beast (1991)",
                  "genres": "Animation|Children|Fantasy|Musical|Romance|IMAX"
                },
                {
                  "movieId": 596,
                  "title": "Pinocchio (1940)",
                  "genres": "Animation|Children|Fantasy|Musical"
                },
                {
                  "movieId": 597,
                  "title": "Pretty Woman (1990)",
                  "genres": "Comedy|Romance"
                },
                {
                  "movieId": 599,
                  "title": "Wild Bunch, The (1969)",
                  "genres": "Adventure|Western"
                },
                {
                  "movieId": 600,
                  "title": "Love and a .45 (1994)",
                  "genres": "Action|Comedy|Crime"
                },
                {
                  "movieId": 602,
                  "title": "Great Day in Harlem, A (1994)",
                  "genres": "Documentary"
                },
                {
                  "movieId": 605,
                  "title": "One Fine Day (1996)",
                  "genres": "Drama|Romance"
                },
                {
                  "movieId": 606,
                  "title": "Candyman: Farewell to the Flesh (1995)",
                  "genres": "Fantasy|Horror"
                },
                {
                  "movieId": 608,
                  "title": "Fargo (1996)",
                  "genres": "Comedy|Crime|Drama|Thriller"
                },
                {
                  "movieId": 609,
                  "title": "Homeward Bound II: Lost in San Francisco (1996)",
                  "genres": "Adventure|Children"
                },
                {
                  "movieId": 610,
                  "title": "Heavy Metal (1981)",
                  "genres": "Action|Adventure|Animation|Horror|Sci-Fi"
                },
                {
                  "movieId": 611,
                  "title": "Hellraiser: Bloodline (1996)",
                  "genres": "Action|Horror|Sci-Fi"
                },
                {
                  "movieId": 612,
                  "title": "Pallbearer, The (1996)",
                  "genres": "Comedy"
                },
                {
                  "movieId": 613,
                  "title": "Jane Eyre (1996)",
                  "genres": "Drama|Romance"
                },
                {
                  "movieId": 615,
                  "title": "Bread and Chocolate (Pane e cioccolata) (1973)",
                  "genres": "Comedy|Drama"
                },
                {
                  "movieId": 616,
                  "title": "Aristocats, The (1970)",
                  "genres": "Animation|Children"
                },
                {
                  "movieId": 617,
                  "title": "Flower of My Secret, The (La flor de mi secreto) (1995)",
                  "genres": "Comedy|Drama"
                },
                {
                  "movieId": 618,
                  "title": "Two Much (1995)",
                  "genres": "Comedy|Romance"
                },
                {
                  "movieId": 619,
                  "title": "Ed (1996)",
                  "genres": "Comedy"
                },
                {
                  "movieId": 626,
                  "title": "Thin Line Between Love and Hate, A (1996)",
                  "genres": "Comedy"
                },
                {
                  "movieId": 627,
                  "title": "Last Supper, The (1995)",
                  "genres": "Drama|Thriller"
                },
                {
                  "movieId": 628,
                  "title": "Primal Fear (1996)",
                  "genres": "Crime|Drama|Mystery|Thriller"
                },
                {
                  "movieId": 631,
                  "title": "All Dogs Go to Heaven 2 (1996)",
                  "genres": "Adventure|Animation|Children|Fantasy|Musical|Romance"
                },
                {
                  "movieId": 632,
                  "title": "Land and Freedom (Tierra y libertad) (1995)",
                  "genres": "Drama|War"
                },
                {
                  "movieId": 633,
                  "title": "Denise Calls Up (1995)",
                  "genres": "Comedy"
                },
                {
                  "movieId": 634,
                  "title": "Theodore Rex (1995)",
                  "genres": "Comedy"
                },
                {
                  "movieId": 635,
                  "title": "Family Thing, A (1996)",
                  "genres": "Comedy|Drama"
                },
                {
                  "movieId": 636,
                  "title": "Frisk (1995)",
                  "genres": "Drama"
                },
                {
                  "movieId": 637,
                  "title": "Sgt. Bilko (1996)",
                  "genres": "Comedy"
                },
                {
                  "movieId": 638,
                  "title": "Jack and Sarah (1995)",
                  "genres": "Romance"
                },
                {
                  "movieId": 639,
                  "title": "Girl 6 (1996)",
                  "genres": "Comedy|Drama"
                },
                {
                  "movieId": 640,
                  "title": "Diabolique (1996)",
                  "genres": "Drama|Thriller"
                },
                {
                  "movieId": 645,
                  "title": "Nelly & Monsieur Arnaud (1995)",
                  "genres": "Drama"
                },
                {
                  "movieId": 647,
                  "title": "Courage Under Fire (1996)",
                  "genres": "Action|Crime|Drama|War"
                },
                {
                  "movieId": 648,
                  "title": "Mission: Impossible (1996)",
                  "genres": "Action|Adventure|Mystery|Thriller"
                },
                {
                  "movieId": 649,
                  "title": "Cold Fever (Á köldum klaka) (1995)",
                  "genres": "Comedy|Drama"
                },
                {
                  "movieId": 650,
                  "title": "Moll Flanders (1996)",
                  "genres": "Drama"
                },
                {
                  "movieId": 653,
                  "title": "Dragonheart (1996)",
                  "genres": "Action|Adventure|Fantasy"
                },
                {
                  "movieId": 656,
                  "title": "Eddie (1996)",
                  "genres": "Comedy"
                },
                {
                  "movieId": 661,
                  "title": "James and the Giant Peach (1996)",
                  "genres": "Adventure|Animation|Children|Fantasy|Musical"
                },
                {
                  "movieId": 662,
                  "title": "Fear (1996)",
                  "genres": "Thriller"
                },
                {
                  "movieId": 663,
                  "title": "Kids in the Hall: Brain Candy (1996)",
                  "genres": "Comedy"
                },
                {
                  "movieId": 665,
                  "title": "Underground (1995)",
                  "genres": "Comedy|Drama|War"
                },
                {
                  "movieId": 667,
                  "title": "Bloodsport 2 (a.k.a. Bloodsport II: The Next Kumite) (1996)",
                  "genres": "Action"
                },
                {
                  "movieId": 668,
                  "title": "Song of the Little Road (Pather Panchali) (1955)",
                  "genres": "Drama"
                },
                {
                  "movieId": 670,
                  "title": "World of Apu, The (Apur Sansar) (1959)",
                  "genres": "Drama"
                },
                {
                  "movieId": 671,
                  "title": "Mystery Science Theater 3000: The Movie (1996)",
                  "genres": "Comedy|Sci-Fi"
                },
                {
                  "movieId": 673,
                  "title": "Space Jam (1996)",
                  "genres": "Adventure|Animation|Children|Comedy|Fantasy|Sci-Fi"
                },
                {
                  "movieId": 674,
                  "title": "Barbarella (1968)",
                  "genres": "Adventure|Comedy|Sci-Fi"
                },
                {
                  "movieId": 678,
                  "title": "Some Folks Call It a Sling Blade (1993)",
                  "genres": "Drama|Thriller"
                },
                {
                  "movieId": 679,
                  "title": "Run of the Country, The (1995)",
                  "genres": "Drama"
                },
                {
                  "movieId": 680,
                  "title": "Alphaville (Alphaville, une étrange aventure de Lemmy Caution) (1965)",
                  "genres": "Drama|Mystery|Romance|Sci-Fi|Thriller"
                },
                {
                  "movieId": 685,
                  "title": "It's My Party (1996)",
                  "genres": "Drama"
                },
                {
                  "movieId": 688,
                  "title": "Operation Dumbo Drop (1995)",
                  "genres": "Action|Adventure|Comedy|War"
                },
                {
                  "movieId": 691,
                  "title": "Mrs. Winterbourne (1996)",
                  "genres": "Comedy|Romance"
                },
                {
                  "movieId": 692,
                  "title": "Solo (1996)",
                  "genres": "Action|Sci-Fi|Thriller"
                },
                {
                  "movieId": 694,
                  "title": "Substitute, The (1996)",
                  "genres": "Action|Crime|Drama"
                },
                {
                  "movieId": 695,
                  "title": "True Crime (1996)",
                  "genres": "Mystery|Thriller"
                },
                {
                  "movieId": 697,
                  "title": "Feeling Minnesota (1996)",
                  "genres": "Drama|Romance"
                },
                {
                  "movieId": 698,
                  "title": "Delta of Venus (1995)",
                  "genres": "Drama"
                },
                {
                  "movieId": 700,
                  "title": "Angus (1995)",
                  "genres": "Comedy"
                },
                {
                  "movieId": 703,
                  "title": "Boys (1996)",
                  "genres": "Drama"
                },
                {
                  "movieId": 704,
                  "title": "Quest, The (1996)",
                  "genres": "Action|Adventure"
                },
                {
                  "movieId": 706,
                  "title": "Sunset Park (1996)",
                  "genres": "Drama"
                },
                {
                  "movieId": 707,
                  "title": "Mulholland Falls (1996)",
                  "genres": "Crime|Drama|Thriller"
                },
                {
                  "movieId": 708,
                  "title": "Truth About Cats & Dogs, The (1996)",
                  "genres": "Comedy|Romance"
                },
                {
                  "movieId": 709,
                  "title": "Oliver & Company (1988)",
                  "genres": "Adventure|Animation|Children|Comedy|Musical"
                },
                {
                  "movieId": 710,
                  "title": "Celtic Pride (1996)",
                  "genres": "Comedy"
                },
                {
                  "movieId": 711,
                  "title": "Flipper (1996)",
                  "genres": "Adventure|Children"
                },
                {
                  "movieId": 714,
                  "title": "Dead Man (1995)",
                  "genres": "Drama|Mystery|Western"
                },
                {
                  "movieId": 715,
                  "title": "Horseman on the Roof, The (Hussard sur le toit, Le) (1995)",
                  "genres": "Drama|Romance"
                },
                {
                  "movieId": 718,
                  "title": "Visitors, The (Visiteurs, Les) (1993)",
                  "genres": "Comedy|Fantasy|Sci-Fi"
                },
                {
                  "movieId": 719,
                  "title": "Multiplicity (1996)",
                  "genres": "Comedy"
                },
                {
                  "movieId": 720,
                  "title": "Wallace & Gromit: The Best of Aardman Animation (1996)",
                  "genres": "Adventure|Animation|Comedy"
                },
                {
                  "movieId": 722,
                  "title": "Haunted World of Edward D. Wood Jr., The (1996)",
                  "genres": "Documentary"
                },
                {
                  "movieId": 724,
                  "title": "Craft, The (1996)",
                  "genres": "Drama|Fantasy|Horror|Thriller"
                },
                {
                  "movieId": 725,
                  "title": "Great White Hype, The (1996)",
                  "genres": "Comedy"
                },
                {
                  "movieId": 726,
                  "title": "Last Dance (1996)",
                  "genres": "Drama"
                },
                {
                  "movieId": 728,
                  "title": "Cold Comfort Farm (1995)",
                  "genres": "Comedy"
                },
                {
                  "movieId": 731,
                  "title": "Heaven's Prisoners (1996)",
                  "genres": "Crime|Thriller"
                },
                {
                  "movieId": 733,
                  "title": "Rock, The (1996)",
                  "genres": "Action|Adventure|Thriller"
                },
                {
                  "movieId": 735,
                  "title": "Cemetery Man (Dellamorte Dellamore) (1994)",
                  "genres": "Horror"
                },
                {
                  "movieId": 736,
                  "title": "Twister (1996)",
                  "genres": "Action|Adventure|Romance|Thriller"
                },
                {
                  "movieId": 737,
                  "title": "Barb Wire (1996)",
                  "genres": "Action|Sci-Fi"
                },
                {
                  "movieId": 741,
                  "title": "Ghost in the Shell (Kôkaku kidôtai) (1995)",
                  "genres": "Animation|Sci-Fi"
                },
                {
                  "movieId": 742,
                  "title": "Thinner (1996)",
                  "genres": "Horror|Thriller"
                },
                {
                  "movieId": 743,
                  "title": "Spy Hard (1996)",
                  "genres": "Comedy"
                },
                {
                  "movieId": 745,
                  "title": "Wallace & Gromit: A Close Shave (1995)",
                  "genres": "Animation|Children|Comedy"
                },
                {
                  "movieId": 747,
                  "title": "Stupids, The (1996)",
                  "genres": "Comedy"
                },
                {
                  "movieId": 748,
                  "title": "Arrival, The (1996)",
                  "genres": "Action|Sci-Fi|Thriller"
                },
                {
                  "movieId": 750,
                  "title": "Dr. Strangelove or: How I Learned to Stop Worrying and Love the Bomb (1964)",
                  "genres": "Comedy|War"
                },
                {
                  "movieId": 757,
                  "title": "Ashes of Time (Dung che sai duk) (1994)",
                  "genres": "Drama"
                },
                {
                  "movieId": 759,
                  "title": "Maya Lin: A Strong Clear Vision (1994)",
                  "genres": "Documentary"
                },
                {
                  "movieId": 760,
                  "title": "Stalingrad (1993)",
                  "genres": "Drama|War"
                },
                {
                  "movieId": 761,
                  "title": "Phantom, The (1996)",
                  "genres": "Action|Adventure"
                },
                {
                  "movieId": 762,
                  "title": "Striptease (1996)",
                  "genres": "Comedy|Crime"
                },
                {
                  "movieId": 764,
                  "title": "Heavy (1995)",
                  "genres": "Drama|Romance"
                },
                {
                  "movieId": 765,
                  "title": "Jack (1996)",
                  "genres": "Comedy|Drama"
                },
                {
                  "movieId": 766,
                  "title": "I Shot Andy Warhol (1996)",
                  "genres": "Drama"
                },
                {
                  "movieId": 773,
                  "title": "Touki Bouki (1973)",
                  "genres": "Drama"
                },
                {
                  "movieId": 775,
                  "title": "Spirits of the Dead (1968)",
                  "genres": "Horror|Mystery"
                },
                {
                  "movieId": 778,
                  "title": "Trainspotting (1996)",
                  "genres": "Comedy|Crime|Drama"
                },
                {
                  "movieId": 779,
                  "title": "'Til There Was You (1997)",
                  "genres": "Drama|Romance"
                },
                {
                  "movieId": 780,
                  "title": "Independence Day (a.k.a. ID4) (1996)",
                  "genres": "Action|Adventure|Sci-Fi|Thriller"
                },
                {
                  "movieId": 781,
                  "title": "Stealing Beauty (1996)",
                  "genres": "Drama"
                },
                {
                  "movieId": 782,
                  "title": "Fan, The (1996)",
                  "genres": "Drama|Thriller"
                },
                {
                  "movieId": 783,
                  "title": "Hunchback of Notre Dame, The (1996)",
                  "genres": "Animation|Children|Drama|Musical|Romance"
                },
                {
                  "movieId": 784,
                  "title": "Cable Guy, The (1996)",
                  "genres": "Comedy|Thriller"
                },
                {
                  "movieId": 785,
                  "title": "Kingpin (1996)",
                  "genres": "Comedy"
                },
                {
                  "movieId": 786,
                  "title": "Eraser (1996)",
                  "genres": "Action|Drama|Thriller"
                },
                {
                  "movieId": 788,
                  "title": "Nutty Professor, The (1996)",
                  "genres": "Comedy|Fantasy|Romance|Sci-Fi"
                },
                {
                  "movieId": 790,
                  "title": "Unforgettable Summer, An (Un été inoubliable) (1994)",
                  "genres": "Drama"
                },
                {
                  "movieId": 791,
                  "title": "Last Klezmer: Leopold Kozlowski, His Life and Music, The (1994)",
                  "genres": "Documentary"
                },
                {
                  "movieId": 795,
                  "title": "Somebody to Love (1994)",
                  "genres": "Drama"
                },
                {
                  "movieId": 798,
                  "title": "Daylight (1996)",
                  "genres": "Action|Adventure|Drama|Thriller"
                },
                {
                  "movieId": 799,
                  "title": "Frighteners, The (1996)",
                  "genres": "Comedy|Horror|Thriller"
                },
                {
                  "movieId": 800,
                  "title": "Lone Star (1996)",
                  "genres": "Drama|Mystery|Western"
                },
                {
                  "movieId": 801,
                  "title": "Harriet the Spy (1996)",
                  "genres": "Children|Comedy"
                },
                {
                  "movieId": 802,
                  "title": "Phenomenon (1996)",
                  "genres": "Drama|Romance"
                },
                {
                  "movieId": 803,
                  "title": "Walking and Talking (1996)",
                  "genres": "Comedy|Drama|Romance"
                },
                {
                  "movieId": 804,
                  "title": "She's the One (1996)",
                  "genres": "Comedy|Romance"
                },
                {
                  "movieId": 805,
                  "title": "Time to Kill, A (1996)",
                  "genres": "Drama|Thriller"
                },
                {
                  "movieId": 806,
                  "title": "American Buffalo (1996)",
                  "genres": "Crime|Drama"
                },
                {
                  "movieId": 808,
                  "title": "Alaska (1996)",
                  "genres": "Adventure|Children"
                },
                {
                  "movieId": 809,
                  "title": "Fled (1996)",
                  "genres": "Action|Adventure"
                },
                {
                  "movieId": 810,
                  "title": "Kazaam (1996)",
                  "genres": "Children|Comedy|Fantasy"
                },
                {
                  "movieId": 813,
                  "title": "Larger Than Life (1996)",
                  "genres": "Comedy"
                },
                {
                  "movieId": 818,
                  "title": "Very Brady Sequel, A (1996)",
                  "genres": "Comedy"
                },
                {
                  "movieId": 823,
                  "title": "Collector, The (La collectionneuse) (1967)",
                  "genres": "Drama"
                },
                {
                  "movieId": 824,
                  "title": "Kaspar Hauser (1993)",
                  "genres": "Drama|Mystery"
                },
                {
                  "movieId": 828,
                  "title": "Adventures of Pinocchio, The (1996)",
                  "genres": "Adventure|Children"
                },
                {
                  "movieId": 829,
                  "title": "Joe's Apartment (1996)",
                  "genres": "Comedy|Fantasy|Musical"
                },
                {
                  "movieId": 830,
                  "title": "First Wives Club, The (1996)",
                  "genres": "Comedy"
                },
                {
                  "movieId": 832,
                  "title": "Ransom (1996)",
                  "genres": "Crime|Thriller"
                },
                {
                  "movieId": 833,
                  "title": "High School High (1996)",
                  "genres": "Comedy"
                },
                {
                  "movieId": 835,
                  "title": "Foxfire (1996)",
                  "genres": "Drama"
                },
                {
                  "movieId": 836,
                  "title": "Chain Reaction (1996)",
                  "genres": "Action|Adventure|Thriller"
                },
                {
                  "movieId": 837,
                  "title": "Matilda (1996)",
                  "genres": "Children|Comedy|Fantasy"
                },
                {
                  "movieId": 838,
                  "title": "Emma (1996)",
                  "genres": "Comedy|Drama|Romance"
                },
                {
                  "movieId": 839,
                  "title": "Crow: City of Angels, The (1996)",
                  "genres": "Action|Thriller"
                },
                {
                  "movieId": 840,
                  "title": "House Arrest (1996)",
                  "genres": "Children|Comedy"
                },
                {
                  "movieId": 841,
                  "title": "Eyes Without a Face (Yeux sans visage, Les) (1959)",
                  "genres": "Horror"
                },
                {
                  "movieId": 842,
                  "title": "Tales from the Crypt Presents: Bordello of Blood (1996)",
                  "genres": "Comedy|Horror"
                },
                {
                  "movieId": 848,
                  "title": "Spitfire Grill, The (1996)",
                  "genres": "Drama"
                },
                {
                  "movieId": 849,
                  "title": "Escape from L.A. (1996)",
                  "genres": "Action|Adventure|Sci-Fi|Thriller"
                },
                {
                  "movieId": 851,
                  "title": "Basquiat (1996)",
                  "genres": "Drama"
                },
                {
                  "movieId": 852,
                  "title": "Tin Cup (1996)",
                  "genres": "Comedy|Drama|Romance"
                },
                {
                  "movieId": 858,
                  "title": "Godfather, The (1972)",
                  "genres": "Crime|Drama"
                },
                {
                  "movieId": 861,
                  "title": "Supercop (Police Story 3: Supercop) (Jing cha gu shi III: Chao ji jing cha) (1992)",
                  "genres": "Action|Comedy|Crime|Thriller"
                },
                {
                  "movieId": 866,
                  "title": "Bound (1996)",
                  "genres": "Crime|Drama|Romance|Thriller"
                },
                {
                  "movieId": 867,
                  "title": "Carpool (1996)",
                  "genres": "Comedy|Crime"
                },
                {
                  "movieId": 869,
                  "title": "Kansas City (1996)",
                  "genres": "Crime|Drama|Musical|Thriller"
                },
                {
                  "movieId": 870,
                  "title": "Gone Fishin' (1997)",
                  "genres": "Comedy"
                },
                {
                  "movieId": 875,
                  "title": "Nothing to Lose (1994)",
                  "genres": "Action|Crime|Drama"
                },
                {
                  "movieId": 876,
                  "title": "Supercop 2 (Project S) (Chao ji ji hua) (1993)",
                  "genres": "Action|Comedy|Crime|Thriller"
                },
                {
                  "movieId": 879,
                  "title": "Relic, The (1997)",
                  "genres": "Horror|Thriller"
                },
                {
                  "movieId": 880,
                  "title": "Island of Dr. Moreau, The (1996)",
                  "genres": "Sci-Fi|Thriller"
                },
                {
                  "movieId": 881,
                  "title": "First Kid (1996)",
                  "genres": "Children|Comedy"
                },
                {
                  "movieId": 882,
                  "title": "Trigger Effect, The (1996)",
                  "genres": "Drama|Thriller"
                },
                {
                  "movieId": 885,
                  "title": "Bogus (1996)",
                  "genres": "Children|Drama|Fantasy"
                },
                {
                  "movieId": 886,
                  "title": "Bulletproof (1996)",
                  "genres": "Action|Comedy|Crime"
                },
                {
                  "movieId": 888,
                  "title": "Land Before Time III: The Time of the Great Giving (1995)",
                  "genres": "Adventure|Animation|Children|Musical"
                },
                {
                  "movieId": 889,
                  "title": "1-900 (06) (1994)",
                  "genres": "Drama|Romance"
                },
                {
                  "movieId": 891,
                  "title": "Halloween: The Curse of Michael Myers (Halloween 6: The Curse of Michael Myers) (1995)",
                  "genres": "Horror|Thriller"
                },
                {
                  "movieId": 892,
                  "title": "Twelfth Night (1996)",
                  "genres": "Comedy|Drama|Romance"
                },
                {
                  "movieId": 893,
                  "title": "Mother Night (1996)",
                  "genres": "Drama"
                },
                {
                  "movieId": 896,
                  "title": "Wild Reeds (Les roseaux sauvages) (1994)",
                  "genres": "Drama"
                },
                {
                  "movieId": 897,
                  "title": "For Whom the Bell Tolls (1943)",
                  "genres": "Adventure|Drama|Romance|War"
                },
                {
                  "movieId": 898,
                  "title": "Philadelphia Story, The (1940)",
                  "genres": "Comedy|Drama|Romance"
                },
                {
                  "movieId": 899,
                  "title": "Singin' in the Rain (1952)",
                  "genres": "Comedy|Musical|Romance"
                },
                {
                  "movieId": 900,
                  "title": "American in Paris, An (1951)",
                  "genres": "Musical|Romance"
                },
                {
                  "movieId": 901,
                  "title": "Funny Face (1957)",
                  "genres": "Comedy|Musical"
                },
                {
                  "movieId": 902,
                  "title": "Breakfast at Tiffany's (1961)",
                  "genres": "Drama|Romance"
                },
                {
                  "movieId": 903,
                  "title": "Vertigo (1958)",
                  "genres": "Drama|Mystery|Romance|Thriller"
                },
                {
                  "movieId": 904,
                  "title": "Rear Window (1954)",
                  "genres": "Mystery|Thriller"
                },
                {
                  "movieId": 905,
                  "title": "It Happened One Night (1934)",
                  "genres": "Comedy|Romance"
                },
                {
                  "movieId": 906,
                  "title": "Gaslight (1944)",
                  "genres": "Drama|Thriller"
                },
                {
                  "movieId": 907,
                  "title": "Gay Divorcee, The (1934)",
                  "genres": "Comedy|Musical|Romance"
                },
                {
                  "movieId": 908,
                  "title": "North by Northwest (1959)",
                  "genres": "Action|Adventure|Mystery|Romance|Thriller"
                },
                {
                  "movieId": 909,
                  "title": "Apartment, The (1960)",
                  "genres": "Comedy|Drama|Romance"
                },
                {
                  "movieId": 910,
                  "title": "Some Like It Hot (1959)",
                  "genres": "Comedy|Crime"
                },
                {
                  "movieId": 911,
                  "title": "Charade (1963)",
                  "genres": "Comedy|Crime|Mystery|Romance|Thriller"
                },
                {
                  "movieId": 912,
                  "title": "Casablanca (1942)",
                  "genres": "Drama|Romance"
                },
                {
                  "movieId": 913,
                  "title": "Maltese Falcon, The (1941)",
                  "genres": "Film-Noir|Mystery"
                },
                {
                  "movieId": 914,
                  "title": "My Fair Lady (1964)",
                  "genres": "Comedy|Drama|Musical|Romance"
                },
                {
                  "movieId": 915,
                  "title": "Sabrina (1954)",
                  "genres": "Comedy|Romance"
                },
                {
                  "movieId": 916,
                  "title": "Roman Holiday (1953)",
                  "genres": "Comedy|Drama|Romance"
                },
                {
                  "movieId": 917,
                  "title": "Little Princess, The (1939)",
                  "genres": "Children|Drama"
                },
                {
                  "movieId": 918,
                  "title": "Meet Me in St. Louis (1944)",
                  "genres": "Musical"
                },
                {
                  "movieId": 919,
                  "title": "Wizard of Oz, The (1939)",
                  "genres": "Adventure|Children|Fantasy|Musical"
                },
                {
                  "movieId": 920,
                  "title": "Gone with the Wind (1939)",
                  "genres": "Drama|Romance|War"
                },
                {
                  "movieId": 921,
                  "title": "My Favorite Year (1982)",
                  "genres": "Comedy"
                },
                {
                  "movieId": 922,
                  "title": "Sunset Blvd. (a.k.a. Sunset Boulevard) (1950)",
                  "genres": "Drama|Film-Noir|Romance"
                },
                {
                  "movieId": 923,
                  "title": "Citizen Kane (1941)",
                  "genres": "Drama|Mystery"
                },
                {
                  "movieId": 924,
                  "title": "2001: A Space Odyssey (1968)",
                  "genres": "Adventure|Drama|Sci-Fi"
                },
                {
                  "movieId": 926,
                  "title": "All About Eve (1950)",
                  "genres": "Drama"
                },
                {
                  "movieId": 927,
                  "title": "Women, The (1939)",
                  "genres": "Comedy"
                },
                {
                  "movieId": 928,
                  "title": "Rebecca (1940)",
                  "genres": "Drama|Mystery|Romance|Thriller"
                },
                {
                  "movieId": 929,
                  "title": "Foreign Correspondent (1940)",
                  "genres": "Drama|Film-Noir|Mystery|Thriller"
                },
                {
                  "movieId": 930,
                  "title": "Notorious (1946)",
                  "genres": "Film-Noir|Romance|Thriller"
                },
                {
                  "movieId": 931,
                  "title": "Spellbound (1945)",
                  "genres": "Mystery|Romance|Thriller"
                },
                {
                  "movieId": 932,
                  "title": "Affair to Remember, An (1957)",
                  "genres": "Drama|Romance"
                },
                {
                  "movieId": 933,
                  "title": "To Catch a Thief (1955)",
                  "genres": "Crime|Mystery|Romance|Thriller"
                },
                {
                  "movieId": 934,
                  "title": "Father of the Bride (1950)",
                  "genres": "Comedy"
                },
                {
                  "movieId": 935,
                  "title": "Band Wagon, The (1953)",
                  "genres": "Comedy|Musical"
                },
                {
                  "movieId": 936,
                  "title": "Ninotchka (1939)",
                  "genres": "Comedy|Romance"
                },
                {
                  "movieId": 937,
                  "title": "Love in the Afternoon (1957)",
                  "genres": "Comedy|Romance"
                },
                {
                  "movieId": 938,
                  "title": "Gigi (1958)",
                  "genres": "Musical"
                },
                {
                  "movieId": 940,
                  "title": "Adventures of Robin Hood, The (1938)",
                  "genres": "Action|Adventure|Romance"
                },
                {
                  "movieId": 941,
                  "title": "Mark of Zorro, The (1940)",
                  "genres": "Adventure"
                },
                {
                  "movieId": 942,
                  "title": "Laura (1944)",
                  "genres": "Crime|Film-Noir|Mystery"
                },
                {
                  "movieId": 943,
                  "title": "Ghost and Mrs. Muir, The (1947)",
                  "genres": "Drama|Fantasy|Romance"
                },
                {
                  "movieId": 944,
                  "title": "Lost Horizon (1937)",
                  "genres": "Drama"
                },
                {
                  "movieId": 945,
                  "title": "Top Hat (1935)",
                  "genres": "Comedy|Musical|Romance"
                },
                {
                  "movieId": 946,
                  "title": "To Be or Not to Be (1942)",
                  "genres": "Comedy|Drama|War"
                },
                {
                  "movieId": 947,
                  "title": "My Man Godfrey (1936)",
                  "genres": "Comedy|Romance"
                },
                {
                  "movieId": 948,
                  "title": "Giant (1956)",
                  "genres": "Drama|Romance|Western"
                },
                {
                  "movieId": 949,
                  "title": "East of Eden (1955)",
                  "genres": "Drama"
                },
                {
                  "movieId": 950,
                  "title": "Thin Man, The (1934)",
                  "genres": "Comedy|Crime"
                },
                {
                  "movieId": 951,
                  "title": "His Girl Friday (1940)",
                  "genres": "Comedy|Romance"
                },
                {
                  "movieId": 952,
                  "title": "Around the World in 80 Days (1956)",
                  "genres": "Adventure|Comedy"
                },
                {
                  "movieId": 953,
                  "title": "It's a Wonderful Life (1946)",
                  "genres": "Children|Drama|Fantasy|Romance"
                },
                {
                  "movieId": 954,
                  "title": "Mr. Smith Goes to Washington (1939)",
                  "genres": "Drama"
                },
                {
                  "movieId": 955,
                  "title": "Bringing Up Baby (1938)",
                  "genres": "Comedy|Romance"
                },
                {
                  "movieId": 956,
                  "title": "Penny Serenade (1941)",
                  "genres": "Drama|Romance"
                },
                {
                  "movieId": 959,
                  "title": "Of Human Bondage (1934)",
                  "genres": "Drama"
                },
                {
                  "movieId": 961,
                  "title": "Little Lord Fauntleroy (1936)",
                  "genres": "Drama"
                },
                {
                  "movieId": 963,
                  "title": "Inspector General, The (1949)",
                  "genres": "Musical"
                },
                {
                  "movieId": 965,
                  "title": "39 Steps, The (1935)",
                  "genres": "Drama|Mystery|Thriller"
                },
                {
                  "movieId": 968,
                  "title": "Night of the Living Dead (1968)",
                  "genres": "Horror|Sci-Fi|Thriller"
                },
                {
                  "movieId": 969,
                  "title": "African Queen, The (1951)",
                  "genres": "Adventure|Comedy|Romance|War"
                },
                {
                  "movieId": 970,
                  "title": "Beat the Devil (1953)",
                  "genres": "Adventure|Comedy|Crime|Drama|Romance"
                },
                {
                  "movieId": 971,
                  "title": "Cat on a Hot Tin Roof (1958)",
                  "genres": "Drama"
                },
                {
                  "movieId": 973,
                  "title": "Meet John Doe (1941)",
                  "genres": "Comedy|Drama"
                },
                {
                  "movieId": 976,
                  "title": "Farewell to Arms, A (1932)",
                  "genres": "Romance|War"
                },
                {
                  "movieId": 979,
                  "title": "Nothing Personal (1995)",
                  "genres": "Drama|War"
                },
                {
                  "movieId": 981,
                  "title": "Dangerous Ground (1997)",
                  "genres": "Drama"
                },
                {
                  "movieId": 982,
                  "title": "Picnic (1955)",
                  "genres": "Drama"
                },
                {
                  "movieId": 984,
                  "title": "Pompatus of Love, The (1996)",
                  "genres": "Comedy|Drama"
                },
                {
                  "movieId": 986,
                  "title": "Fly Away Home (1996)",
                  "genres": "Adventure|Children"
                },
                {
                  "movieId": 987,
                  "title": "Bliss (1997)",
                  "genres": "Drama|Romance"
                },
                {
                  "movieId": 988,
                  "title": "Grace of My Heart (1996)",
                  "genres": "Comedy|Drama"
                },
                {
                  "movieId": 990,
                  "title": "Maximum Risk (1996)",
                  "genres": "Action|Adventure|Thriller"
                },
                {
                  "movieId": 991,
                  "title": "Michael Collins (1996)",
                  "genres": "Drama"
                },
                {
                  "movieId": 993,
                  "title": "Infinity (1996)",
                  "genres": "Drama"
                },
                {
                  "movieId": 994,
                  "title": "Big Night (1996)",
                  "genres": "Comedy|Drama"
                },
                {
                  "movieId": 996,
                  "title": "Last Man Standing (1996)",
                  "genres": "Action|Crime|Drama|Thriller"
                },
                {
                  "movieId": 998,
                  "title": "Set It Off (1996)",
                  "genres": "Action|Crime"
                },
                {
                  "movieId": 999,
                  "title": "2 Days in the Valley (1996)",
                  "genres": "Crime|Film-Noir"
                },
                {
                  "movieId": 1003,
                  "title": "Extreme Measures (1996)",
                  "genres": "Drama|Thriller"
                },
                {
                  "movieId": 1004,
                  "title": "Glimmer Man, The (1996)",
                  "genres": "Action|Thriller"
                },
                {
                  "movieId": 1005,
                  "title": "D3: The Mighty Ducks (1996)",
                  "genres": "Children|Comedy"
                },
                {
                  "movieId": 1006,
                  "title": "Chamber, The (1996)",
                  "genres": "Drama"
                },
                {
                  "movieId": 1007,
                  "title": "Apple Dumpling Gang, The (1975)",
                  "genres": "Children|Comedy|Western"
                },
                {
                  "movieId": 1008,
                  "title": "Davy Crockett, King of the Wild Frontier (1955)",
                  "genres": "Adventure|Western"
                },
                {
                  "movieId": 1009,
                  "title": "Escape to Witch Mountain (1975)",
                  "genres": "Adventure|Children|Fantasy"
                },
                {
                  "movieId": 1010,
                  "title": "Love Bug, The (1969)",
                  "genres": "Children|Comedy"
                },
                {
                  "movieId": 1011,
                  "title": "Herbie Rides Again (1974)",
                  "genres": "Children|Comedy|Fantasy|Romance"
                },
                {
                  "movieId": 1012,
                  "title": "Old Yeller (1957)",
                  "genres": "Children|Drama"
                },
                {
                  "movieId": 1013,
                  "title": "Parent Trap, The (1961)",
                  "genres": "Children|Comedy|Romance"
                },
                {
                  "movieId": 1014,
                  "title": "Pollyanna (1960)",
                  "genres": "Children|Comedy|Drama"
                },
                {
                  "movieId": 1015,
                  "title": "Homeward Bound: The Incredible Journey (1993)",
                  "genres": "Adventure|Children|Drama"
                },
                {
                  "movieId": 1016,
                  "title": "Shaggy Dog, The (1959)",
                  "genres": "Children|Comedy"
                },
                {
                  "movieId": 1017,
                  "title": "Swiss Family Robinson (1960)",
                  "genres": "Adventure|Children"
                },
                {
                  "movieId": 1018,
                  "title": "That Darn Cat! (1965)",
                  "genres": "Children|Comedy|Mystery"
                },
                {
                  "movieId": 1019,
                  "title": "20,000 Leagues Under the Sea (1954)",
                  "genres": "Adventure|Drama|Sci-Fi"
                },
                {
                  "movieId": 1020,
                  "title": "Cool Runnings (1993)",
                  "genres": "Comedy"
                },
                {
                  "movieId": 1021,
                  "title": "Angels in the Outfield (1994)",
                  "genres": "Children|Comedy"
                },
                {
                  "movieId": 1022,
                  "title": "Cinderella (1950)",
                  "genres": "Animation|Children|Fantasy|Musical|Romance"
                },
                {
                  "movieId": 1023,
                  "title": "Winnie the Pooh and the Blustery Day (1968)",
                  "genres": "Animation|Children|Musical"
                },
                {
                  "movieId": 1024,
                  "title": "Three Caballeros, The (1945)",
                  "genres": "Animation|Children|Musical"
                },
                {
                  "movieId": 1025,
                  "title": "Sword in the Stone, The (1963)",
                  "genres": "Animation|Children|Fantasy|Musical"
                },
                {
                  "movieId": 1027,
                  "title": "Robin Hood: Prince of Thieves (1991)",
                  "genres": "Adventure|Drama"
                },
                {
                  "movieId": 1028,
                  "title": "Mary Poppins (1964)",
                  "genres": "Children|Comedy|Fantasy|Musical"
                },
                {
                  "movieId": 1029,
                  "title": "Dumbo (1941)",
                  "genres": "Animation|Children|Drama|Musical"
                },
                {
                  "movieId": 1030,
                  "title": "Pete's Dragon (1977)",
                  "genres": "Adventure|Animation|Children|Musical"
                },
                {
                  "movieId": 1031,
                  "title": "Bedknobs and Broomsticks (1971)",
                  "genres": "Adventure|Children|Musical"
                },
                {
                  "movieId": 1032,
                  "title": "Alice in Wonderland (1951)",
                  "genres": "Adventure|Animation|Children|Fantasy|Musical"
                },
                {
                  "movieId": 1033,
                  "title": "Fox and the Hound, The (1981)",
                  "genres": "Animation|Children|Drama"
                },
                {
                  "movieId": 1034,
                  "title": "Freeway (1996)",
                  "genres": "Comedy|Crime|Drama|Thriller"
                },
                {
                  "movieId": 1035,
                  "title": "Sound of Music, The (1965)",
                  "genres": "Musical|Romance"
                },
                {
                  "movieId": 1036,
                  "title": "Die Hard (1988)",
                  "genres": "Action|Crime|Thriller"
                },
                {
                  "movieId": 1037,
                  "title": "Lawnmower Man, The (1992)",
                  "genres": "Action|Horror|Sci-Fi|Thriller"
                },
                {
                  "movieId": 1040,
                  "title": "Secret Agent, The (1996)",
                  "genres": "Drama"
                },
                {
                  "movieId": 1041,
                  "title": "Secrets & Lies (1996)",
                  "genres": "Drama"
                },
                {
                  "movieId": 1042,
                  "title": "That Thing You Do! (1996)",
                  "genres": "Comedy|Drama"
                },
                {
                  "movieId": 1043,
                  "title": "To Gillian on Her 37th Birthday (1996)",
                  "genres": "Drama|Romance"
                },
                {
                  "movieId": 1046,
                  "title": "Beautiful Thing (1996)",
                  "genres": "Drama|Romance"
                },
                {
                  "movieId": 1047,
                  "title": "Long Kiss Goodnight, The (1996)",
                  "genres": "Action|Drama|Thriller"
                },
                {
                  "movieId": 1049,
                  "title": "Ghost and the Darkness, The (1996)",
                  "genres": "Action|Adventure"
                },
                {
                  "movieId": 1050,
                  "title": "Looking for Richard (1996)",
                  "genres": "Documentary|Drama"
                },
                {
                  "movieId": 1051,
                  "title": "Trees Lounge (1996)",
                  "genres": "Drama"
                },
                {
                  "movieId": 1053,
                  "title": "Normal Life (1996)",
                  "genres": "Crime|Drama|Romance"
                },
                {
                  "movieId": 1054,
                  "title": "Get on the Bus (1996)",
                  "genres": "Drama"
                },
                {
                  "movieId": 1055,
                  "title": "Shadow Conspiracy (1997)",
                  "genres": "Thriller"
                },
                {
                  "movieId": 1056,
                  "title": "Jude (1996)",
                  "genres": "Drama"
                },
                {
                  "movieId": 1057,
                  "title": "Everyone Says I Love You (1996)",
                  "genres": "Comedy|Musical|Romance"
                },
                {
                  "movieId": 1059,
                  "title": "William Shakespeare's Romeo + Juliet (1996)",
                  "genres": "Drama|Romance"
                },
                {
                  "movieId": 1060,
                  "title": "Swingers (1996)",
                  "genres": "Comedy|Drama"
                },
                {
                  "movieId": 1061,
                  "title": "Sleepers (1996)",
                  "genres": "Thriller"
                },
                {
                  "movieId": 1064,
                  "title": "Aladdin and the King of Thieves (1996)",
                  "genres": "Animation|Children|Comedy|Fantasy|Musical|Romance"
                },
                {
                  "movieId": 1066,
                  "title": "Shall We Dance (1937)",
                  "genres": "Comedy|Musical|Romance"
                },
                {
                  "movieId": 1068,
                  "title": "Crossfire (1947)",
                  "genres": "Crime|Film-Noir"
                },
                {
                  "movieId": 1073,
                  "title": "Willy Wonka & the Chocolate Factory (1971)",
                  "genres": "Children|Comedy|Fantasy|Musical"
                },
                {
                  "movieId": 1076,
                  "title": "Innocents, The (1961)",
                  "genres": "Drama|Horror|Thriller"
                },
                {
                  "movieId": 1077,
                  "title": "Sleeper (1973)",
                  "genres": "Comedy|Sci-Fi"
                },
                {
                  "movieId": 1078,
                  "title": "Bananas (1971)",
                  "genres": "Comedy|War"
                },
                {
                  "movieId": 1079,
                  "title": "Fish Called Wanda, A (1988)",
                  "genres": "Comedy|Crime"
                },
                {
                  "movieId": 1080,
                  "title": "Monty Python's Life of Brian (1979)",
                  "genres": "Comedy"
                },
                {
                  "movieId": 1081,
                  "title": "Victor/Victoria (1982)",
                  "genres": "Comedy|Musical|Romance"
                },
                {
                  "movieId": 1082,
                  "title": "Candidate, The (1972)",
                  "genres": "Drama"
                },
                {
                  "movieId": 1083,
                  "title": "Great Race, The (1965)",
                  "genres": "Comedy|Musical"
                },
                {
                  "movieId": 1084,
                  "title": "Bonnie and Clyde (1967)",
                  "genres": "Crime|Drama"
                },
                {
                  "movieId": 1085,
                  "title": "Old Man and the Sea, The (1958)",
                  "genres": "Adventure|Drama"
                },
                {
                  "movieId": 1086,
                  "title": "Dial M for Murder (1954)",
                  "genres": "Crime|Mystery|Thriller"
                },
                {
                  "movieId": 1088,
                  "title": "Dirty Dancing (1987)",
                  "genres": "Drama|Musical|Romance"
                },
                {
                  "movieId": 1089,
                  "title": "Reservoir Dogs (1992)",
                  "genres": "Crime|Mystery|Thriller"
                },
                {
                  "movieId": 1090,
                  "title": "Platoon (1986)",
                  "genres": "Drama|War"
                },
                {
                  "movieId": 1091,
                  "title": "Weekend at Bernie's (1989)",
                  "genres": "Comedy"
                },
                {
                  "movieId": 1092,
                  "title": "Basic Instinct (1992)",
                  "genres": "Crime|Mystery|Thriller"
                },
                {
                  "movieId": 1093,
                  "title": "Doors, The (1991)",
                  "genres": "Drama"
                },
                {
                  "movieId": 1094,
                  "title": "Crying Game, The (1992)",
                  "genres": "Drama|Romance|Thriller"
                },
                {
                  "movieId": 1095,
                  "title": "Glengarry Glen Ross (1992)",
                  "genres": "Drama"
                },
                {
                  "movieId": 1096,
                  "title": "Sophie's Choice (1982)",
                  "genres": "Drama"
                },
                {
                  "movieId": 1097,
                  "title": "E.T. the Extra-Terrestrial (1982)",
                  "genres": "Children|Drama|Sci-Fi"
                },
                {
                  "movieId": 1099,
                  "title": "Christmas Carol, A (1938)",
                  "genres": "Children|Drama|Fantasy"
                },
                {
                  "movieId": 1100,
                  "title": "Days of Thunder (1990)",
                  "genres": "Action|Drama|Romance"
                },
                {
                  "movieId": 1101,
                  "title": "Top Gun (1986)",
                  "genres": "Action|Romance"
                },
                {
                  "movieId": 1103,
                  "title": "Rebel Without a Cause (1955)",
                  "genres": "Drama"
                },
                {
                  "movieId": 1104,
                  "title": "Streetcar Named Desire, A (1951)",
                  "genres": "Drama"
                },
                {
                  "movieId": 1105,
                  "title": "Children of the Corn IV: The Gathering (1996)",
                  "genres": "Horror"
                },
                {
                  "movieId": 1107,
                  "title": "Loser (1991)",
                  "genres": "Comedy"
                },
                {
                  "movieId": 1111,
                  "title": "Microcosmos (Microcosmos: Le peuple de l'herbe) (1996)",
                  "genres": "Documentary"
                },
                {
                  "movieId": 1112,
                  "title": "Palookaville (1996)",
                  "genres": "Action|Comedy|Drama"
                },
                {
                  "movieId": 1114,
                  "title": "Funeral, The (1996)",
                  "genres": "Crime|Drama"
                },
                {
                  "movieId": 1116,
                  "title": "Single Girl, A (Fille seule, La) (1995)",
                  "genres": "Drama"
                },
                {
                  "movieId": 1117,
                  "title": "Eighth Day, The (Huitième jour, Le) (1996)",
                  "genres": "Drama"
                },
                {
                  "movieId": 1119,
                  "title": "Drunks (1995)",
                  "genres": "Drama"
                },
                {
                  "movieId": 1120,
                  "title": "People vs. Larry Flynt, The (1996)",
                  "genres": "Comedy|Drama"
                },
                {
                  "movieId": 1121,
                  "title": "Glory Daze (1995)",
                  "genres": "Drama"
                },
                {
                  "movieId": 1123,
                  "title": "Perfect Candidate, A (1996)",
                  "genres": "Documentary"
                },
                {
                  "movieId": 1124,
                  "title": "On Golden Pond (1981)",
                  "genres": "Drama"
                },
                {
                  "movieId": 1125,
                  "title": "Return of the Pink Panther, The (1975)",
                  "genres": "Comedy|Crime"
                },
                {
                  "movieId": 1126,
                  "title": "Drop Dead Fred (1991)",
                  "genres": "Comedy|Fantasy"
                },
                {
                  "movieId": 1127,
                  "title": "Abyss, The (1989)",
                  "genres": "Action|Adventure|Sci-Fi|Thriller"
                },
                {
                  "movieId": 1128,
                  "title": "Fog, The (1980)",
                  "genres": "Horror"
                },
                {
                  "movieId": 1129,
                  "title": "Escape from New York (1981)",
                  "genres": "Action|Adventure|Sci-Fi|Thriller"
                },
                {
                  "movieId": 1130,
                  "title": "Howling, The (1980)",
                  "genres": "Horror|Mystery"
                },
                {
                  "movieId": 1131,
                  "title": "Jean de Florette (1986)",
                  "genres": "Drama|Mystery"
                },
                {
                  "movieId": 1132,
                  "title": "Manon of the Spring (Manon des sources) (1986)",
                  "genres": "Drama"
                },
                {
                  "movieId": 1135,
                  "title": "Private Benjamin (1980)",
                  "genres": "Comedy"
                },
                {
                  "movieId": 1136,
                  "title": "Monty Python and the Holy Grail (1975)",
                  "genres": "Adventure|Comedy|Fantasy"
                },
                {
                  "movieId": 1137,
                  "title": "Hustler White (1996)",
                  "genres": "Romance"
                },
                {
                  "movieId": 1140,
                  "title": "Entertaining Angels: The Dorothy Day Story (1996)",
                  "genres": "Drama"
                },
                {
                  "movieId": 1144,
                  "title": "Line King: The Al Hirschfeld Story, The (1996)",
                  "genres": "Documentary"
                },
                {
                  "movieId": 1147,
                  "title": "When We Were Kings (1996)",
                  "genres": "Documentary"
                },
                {
                  "movieId": 1148,
                  "title": "Wallace & Gromit: The Wrong Trousers (1993)",
                  "genres": "Animation|Children|Comedy|Crime"
                },
                {
                  "movieId": 1150,
                  "title": "Return of Martin Guerre, The (Retour de Martin Guerre, Le) (1982)",
                  "genres": "Drama"
                },
                {
                  "movieId": 1151,
                  "title": "Lesson Faust (1994)",
                  "genres": "Animation|Comedy|Drama|Fantasy"
                },
                {
                  "movieId": 1156,
                  "title": "Children Are Watching Us, The (Bambini ci guardano, I) (1944)",
                  "genres": "Drama"
                },
                {
                  "movieId": 1161,
                  "title": "Tin Drum, The (Blechtrommel, Die) (1979)",
                  "genres": "Drama|War"
                },
                {
                  "movieId": 1162,
                  "title": "Ruling Class, The (1972)",
                  "genres": "Comedy|Drama"
                },
                {
                  "movieId": 1163,
                  "title": "Mina Tannenbaum (1994)",
                  "genres": "Drama"
                },
                {
                  "movieId": 1167,
                  "title": "Dear God (1996)",
                  "genres": "Comedy"
                },
                {
                  "movieId": 1170,
                  "title": "Best of the Best 3: No Turning Back (1995)",
                  "genres": "Action"
                },
                {
                  "movieId": 1171,
                  "title": "Bob Roberts (1992)",
                  "genres": "Comedy"
                },
                {
                  "movieId": 1172,
                  "title": "Cinema Paradiso (Nuovo cinema Paradiso) (1989)",
                  "genres": "Drama"
                },
                {
                  "movieId": 1173,
                  "title": "Cook the Thief His Wife & Her Lover, The (1989)",
                  "genres": "Comedy|Drama"
                },
                {
                  "movieId": 1175,
                  "title": "Delicatessen (1991)",
                  "genres": "Comedy|Drama|Romance"
                },
                {
                  "movieId": 1176,
                  "title": "Double Life of Veronique, The (Double Vie de Véronique, La) (1991)",
                  "genres": "Drama|Fantasy|Romance"
                },
                {
                  "movieId": 1177,
                  "title": "Enchanted April (1992)",
                  "genres": "Drama|Romance"
                },
                {
                  "movieId": 1178,
                  "title": "Paths of Glory (1957)",
                  "genres": "Drama|War"
                },
                {
                  "movieId": 1179,
                  "title": "Grifters, The (1990)",
                  "genres": "Crime|Drama|Film-Noir"
                },
                {
                  "movieId": 1180,
                  "title": "Hear My Song (1991)",
                  "genres": "Comedy"
                },
                {
                  "movieId": 1183,
                  "title": "English Patient, The (1996)",
                  "genres": "Drama|Romance|War"
                },
                {
                  "movieId": 1184,
                  "title": "Mediterraneo (1991)",
                  "genres": "Comedy|Drama"
                },
                {
                  "movieId": 1185,
                  "title": "My Left Foot (1989)",
                  "genres": "Drama"
                },
                {
                  "movieId": 1186,
                  "title": "Sex, Lies, and Videotape (1989)",
                  "genres": "Drama"
                },
                {
                  "movieId": 1187,
                  "title": "Passion Fish (1992)",
                  "genres": "Drama"
                },
                {
                  "movieId": 1188,
                  "title": "Strictly Ballroom (1992)",
                  "genres": "Comedy|Romance"
                },
                {
                  "movieId": 1189,
                  "title": "Thin Blue Line, The (1988)",
                  "genres": "Documentary"
                },
                {
                  "movieId": 1190,
                  "title": "Tie Me Up! Tie Me Down! (¡Átame!) (1990)",
                  "genres": "Crime|Drama|Romance"
                },
                {
                  "movieId": 1191,
                  "title": "Madonna: Truth or Dare (1991)",
                  "genres": "Documentary|Musical"
                },
                {
                  "movieId": 1192,
                  "title": "Paris Is Burning (1990)",
                  "genres": "Documentary"
                },
                {
                  "movieId": 1193,
                  "title": "One Flew Over the Cuckoo's Nest (1975)",
                  "genres": "Drama"
                },
                {
                  "movieId": 1194,
                  "title": "Cheech and Chong's Up in Smoke (1978)",
                  "genres": "Comedy"
                },
                {
                  "movieId": 1196,
                  "title": "Star Wars: Episode V - The Empire Strikes Back (1980)",
                  "genres": "Action|Adventure|Sci-Fi"
                },
                {
                  "movieId": 1197,
                  "title": "Princess Bride, The (1987)",
                  "genres": "Action|Adventure|Comedy|Fantasy|Romance"
                },
                {
                  "movieId": 1198,
                  "title": "Raiders of the Lost Ark (Indiana Jones and the Raiders of the Lost Ark) (1981)",
                  "genres": "Action|Adventure"
                },
                {
                  "movieId": 1199,
                  "title": "Brazil (1985)",
                  "genres": "Fantasy|Sci-Fi"
                },
                {
                  "movieId": 1200,
                  "title": "Aliens (1986)",
                  "genres": "Action|Adventure|Horror|Sci-Fi"
                },
                {
                  "movieId": 1201,
                  "title": "Good, the Bad and the Ugly, The (Buono, il brutto, il cattivo, Il) (1966)",
                  "genres": "Action|Adventure|Western"
                },
                {
                  "movieId": 1202,
                  "title": "Withnail & I (1987)",
                  "genres": "Comedy"
                },
                {
                  "movieId": 1203,
                  "title": "12 Angry Men (1957)",
                  "genres": "Drama"
                },
                {
                  "movieId": 1204,
                  "title": "Lawrence of Arabia (1962)",
                  "genres": "Adventure|Drama|War"
                },
                {
                  "movieId": 1206,
                  "title": "Clockwork Orange, A (1971)",
                  "genres": "Crime|Drama|Sci-Fi|Thriller"
                },
                {
                  "movieId": 1207,
                  "title": "To Kill a Mockingbird (1962)",
                  "genres": "Drama"
                },
                {
                  "movieId": 1208,
                  "title": "Apocalypse Now (1979)",
                  "genres": "Action|Drama|War"
                },
                {
                  "movieId": 1209,
                  "title": "Once Upon a Time in the West (C'era una volta il West) (1968)",
                  "genres": "Action|Drama|Western"
                },
                {
                  "movieId": 1210,
                  "title": "Star Wars: Episode VI - Return of the Jedi (1983)",
                  "genres": "Action|Adventure|Sci-Fi"
                },
                {
                  "movieId": 1211,
                  "title": "Wings of Desire (Himmel über Berlin, Der) (1987)",
                  "genres": "Drama|Fantasy|Romance"
                },
                {
                  "movieId": 1212,
                  "title": "Third Man, The (1949)",
                  "genres": "Film-Noir|Mystery|Thriller"
                },
                {
                  "movieId": 1213,
                  "title": "Goodfellas (1990)",
                  "genres": "Crime|Drama"
                },
                {
                  "movieId": 1214,
                  "title": "Alien (1979)",
                  "genres": "Horror|Sci-Fi"
                },
                {
                  "movieId": 1215,
                  "title": "Army of Darkness (1993)",
                  "genres": "Action|Adventure|Comedy|Fantasy|Horror"
                },
                {
                  "movieId": 1216,
                  "title": "Big Blue, The (Grand bleu, Le) (1988)",
                  "genres": "Adventure|Drama|Romance"
                },
                {
                  "movieId": 1217,
                  "title": "Ran (1985)",
                  "genres": "Drama|War"
                },
                {
                  "movieId": 1218,
                  "title": "Killer, The (Die xue shuang xiong) (1989)",
                  "genres": "Action|Crime|Drama|Thriller"
                },
                {
                  "movieId": 1219,
                  "title": "Psycho (1960)",
                  "genres": "Crime|Horror"
                },
                {
                  "movieId": 1220,
                  "title": "Blues Brothers, The (1980)",
                  "genres": "Action|Comedy|Musical"
                },
                {
                  "movieId": 1221,
                  "title": "Godfather: Part II, The (1974)",
                  "genres": "Crime|Drama"
                },
                {
                  "movieId": 1222,
                  "title": "Full Metal Jacket (1987)",
                  "genres": "Drama|War"
                },
                {
                  "movieId": 1223,
                  "title": "Grand Day Out with Wallace and Gromit, A (1989)",
                  "genres": "Adventure|Animation|Children|Comedy|Sci-Fi"
                },
                {
                  "movieId": 1224,
                  "title": "Henry V (1989)",
                  "genres": "Action|Drama|Romance|War"
                },
                {
                  "movieId": 1225,
                  "title": "Amadeus (1984)",
                  "genres": "Drama"
                },
                {
                  "movieId": 1226,
                  "title": "Quiet Man, The (1952)",
                  "genres": "Drama|Romance"
                },
                {
                  "movieId": 1227,
                  "title": "Once Upon a Time in America (1984)",
                  "genres": "Crime|Drama"
                },
                {
                  "movieId": 1228,
                  "title": "Raging Bull (1980)",
                  "genres": "Drama"
                },
                {
                  "movieId": 1230,
                  "title": "Annie Hall (1977)",
                  "genres": "Comedy|Romance"
                },
                {
                  "movieId": 1231,
                  "title": "Right Stuff, The (1983)",
                  "genres": "Drama"
                },
                {
                  "movieId": 1232,
                  "title": "Stalker (1979)",
                  "genres": "Drama|Mystery|Sci-Fi"
                },
                {
                  "movieId": 1233,
                  "title": "Boot, Das (Boat, The) (1981)",
                  "genres": "Action|Drama|War"
                },
                {
                  "movieId": 1234,
                  "title": "Sting, The (1973)",
                  "genres": "Comedy|Crime"
                },
                {
                  "movieId": 1235,
                  "title": "Harold and Maude (1971)",
                  "genres": "Comedy|Drama|Romance"
                },
                {
                  "movieId": 1236,
                  "title": "Trust (1990)",
                  "genres": "Comedy|Drama|Romance"
                },
                {
                  "movieId": 1237,
                  "title": "Seventh Seal, The (Sjunde inseglet, Det) (1957)",
                  "genres": "Drama"
                },
                {
                  "movieId": 1238,
                  "title": "Local Hero (1983)",
                  "genres": "Comedy"
                },
                {
                  "movieId": 1240,
                  "title": "Terminator, The (1984)",
                  "genres": "Action|Sci-Fi|Thriller"
                },
                {
                  "movieId": 1241,
                  "title": "Dead Alive (Braindead) (1992)",
                  "genres": "Comedy|Fantasy|Horror"
                },
                {
                  "movieId": 1242,
                  "title": "Glory (1989)",
                  "genres": "Drama|War"
                },
                {
                  "movieId": 1243,
                  "title": "Rosencrantz and Guildenstern Are Dead (1990)",
                  "genres": "Comedy|Drama"
                },
                {
                  "movieId": 1244,
                  "title": "Manhattan (1979)",
                  "genres": "Comedy|Drama|Romance"
                },
                {
                  "movieId": 1245,
                  "title": "Miller's Crossing (1990)",
                  "genres": "Crime|Drama|Film-Noir|Thriller"
                },
                {
                  "movieId": 1246,
                  "title": "Dead Poets Society (1989)",
                  "genres": "Drama"
                },
                {
                  "movieId": 1247,
                  "title": "Graduate, The (1967)",
                  "genres": "Comedy|Drama|Romance"
                },
                {
                  "movieId": 1248,
                  "title": "Touch of Evil (1958)",
                  "genres": "Crime|Film-Noir|Thriller"
                },
                {
                  "movieId": 1249,
                  "title": "Femme Nikita, La (Nikita) (1990)",
                  "genres": "Action|Crime|Romance|Thriller"
                },
                {
                  "movieId": 1250,
                  "title": "Bridge on the River Kwai, The (1957)",
                  "genres": "Adventure|Drama|War"
                },
                {
                  "movieId": 1251,
                  "title": "8 1/2 (8½) (1963)",
                  "genres": "Drama|Fantasy"
                },
                {
                  "movieId": 1252,
                  "title": "Chinatown (1974)",
                  "genres": "Crime|Film-Noir|Mystery|Thriller"
                },
                {
                  "movieId": 1253,
                  "title": "Day the Earth Stood Still, The (1951)",
                  "genres": "Drama|Sci-Fi|Thriller"
                },
                {
                  "movieId": 1254,
                  "title": "Treasure of the Sierra Madre, The (1948)",
                  "genres": "Action|Adventure|Drama|Western"
                },
                {
                  "movieId": 1255,
                  "title": "Bad Taste (1987)",
                  "genres": "Comedy|Horror|Sci-Fi"
                },
                {
                  "movieId": 1256,
                  "title": "Duck Soup (1933)",
                  "genres": "Comedy|Musical|War"
                },
                {
                  "movieId": 1257,
                  "title": "Better Off Dead... (1985)",
                  "genres": "Comedy|Romance"
                },
                {
                  "movieId": 1258,
                  "title": "Shining, The (1980)",
                  "genres": "Horror"
                },
                {
                  "movieId": 1259,
                  "title": "Stand by Me (1986)",
                  "genres": "Adventure|Drama"
                },
                {
                  "movieId": 1260,
                  "title": "M (1931)",
                  "genres": "Crime|Film-Noir|Thriller"
                },
                {
                  "movieId": 1261,
                  "title": "Evil Dead II (Dead by Dawn) (1987)",
                  "genres": "Action|Comedy|Fantasy|Horror"
                },
                {
                  "movieId": 1262,
                  "title": "Great Escape, The (1963)",
                  "genres": "Action|Adventure|Drama|War"
                },
                {
                  "movieId": 1263,
                  "title": "Deer Hunter, The (1978)",
                  "genres": "Drama|War"
                },
                {
                  "movieId": 1264,
                  "title": "Diva (1981)",
                  "genres": "Action|Drama|Mystery|Romance|Thriller"
                },
                {
                  "movieId": 1265,
                  "title": "Groundhog Day (1993)",
                  "genres": "Comedy|Fantasy|Romance"
                },
                {
                  "movieId": 1266,
                  "title": "Unforgiven (1992)",
                  "genres": "Drama|Western"
                },
                {
                  "movieId": 1267,
                  "title": "Manchurian Candidate, The (1962)",
                  "genres": "Crime|Thriller|War"
                },
                {
                  "movieId": 1268,
                  "title": "Pump Up the Volume (1990)",
                  "genres": "Comedy|Drama"
                },
                {
                  "movieId": 1269,
                  "title": "Arsenic and Old Lace (1944)",
                  "genres": "Comedy|Mystery|Thriller"
                },
                {
                  "movieId": 1270,
                  "title": "Back to the Future (1985)",
                  "genres": "Adventure|Comedy|Sci-Fi"
                },
                {
                  "movieId": 1271,
                  "title": "Fried Green Tomatoes (1991)",
                  "genres": "Comedy|Crime|Drama"
                },
                {
                  "movieId": 1272,
                  "title": "Patton (1970)",
                  "genres": "Drama|War"
                },
                {
                  "movieId": 1273,
                  "title": "Down by Law (1986)",
                  "genres": "Comedy|Drama|Film-Noir"
                },
                {
                  "movieId": 1274,
                  "title": "Akira (1988)",
                  "genres": "Action|Adventure|Animation|Sci-Fi"
                },
                {
                  "movieId": 1275,
                  "title": "Highlander (1986)",
                  "genres": "Action|Adventure|Fantasy"
                },
                {
                  "movieId": 1276,
                  "title": "Cool Hand Luke (1967)",
                  "genres": "Drama"
                },
                {
                  "movieId": 1277,
                  "title": "Cyrano de Bergerac (1990)",
                  "genres": "Comedy|Drama|Romance"
                },
                {
                  "movieId": 1278,
                  "title": "Young Frankenstein (1974)",
                  "genres": "Comedy|Fantasy"
                },
                {
                  "movieId": 1279,
                  "title": "Night on Earth (1991)",
                  "genres": "Comedy|Drama"
                },
                {
                  "movieId": 1280,
                  "title": "Raise the Red Lantern (Da hong deng long gao gao gua) (1991)",
                  "genres": "Drama"
                },
                {
                  "movieId": 1281,
                  "title": "Great Dictator, The (1940)",
                  "genres": "Comedy|Drama|War"
                },
                {
                  "movieId": 1282,
                  "title": "Fantasia (1940)",
                  "genres": "Animation|Children|Fantasy|Musical"
                },
                {
                  "movieId": 1283,
                  "title": "High Noon (1952)",
                  "genres": "Drama|Western"
                },
                {
                  "movieId": 1284,
                  "title": "Big Sleep, The (1946)",
                  "genres": "Crime|Film-Noir|Mystery"
                },
                {
                  "movieId": 1285,
                  "title": "Heathers (1989)",
                  "genres": "Comedy"
                },
                {
                  "movieId": 1286,
                  "title": "Somewhere in Time (1980)",
                  "genres": "Drama|Romance"
                },
                {
                  "movieId": 1287,
                  "title": "Ben-Hur (1959)",
                  "genres": "Action|Adventure|Drama"
                },
                {
                  "movieId": 1288,
                  "title": "This Is Spinal Tap (1984)",
                  "genres": "Comedy"
                },
                {
                  "movieId": 1289,
                  "title": "Koyaanisqatsi (a.k.a. Koyaanisqatsi: Life Out of Balance) (1983)",
                  "genres": "Documentary"
                },
                {
                  "movieId": 1290,
                  "title": "Some Kind of Wonderful (1987)",
                  "genres": "Drama|Romance"
                },
                {
                  "movieId": 1291,
                  "title": "Indiana Jones and the Last Crusade (1989)",
                  "genres": "Action|Adventure"
                },
                {
                  "movieId": 1292,
                  "title": "Being There (1979)",
                  "genres": "Comedy|Drama"
                },
                {
                  "movieId": 1293,
                  "title": "Gandhi (1982)",
                  "genres": "Drama"
                },
                {
                  "movieId": 1295,
                  "title": "Unbearable Lightness of Being, The (1988)",
                  "genres": "Drama"
                },
                {
                  "movieId": 1296,
                  "title": "Room with a View, A (1986)",
                  "genres": "Drama|Romance"
                },
                {
                  "movieId": 1297,
                  "title": "Real Genius (1985)",
                  "genres": "Comedy"
                },
                {
                  "movieId": 1298,
                  "title": "Pink Floyd: The Wall (1982)",
                  "genres": "Drama|Musical"
                },
                {
                  "movieId": 1299,
                  "title": "Killing Fields, The (1984)",
                  "genres": "Drama|War"
                },
                {
                  "movieId": 1300,
                  "title": "My Life as a Dog (Mitt liv som hund) (1985)",
                  "genres": "Comedy|Drama"
                },
                {
                  "movieId": 1301,
                  "title": "Forbidden Planet (1956)",
                  "genres": "Drama|Sci-Fi"
                },
                {
                  "movieId": 1302,
                  "title": "Field of Dreams (1989)",
                  "genres": "Children|Drama|Fantasy"
                }
              ],
              "schema": {
                "movieId": "int",
                "title": "string",
                "genres": "string"
              }
            },
            "isSummary": false,
            "language": "scala"
          },
          "persist_state": {
            "view": {
              "type": "details",
              "tableOptions": {},
              "chartOptions": {
                "chartType": "bar",
                "aggregationType": "sum",
                "categoryFieldKeys": [
                  "title"
                ],
                "seriesFieldKeys": [
                  "movieId"
                ],
                "isStacked": false
              }
            }
          }
        }
      }
    }
  },
  "cells": [
    {
      "cell_type": "code",
      "execution_count": 2,
      "outputs": [
        {
          "output_type": "display_data",
          "data": {
            "application/vnd.livy.statement-meta+json": {
              "spark_pool": "WorkshopPool1",
              "session_id": 0,
              "statement_id": 2,
              "state": "finished",
              "livy_statement_state": "available",
              "queued_time": "2021-04-19T09:03:19.956568Z",
              "execution_start_time": "2021-04-19T09:03:20.1203966Z",
              "execution_finish_time": "2021-04-19T09:03:42.9038351Z"
            },
            "text/plain": "StatementMeta(WorkshopPool1, 0, 2, Finished, Available)"
          },
          "metadata": {}
        },
        {
          "output_type": "stream",
          "name": "stdout",
          "text": ""
        }
      ],
      "metadata": {
        "microsoft": {
          "language": "python"
        }
      },
      "source": [
        "%%pyspark \n",
        "\n",
        "movie_file_path = \"abfss://movies@gksynapsestorage.dfs.core.windows.net/movies.csv\"\n",
        "\n",
        "moviesDf = spark.read.format('csv') \\\n",
        "              .option(\"header\", True) \\\n",
        "              .option(\"inferSchema\", True)\\\n",
        "              .option(\"sep\", \",\") \\\n",
        "              .load(movie_file_path)\n",
        "\n",
        ""
      ]
    },
    {
      "cell_type": "code",
      "execution_count": 3,
      "outputs": [
        {
          "output_type": "display_data",
          "data": {
            "application/vnd.livy.statement-meta+json": {
              "spark_pool": "WorkshopPool1",
              "session_id": 0,
              "statement_id": 3,
              "state": "finished",
              "livy_statement_state": "available",
              "queued_time": "2021-04-19T09:04:03.4302052Z",
              "execution_start_time": "2021-04-19T09:04:03.5465538Z",
              "execution_finish_time": "2021-04-19T09:04:05.6123249Z"
            },
            "text/plain": "StatementMeta(WorkshopPool1, 0, 3, Finished, Available)"
          },
          "metadata": {}
        },
        {
          "output_type": "stream",
          "name": "stdout",
          "text": "+-------+----------------+--------------------+\n|movieId|           title|              genres|\n+-------+----------------+--------------------+\n|      1|Toy Story (1995)|Adventure|Animati...|\n|      2|  Jumanji (1995)|Adventure|Childre...|\n+-------+----------------+--------------------+\nonly showing top 2 rows"
        }
      ],
      "metadata": {
        "jupyter": {
          "source_hidden": false,
          "outputs_hidden": false
        },
        "nteract": {
          "transient": {
            "deleting": false
          }
        },
        "collapsed": true
      },
      "source": [
        "moviesDf.show(2)"
      ]
    },
    {
      "cell_type": "code",
      "execution_count": 4,
      "outputs": [
        {
          "output_type": "display_data",
          "data": {
            "application/vnd.livy.statement-meta+json": {
              "spark_pool": "WorkshopPool1",
              "session_id": 0,
              "statement_id": 4,
              "state": "finished",
              "livy_statement_state": "available",
              "queued_time": "2021-04-19T09:05:26.932509Z",
              "execution_start_time": "2021-04-19T09:05:27.0347423Z",
              "execution_finish_time": "2021-04-19T09:05:29.1621492Z"
            },
            "text/plain": "StatementMeta(WorkshopPool1, 0, 4, Finished, Available)"
          },
          "metadata": {}
        },
        {
          "output_type": "display_data",
          "data": {
            "application/vnd.synapse.widget-view+json": {
              "widget_id": "e5117291-a03f-4bf5-8a10-6bfa9a2ef88d",
              "widget_type": "Synapse.DataFrame"
            },
            "text/plain": "SynapseWidget(Synapse.DataFrame, e5117291-a03f-4bf5-8a10-6bfa9a2ef88d)"
          },
          "metadata": {}
        },
        {
          "output_type": "execute_result",
          "data": {},
          "execution_count": 4,
          "metadata": {}
        }
      ],
      "metadata": {
        "jupyter": {
          "source_hidden": false,
          "outputs_hidden": false
        },
        "nteract": {
          "transient": {
            "deleting": false
          }
        },
        "collapsed": false
      },
      "source": [
        "display(moviesDf)"
      ]
    },
    {
      "cell_type": "code",
      "execution_count": 5,
      "outputs": [
        {
          "output_type": "display_data",
          "data": {
            "application/vnd.livy.statement-meta+json": {
              "spark_pool": "WorkshopPool1",
              "session_id": 0,
              "statement_id": 5,
              "state": "finished",
              "livy_statement_state": "available",
              "queued_time": "2021-04-19T09:11:56.5221989Z",
              "execution_start_time": "2021-04-19T09:11:56.6808509Z",
              "execution_finish_time": "2021-04-19T09:12:09.1110579Z"
            },
            "text/plain": "StatementMeta(WorkshopPool1, 0, 5, Finished, Available)"
          },
          "metadata": {}
        },
        {
          "output_type": "stream",
          "name": "stdout",
          "text": ""
        }
      ],
      "metadata": {
        "jupyter": {
          "source_hidden": false,
          "outputs_hidden": false
        },
        "nteract": {
          "transient": {
            "deleting": false
          }
        },
        "collapsed": true
      },
      "source": [
        "moviesDf.write.format(\"parquet\").saveAsTable(\"tbl_movies\")"
      ]
    },
    {
      "cell_type": "code",
      "execution_count": 6,
      "outputs": [
        {
          "output_type": "display_data",
          "data": {
            "application/vnd.livy.statement-meta+json": {
              "spark_pool": "WorkshopPool1",
              "session_id": 0,
              "statement_id": 6,
              "state": "finished",
              "livy_statement_state": "available",
              "queued_time": "2021-04-19T09:19:51.4388694Z",
              "execution_start_time": "2021-04-19T09:19:51.5756161Z",
              "execution_finish_time": "2021-04-19T09:19:55.7699961Z"
            },
            "text/plain": "StatementMeta(WorkshopPool1, 0, 6, Finished, Available)"
          },
          "metadata": {}
        },
        {
          "output_type": "stream",
          "name": "stdout",
          "text": "+-------+----------------+\n|movieId|           title|\n+-------+----------------+\n|      1|Toy Story (1995)|\n|      2|  Jumanji (1995)|\n+-------+----------------+\nonly showing top 2 rows"
        }
      ],
      "metadata": {
        "jupyter": {
          "source_hidden": false,
          "outputs_hidden": false
        },
        "nteract": {
          "transient": {
            "deleting": false
          }
        },
        "collapsed": true
      },
      "source": [
        "# now run spark sql on top this \n",
        "\n",
        "moviesSqlDF = spark.sql ('select movieId, title from default.tbl_movies')\n",
        "\n",
        "moviesSqlDF.show(2)"
      ]
    },
    {
      "cell_type": "code",
      "execution_count": 7,
      "outputs": [
        {
          "output_type": "display_data",
          "data": {
            "application/vnd.livy.statement-meta+json": {
              "spark_pool": "WorkshopPool1",
              "session_id": 0,
              "statement_id": 7,
              "state": "finished",
              "livy_statement_state": "available",
              "queued_time": "2021-04-19T09:20:32.6523812Z",
              "execution_start_time": "2021-04-19T09:20:32.7625665Z",
              "execution_finish_time": "2021-04-19T09:20:34.8273501Z"
            },
            "text/plain": "StatementMeta(WorkshopPool1, 0, 7, Finished, Available)"
          },
          "metadata": {}
        },
        {
          "output_type": "execute_result",
          "data": {
            "application/vnd.synapse.sparksql-result+json": {
              "schema": {
                "type": "struct",
                "fields": [
                  {
                    "name": "movieId",
                    "type": "integer",
                    "nullable": true,
                    "metadata": {}
                  },
                  {
                    "name": "title",
                    "type": "string",
                    "nullable": true,
                    "metadata": {}
                  }
                ]
              },
              "data": [
                [
                  1,
                  "Toy Story (1995)"
                ],
                [
                  2,
                  "Jumanji (1995)"
                ],
                [
                  3,
                  "Grumpier Old Men (1995)"
                ],
                [
                  4,
                  "Waiting to Exhale (1995)"
                ],
                [
                  5,
                  "Father of the Bride Part II (1995)"
                ],
                [
                  6,
                  "Heat (1995)"
                ],
                [
                  7,
                  "Sabrina (1995)"
                ],
                [
                  8,
                  "Tom and Huck (1995)"
                ],
                [
                  9,
                  "Sudden Death (1995)"
                ],
                [
                  10,
                  "GoldenEye (1995)"
                ],
                [
                  11,
                  "American President, The (1995)"
                ],
                [
                  12,
                  "Dracula: Dead and Loving It (1995)"
                ],
                [
                  13,
                  "Balto (1995)"
                ],
                [
                  14,
                  "Nixon (1995)"
                ],
                [
                  15,
                  "Cutthroat Island (1995)"
                ],
                [
                  16,
                  "Casino (1995)"
                ],
                [
                  17,
                  "Sense and Sensibility (1995)"
                ],
                [
                  18,
                  "Four Rooms (1995)"
                ],
                [
                  19,
                  "Ace Ventura: When Nature Calls (1995)"
                ],
                [
                  20,
                  "Money Train (1995)"
                ],
                [
                  21,
                  "Get Shorty (1995)"
                ],
                [
                  22,
                  "Copycat (1995)"
                ],
                [
                  23,
                  "Assassins (1995)"
                ],
                [
                  24,
                  "Powder (1995)"
                ],
                [
                  25,
                  "Leaving Las Vegas (1995)"
                ],
                [
                  26,
                  "Othello (1995)"
                ],
                [
                  27,
                  "Now and Then (1995)"
                ],
                [
                  28,
                  "Persuasion (1995)"
                ],
                [
                  29,
                  "City of Lost Children, The (Cité des enfants perdus, La) (1995)"
                ],
                [
                  30,
                  "Shanghai Triad (Yao a yao yao dao waipo qiao) (1995)"
                ],
                [
                  31,
                  "Dangerous Minds (1995)"
                ],
                [
                  32,
                  "Twelve Monkeys (a.k.a. 12 Monkeys) (1995)"
                ],
                [
                  34,
                  "Babe (1995)"
                ],
                [
                  36,
                  "Dead Man Walking (1995)"
                ],
                [
                  38,
                  "It Takes Two (1995)"
                ],
                [
                  39,
                  "Clueless (1995)"
                ],
                [
                  40,
                  "Cry, the Beloved Country (1995)"
                ],
                [
                  41,
                  "Richard III (1995)"
                ],
                [
                  42,
                  "Dead Presidents (1995)"
                ],
                [
                  43,
                  "Restoration (1995)"
                ],
                [
                  44,
                  "Mortal Kombat (1995)"
                ],
                [
                  45,
                  "To Die For (1995)"
                ],
                [
                  46,
                  "How to Make an American Quilt (1995)"
                ],
                [
                  47,
                  "Seven (a.k.a. Se7en) (1995)"
                ],
                [
                  48,
                  "Pocahontas (1995)"
                ],
                [
                  49,
                  "When Night Is Falling (1995)"
                ],
                [
                  50,
                  "Usual Suspects, The (1995)"
                ],
                [
                  52,
                  "Mighty Aphrodite (1995)"
                ],
                [
                  53,
                  "Lamerica (1994)"
                ],
                [
                  54,
                  "Big Green, The (1995)"
                ],
                [
                  55,
                  "Georgia (1995)"
                ],
                [
                  57,
                  "Home for the Holidays (1995)"
                ],
                [
                  58,
                  "Postman, The (Postino, Il) (1994)"
                ],
                [
                  60,
                  "Indian in the Cupboard, The (1995)"
                ],
                [
                  61,
                  "Eye for an Eye (1996)"
                ],
                [
                  62,
                  "Mr. Holland's Opus (1995)"
                ],
                [
                  63,
                  "Don't Be a Menace to South Central While Drinking Your Juice in the Hood (1996)"
                ],
                [
                  64,
                  "Two if by Sea (1996)"
                ],
                [
                  65,
                  "Bio-Dome (1996)"
                ],
                [
                  66,
                  "Lawnmower Man 2: Beyond Cyberspace (1996)"
                ],
                [
                  68,
                  "French Twist (Gazon maudit) (1995)"
                ],
                [
                  69,
                  "Friday (1995)"
                ],
                [
                  70,
                  "From Dusk Till Dawn (1996)"
                ],
                [
                  71,
                  "Fair Game (1995)"
                ],
                [
                  72,
                  "Kicking and Screaming (1995)"
                ],
                [
                  73,
                  "Misérables, Les (1995)"
                ],
                [
                  74,
                  "Bed of Roses (1996)"
                ],
                [
                  75,
                  "Big Bully (1996)"
                ],
                [
                  76,
                  "Screamers (1995)"
                ],
                [
                  77,
                  "Nico Icon (1995)"
                ],
                [
                  78,
                  "Crossing Guard, The (1995)"
                ],
                [
                  79,
                  "Juror, The (1996)"
                ],
                [
                  80,
                  "White Balloon, The (Badkonake sefid) (1995)"
                ],
                [
                  81,
                  "Things to Do in Denver When You're Dead (1995)"
                ],
                [
                  82,
                  "Antonia's Line (Antonia) (1995)"
                ],
                [
                  83,
                  "Once Upon a Time... When We Were Colored (1995)"
                ],
                [
                  85,
                  "Angels and Insects (1995)"
                ],
                [
                  86,
                  "White Squall (1996)"
                ],
                [
                  87,
                  "Dunston Checks In (1996)"
                ],
                [
                  88,
                  "Black Sheep (1996)"
                ],
                [
                  89,
                  "Nick of Time (1995)"
                ],
                [
                  92,
                  "Mary Reilly (1996)"
                ],
                [
                  93,
                  "Vampire in Brooklyn (1995)"
                ],
                [
                  94,
                  "Beautiful Girls (1996)"
                ],
                [
                  95,
                  "Broken Arrow (1996)"
                ],
                [
                  96,
                  "In the Bleak Midwinter (1995)"
                ],
                [
                  97,
                  "Hate (Haine, La) (1995)"
                ],
                [
                  99,
                  "Heidi Fleiss: Hollywood Madam (1995)"
                ],
                [
                  100,
                  "City Hall (1996)"
                ],
                [
                  101,
                  "Bottle Rocket (1996)"
                ],
                [
                  102,
                  "Mr. Wrong (1996)"
                ],
                [
                  103,
                  "Unforgettable (1996)"
                ],
                [
                  104,
                  "Happy Gilmore (1996)"
                ],
                [
                  105,
                  "Bridges of Madison County, The (1995)"
                ],
                [
                  106,
                  "Nobody Loves Me (Keiner liebt mich) (1994)"
                ],
                [
                  107,
                  "Muppet Treasure Island (1996)"
                ],
                [
                  108,
                  "Catwalk (1996)"
                ],
                [
                  110,
                  "Braveheart (1995)"
                ],
                [
                  111,
                  "Taxi Driver (1976)"
                ],
                [
                  112,
                  "Rumble in the Bronx (Hont faan kui) (1995)"
                ],
                [
                  113,
                  "Before and After (1996)"
                ],
                [
                  116,
                  "Anne Frank Remembered (1995)"
                ],
                [
                  117,
                  "Young Poisoner's Handbook, The (1995)"
                ],
                [
                  118,
                  "If Lucy Fell (1996)"
                ],
                [
                  119,
                  "Steal Big, Steal Little (1995)"
                ],
                [
                  121,
                  "Boys of St. Vincent, The (1992)"
                ],
                [
                  122,
                  "Boomerang (1992)"
                ],
                [
                  123,
                  "Chungking Express (Chung Hing sam lam) (1994)"
                ],
                [
                  125,
                  "Flirting With Disaster (1996)"
                ],
                [
                  126,
                  "NeverEnding Story III, The (1994)"
                ],
                [
                  128,
                  "Jupiter's Wife (1994)"
                ],
                [
                  129,
                  "Pie in the Sky (1996)"
                ],
                [
                  132,
                  "Jade (1995)"
                ],
                [
                  135,
                  "Down Periscope (1996)"
                ],
                [
                  137,
                  "Man of the Year (1995)"
                ],
                [
                  140,
                  "Up Close and Personal (1996)"
                ],
                [
                  141,
                  "Birdcage, The (1996)"
                ],
                [
                  144,
                  "Brothers McMullen, The (1995)"
                ],
                [
                  145,
                  "Bad Boys (1995)"
                ],
                [
                  146,
                  "Amazing Panda Adventure, The (1995)"
                ],
                [
                  147,
                  "Basketball Diaries, The (1995)"
                ],
                [
                  148,
                  "Awfully Big Adventure, An (1995)"
                ],
                [
                  149,
                  "Amateur (1994)"
                ],
                [
                  150,
                  "Apollo 13 (1995)"
                ],
                [
                  151,
                  "Rob Roy (1995)"
                ],
                [
                  152,
                  "Addiction, The (1995)"
                ],
                [
                  153,
                  "Batman Forever (1995)"
                ],
                [
                  154,
                  "Beauty of the Day (Belle de jour) (1967)"
                ],
                [
                  155,
                  "Beyond Rangoon (1995)"
                ],
                [
                  156,
                  "Blue in the Face (1995)"
                ],
                [
                  157,
                  "Canadian Bacon (1995)"
                ],
                [
                  158,
                  "Casper (1995)"
                ],
                [
                  159,
                  "Clockers (1995)"
                ],
                [
                  160,
                  "Congo (1995)"
                ],
                [
                  161,
                  "Crimson Tide (1995)"
                ],
                [
                  162,
                  "Crumb (1994)"
                ],
                [
                  163,
                  "Desperado (1995)"
                ],
                [
                  164,
                  "Devil in a Blue Dress (1995)"
                ],
                [
                  165,
                  "Die Hard: With a Vengeance (1995)"
                ],
                [
                  166,
                  "Doom Generation, The (1995)"
                ],
                [
                  168,
                  "First Knight (1995)"
                ],
                [
                  169,
                  "Free Willy 2: The Adventure Home (1995)"
                ],
                [
                  170,
                  "Hackers (1995)"
                ],
                [
                  171,
                  "Jeffrey (1995)"
                ],
                [
                  172,
                  "Johnny Mnemonic (1995)"
                ],
                [
                  173,
                  "Judge Dredd (1995)"
                ],
                [
                  174,
                  "Jury Duty (1995)"
                ],
                [
                  175,
                  "Kids (1995)"
                ],
                [
                  176,
                  "Living in Oblivion (1995)"
                ],
                [
                  177,
                  "Lord of Illusions (1995)"
                ],
                [
                  178,
                  "Love & Human Remains (1993)"
                ],
                [
                  179,
                  "Mad Love (1995)"
                ],
                [
                  180,
                  "Mallrats (1995)"
                ],
                [
                  181,
                  "Mighty Morphin Power Rangers: The Movie (1995)"
                ],
                [
                  183,
                  "Mute Witness (1994)"
                ],
                [
                  184,
                  "Nadja (1994)"
                ],
                [
                  185,
                  "Net, The (1995)"
                ],
                [
                  186,
                  "Nine Months (1995)"
                ],
                [
                  187,
                  "Party Girl (1995)"
                ],
                [
                  188,
                  "Prophecy, The (1995)"
                ],
                [
                  189,
                  "Reckless (1995)"
                ],
                [
                  190,
                  "Safe (1995)"
                ],
                [
                  191,
                  "Scarlet Letter, The (1995)"
                ],
                [
                  193,
                  "Showgirls (1995)"
                ],
                [
                  194,
                  "Smoke (1995)"
                ],
                [
                  195,
                  "Something to Talk About (1995)"
                ],
                [
                  196,
                  "Species (1995)"
                ],
                [
                  198,
                  "Strange Days (1995)"
                ],
                [
                  199,
                  "Umbrellas of Cherbourg, The (Parapluies de Cherbourg, Les) (1964)"
                ],
                [
                  201,
                  "Three Wishes (1995)"
                ],
                [
                  202,
                  "Total Eclipse (1995)"
                ],
                [
                  203,
                  "To Wong Foo, Thanks for Everything! Julie Newmar (1995)"
                ],
                [
                  204,
                  "Under Siege 2: Dark Territory (1995)"
                ],
                [
                  205,
                  "Unstrung Heroes (1995)"
                ],
                [
                  206,
                  "Unzipped (1995)"
                ],
                [
                  207,
                  "Walk in the Clouds, A (1995)"
                ],
                [
                  208,
                  "Waterworld (1995)"
                ],
                [
                  209,
                  "White Man's Burden (1995)"
                ],
                [
                  210,
                  "Wild Bill (1995)"
                ],
                [
                  211,
                  "Browning Version, The (1994)"
                ],
                [
                  212,
                  "Bushwhacked (1995)"
                ],
                [
                  213,
                  "Burnt by the Sun (Utomlyonnye solntsem) (1994)"
                ],
                [
                  214,
                  "Before the Rain (Pred dozhdot) (1994)"
                ],
                [
                  215,
                  "Before Sunrise (1995)"
                ],
                [
                  216,
                  "Billy Madison (1995)"
                ],
                [
                  217,
                  "Babysitter, The (1995)"
                ],
                [
                  218,
                  "Boys on the Side (1995)"
                ],
                [
                  219,
                  "Cure, The (1995)"
                ],
                [
                  220,
                  "Castle Freak (1995)"
                ],
                [
                  222,
                  "Circle of Friends (1995)"
                ],
                [
                  223,
                  "Clerks (1994)"
                ],
                [
                  224,
                  "Don Juan DeMarco (1995)"
                ],
                [
                  225,
                  "Disclosure (1994)"
                ],
                [
                  227,
                  "Drop Zone (1994)"
                ],
                [
                  228,
                  "Destiny Turns on the Radio (1995)"
                ],
                [
                  229,
                  "Death and the Maiden (1994)"
                ],
                [
                  230,
                  "Dolores Claiborne (1995)"
                ],
                [
                  231,
                  "Dumb & Dumber (Dumb and Dumber) (1994)"
                ],
                [
                  232,
                  "Eat Drink Man Woman (Yin shi nan nu) (1994)"
                ],
                [
                  233,
                  "Exotica (1994)"
                ],
                [
                  234,
                  "Exit to Eden (1994)"
                ],
                [
                  235,
                  "Ed Wood (1994)"
                ],
                [
                  236,
                  "French Kiss (1995)"
                ],
                [
                  237,
                  "Forget Paris (1995)"
                ],
                [
                  238,
                  "Far From Home: The Adventures of Yellow Dog (1995)"
                ],
                [
                  239,
                  "Goofy Movie, A (1995)"
                ],
                [
                  240,
                  "Hideaway (1995)"
                ],
                [
                  241,
                  "Fluke (1995)"
                ],
                [
                  242,
                  "Farinelli: il castrato (1994)"
                ],
                [
                  243,
                  "Gordy (1995)"
                ],
                [
                  246,
                  "Hoop Dreams (1994)"
                ],
                [
                  247,
                  "Heavenly Creatures (1994)"
                ],
                [
                  248,
                  "Houseguest (1994)"
                ],
                [
                  249,
                  "Immortal Beloved (1994)"
                ],
                [
                  250,
                  "Heavyweights (Heavy Weights) (1995)"
                ],
                [
                  251,
                  "Hunted, The (1995)"
                ],
                [
                  252,
                  "I.Q. (1994)"
                ],
                [
                  253,
                  "Interview with the Vampire: The Vampire Chronicles (1994)"
                ],
                [
                  254,
                  "Jefferson in Paris (1995)"
                ],
                [
                  255,
                  "Jerky Boys, The (1995)"
                ],
                [
                  256,
                  "Junior (1994)"
                ],
                [
                  257,
                  "Just Cause (1995)"
                ],
                [
                  258,
                  "Kid in King Arthur's Court, A (1995)"
                ],
                [
                  259,
                  "Kiss of Death (1995)"
                ],
                [
                  260,
                  "Star Wars: Episode IV - A New Hope (1977)"
                ],
                [
                  261,
                  "Little Women (1994)"
                ],
                [
                  262,
                  "Little Princess, A (1995)"
                ],
                [
                  263,
                  "Ladybird Ladybird (1994)"
                ],
                [
                  265,
                  "Like Water for Chocolate (Como agua para chocolate) (1992)"
                ],
                [
                  266,
                  "Legends of the Fall (1994)"
                ],
                [
                  267,
                  "Major Payne (1995)"
                ],
                [
                  269,
                  "My Crazy Life (Mi vida loca) (1993)"
                ],
                [
                  270,
                  "Love Affair (1994)"
                ],
                [
                  271,
                  "Losing Isaiah (1995)"
                ],
                [
                  272,
                  "Madness of King George, The (1994)"
                ],
                [
                  273,
                  "Mary Shelley's Frankenstein (Frankenstein) (1994)"
                ],
                [
                  274,
                  "Man of the House (1995)"
                ],
                [
                  275,
                  "Mixed Nuts (1994)"
                ],
                [
                  276,
                  "Milk Money (1994)"
                ],
                [
                  277,
                  "Miracle on 34th Street (1994)"
                ],
                [
                  278,
                  "Miami Rhapsody (1995)"
                ],
                [
                  279,
                  "My Family (1995)"
                ],
                [
                  280,
                  "Murder in the First (1995)"
                ],
                [
                  281,
                  "Nobody's Fool (1994)"
                ],
                [
                  282,
                  "Nell (1994)"
                ],
                [
                  283,
                  "New Jersey Drive (1995)"
                ],
                [
                  284,
                  "New York Cop (Nyû Yôku no koppu) (1993)"
                ],
                [
                  285,
                  "Beyond Bedlam (1993)"
                ],
                [
                  287,
                  "Nina Takes a Lover (1994)"
                ],
                [
                  288,
                  "Natural Born Killers (1994)"
                ],
                [
                  289,
                  "Only You (1994)"
                ],
                [
                  290,
                  "Once Were Warriors (1994)"
                ],
                [
                  291,
                  "Poison Ivy II (1996)"
                ],
                [
                  292,
                  "Outbreak (1995)"
                ],
                [
                  293,
                  "Léon: The Professional (a.k.a. The Professional) (Léon) (1994)"
                ],
                [
                  294,
                  "Perez Family, The (1995)"
                ],
                [
                  295,
                  "Pyromaniac's Love Story, A (1995)"
                ],
                [
                  296,
                  "Pulp Fiction (1994)"
                ],
                [
                  298,
                  "Pushing Hands (Tui shou) (1992)"
                ],
                [
                  299,
                  "Priest (1994)"
                ],
                [
                  300,
                  "Quiz Show (1994)"
                ],
                [
                  301,
                  "Picture Bride (Bijo photo) (1994)"
                ],
                [
                  302,
                  "Queen Margot (Reine Margot, La) (1994)"
                ],
                [
                  303,
                  "Quick and the Dead, The (1995)"
                ],
                [
                  304,
                  "Roommates (1995)"
                ],
                [
                  305,
                  "Ready to Wear (Pret-A-Porter) (1994)"
                ],
                [
                  306,
                  "Three Colors: Red (Trois couleurs: Rouge) (1994)"
                ],
                [
                  307,
                  "Three Colors: Blue (Trois couleurs: Bleu) (1993)"
                ],
                [
                  308,
                  "Three Colors: White (Trzy kolory: Bialy) (1994)"
                ],
                [
                  310,
                  "Rent-a-Kid (1995)"
                ],
                [
                  311,
                  "Relative Fear (1994)"
                ],
                [
                  312,
                  "Stuart Saves His Family (1995)"
                ],
                [
                  313,
                  "Swan Princess, The (1994)"
                ],
                [
                  314,
                  "Secret of Roan Inish, The (1994)"
                ],
                [
                  315,
                  "Specialist, The (1994)"
                ],
                [
                  316,
                  "Stargate (1994)"
                ],
                [
                  317,
                  "Santa Clause, The (1994)"
                ],
                [
                  318,
                  "Shawshank Redemption, The (1994)"
                ],
                [
                  319,
                  "Shallow Grave (1994)"
                ],
                [
                  320,
                  "Suture (1993)"
                ],
                [
                  321,
                  "Strawberry and Chocolate (Fresa y chocolate) (1993)"
                ],
                [
                  322,
                  "Swimming with Sharks (1995)"
                ],
                [
                  324,
                  "Sum of Us, The (1994)"
                ],
                [
                  325,
                  "National Lampoon's Senior Trip (1995)"
                ],
                [
                  326,
                  "To Live (Huozhe) (1994)"
                ],
                [
                  327,
                  "Tank Girl (1995)"
                ],
                [
                  328,
                  "Tales from the Crypt Presents: Demon Knight (1995)"
                ],
                [
                  329,
                  "Star Trek: Generations (1994)"
                ],
                [
                  330,
                  "Tales from the Hood (1995)"
                ],
                [
                  331,
                  "Tom & Viv (1994)"
                ],
                [
                  332,
                  "Village of the Damned (1995)"
                ],
                [
                  333,
                  "Tommy Boy (1995)"
                ],
                [
                  334,
                  "Vanya on 42nd Street (1994)"
                ],
                [
                  335,
                  "Underneath (1995)"
                ],
                [
                  336,
                  "Walking Dead, The (1995)"
                ],
                [
                  337,
                  "What's Eating Gilbert Grape (1993)"
                ],
                [
                  338,
                  "Virtuosity (1995)"
                ],
                [
                  339,
                  "While You Were Sleeping (1995)"
                ],
                [
                  340,
                  "War, The (1994)"
                ],
                [
                  341,
                  "Double Happiness (1994)"
                ],
                [
                  342,
                  "Muriel's Wedding (1994)"
                ],
                [
                  343,
                  "Baby-Sitters Club, The (1995)"
                ],
                [
                  344,
                  "Ace Ventura: Pet Detective (1994)"
                ],
                [
                  345,
                  "Adventures of Priscilla, Queen of the Desert, The (1994)"
                ],
                [
                  346,
                  "Backbeat (1993)"
                ],
                [
                  347,
                  "Bitter Moon (1992)"
                ],
                [
                  348,
                  "Bullets Over Broadway (1994)"
                ],
                [
                  349,
                  "Clear and Present Danger (1994)"
                ],
                [
                  350,
                  "Client, The (1994)"
                ],
                [
                  351,
                  "Corrina, Corrina (1994)"
                ],
                [
                  352,
                  "Crooklyn (1994)"
                ],
                [
                  353,
                  "Crow, The (1994)"
                ],
                [
                  354,
                  "Cobb (1994)"
                ],
                [
                  355,
                  "Flintstones, The (1994)"
                ],
                [
                  356,
                  "Forrest Gump (1994)"
                ],
                [
                  357,
                  "Four Weddings and a Funeral (1994)"
                ],
                [
                  358,
                  "Higher Learning (1995)"
                ],
                [
                  359,
                  "I Like It Like That (1994)"
                ],
                [
                  360,
                  "I Love Trouble (1994)"
                ],
                [
                  361,
                  "It Could Happen to You (1994)"
                ],
                [
                  362,
                  "Jungle Book, The (1994)"
                ],
                [
                  363,
                  "Wonderful, Horrible Life of Leni Riefenstahl, The (Macht der Bilder: Leni Riefenstahl, Die) (1993)"
                ],
                [
                  364,
                  "Lion King, The (1994)"
                ],
                [
                  365,
                  "Little Buddha (1993)"
                ],
                [
                  366,
                  "Wes Craven's New Nightmare (Nightmare on Elm Street Part 7: Freddy's Finale, A) (1994)"
                ],
                [
                  367,
                  "Mask, The (1994)"
                ],
                [
                  368,
                  "Maverick (1994)"
                ],
                [
                  369,
                  "Mrs. Parker and the Vicious Circle (1994)"
                ],
                [
                  370,
                  "Naked Gun 33 1/3: The Final Insult (1994)"
                ],
                [
                  371,
                  "Paper, The (1994)"
                ],
                [
                  372,
                  "Reality Bites (1994)"
                ],
                [
                  373,
                  "Red Rock West (1992)"
                ],
                [
                  374,
                  "Richie Rich (1994)"
                ],
                [
                  376,
                  "River Wild, The (1994)"
                ],
                [
                  377,
                  "Speed (1994)"
                ],
                [
                  378,
                  "Speechless (1994)"
                ],
                [
                  379,
                  "Timecop (1994)"
                ],
                [
                  380,
                  "True Lies (1994)"
                ],
                [
                  381,
                  "When a Man Loves a Woman (1994)"
                ],
                [
                  382,
                  "Wolf (1994)"
                ],
                [
                  383,
                  "Wyatt Earp (1994)"
                ],
                [
                  384,
                  "Bad Company (1995)"
                ],
                [
                  385,
                  "Man of No Importance, A (1994)"
                ],
                [
                  386,
                  "S.F.W. (1994)"
                ],
                [
                  387,
                  "Low Down Dirty Shame, A (1994)"
                ],
                [
                  388,
                  "Boys Life (1995)"
                ],
                [
                  389,
                  "Colonel Chabert, Le (1994)"
                ],
                [
                  390,
                  "Faster Pussycat! Kill! Kill! (1965)"
                ],
                [
                  391,
                  "Jason's Lyric (1994)"
                ],
                [
                  393,
                  "Street Fighter (1994)"
                ],
                [
                  405,
                  "Highlander III: The Sorcerer (a.k.a. Highlander: The Final Dimension) (1994)"
                ],
                [
                  406,
                  "Federal Hill (1994)"
                ],
                [
                  407,
                  "In the Mouth of Madness (1995)"
                ],
                [
                  408,
                  "8 Seconds (1994)"
                ],
                [
                  409,
                  "Above the Rim (1994)"
                ],
                [
                  410,
                  "Addams Family Values (1993)"
                ],
                [
                  412,
                  "Age of Innocence, The (1993)"
                ],
                [
                  413,
                  "Airheads (1994)"
                ],
                [
                  414,
                  "Air Up There, The (1994)"
                ],
                [
                  415,
                  "Another Stakeout (1993)"
                ],
                [
                  416,
                  "Bad Girls (1994)"
                ],
                [
                  417,
                  "Barcelona (1994)"
                ],
                [
                  418,
                  "Being Human (1993)"
                ],
                [
                  419,
                  "Beverly Hillbillies, The (1993)"
                ],
                [
                  420,
                  "Beverly Hills Cop III (1994)"
                ],
                [
                  421,
                  "Black Beauty (1994)"
                ],
                [
                  422,
                  "Blink (1994)"
                ],
                [
                  423,
                  "Blown Away (1994)"
                ],
                [
                  424,
                  "Blue Chips (1994)"
                ],
                [
                  425,
                  "Blue Sky (1994)"
                ],
                [
                  426,
                  "Body Snatchers (1993)"
                ],
                [
                  427,
                  "Boxing Helena (1993)"
                ],
                [
                  428,
                  "Bronx Tale, A (1993)"
                ],
                [
                  429,
                  "Cabin Boy (1994)"
                ],
                [
                  430,
                  "Calendar Girl (1993)"
                ],
                [
                  431,
                  "Carlito's Way (1993)"
                ],
                [
                  432,
                  "City Slickers II: The Legend of Curly's Gold (1994)"
                ],
                [
                  433,
                  "Clean Slate (1994)"
                ],
                [
                  434,
                  "Cliffhanger (1993)"
                ],
                [
                  435,
                  "Coneheads (1993)"
                ],
                [
                  436,
                  "Color of Night (1994)"
                ],
                [
                  437,
                  "Cops and Robbersons (1994)"
                ],
                [
                  438,
                  "Cowboy Way, The (1994)"
                ],
                [
                  440,
                  "Dave (1993)"
                ],
                [
                  441,
                  "Dazed and Confused (1993)"
                ],
                [
                  442,
                  "Demolition Man (1993)"
                ],
                [
                  444,
                  "Even Cowgirls Get the Blues (1993)"
                ],
                [
                  445,
                  "Fatal Instinct (1993)"
                ],
                [
                  446,
                  "Farewell My Concubine (Ba wang bie ji) (1993)"
                ],
                [
                  448,
                  "Fearless (1993)"
                ],
                [
                  449,
                  "Fear of a Black Hat (1994)"
                ],
                [
                  450,
                  "With Honors (1994)"
                ],
                [
                  451,
                  "Flesh and Bone (1993)"
                ],
                [
                  452,
                  "Widows' Peak (1994)"
                ],
                [
                  453,
                  "For Love or Money (1993)"
                ],
                [
                  454,
                  "Firm, The (1993)"
                ],
                [
                  455,
                  "Free Willy (1993)"
                ],
                [
                  456,
                  "Fresh (1994)"
                ],
                [
                  457,
                  "Fugitive, The (1993)"
                ],
                [
                  458,
                  "Geronimo: An American Legend (1993)"
                ],
                [
                  459,
                  "Getaway, The (1994)"
                ],
                [
                  460,
                  "Getting Even with Dad (1994)"
                ],
                [
                  461,
                  "Go Fish (1994)"
                ],
                [
                  464,
                  "Hard Target (1993)"
                ],
                [
                  466,
                  "Hot Shots! Part Deux (1993)"
                ],
                [
                  467,
                  "Live Nude Girls (1995)"
                ],
                [
                  468,
                  "Englishman Who Went Up a Hill But Came Down a Mountain, The (1995)"
                ],
                [
                  469,
                  "House of the Spirits, The (1993)"
                ],
                [
                  470,
                  "House Party 3 (1994)"
                ],
                [
                  471,
                  "Hudsucker Proxy, The (1994)"
                ],
                [
                  472,
                  "I'll Do Anything (1994)"
                ],
                [
                  473,
                  "In the Army Now (1994)"
                ],
                [
                  474,
                  "In the Line of Fire (1993)"
                ],
                [
                  475,
                  "In the Name of the Father (1993)"
                ],
                [
                  476,
                  "Inkwell, The (1994)"
                ],
                [
                  477,
                  "What's Love Got to Do with It? (1993)"
                ],
                [
                  478,
                  "Jimmy Hollywood (1994)"
                ],
                [
                  479,
                  "Judgment Night (1993)"
                ],
                [
                  480,
                  "Jurassic Park (1993)"
                ],
                [
                  481,
                  "Kalifornia (1993)"
                ],
                [
                  482,
                  "Killing Zoe (1994)"
                ],
                [
                  484,
                  "Lassie (1994)"
                ],
                [
                  485,
                  "Last Action Hero (1993)"
                ],
                [
                  486,
                  "Life with Mikey (1993)"
                ],
                [
                  487,
                  "Lightning Jack (1994)"
                ],
                [
                  488,
                  "M. Butterfly (1993)"
                ],
                [
                  489,
                  "Made in America (1993)"
                ],
                [
                  490,
                  "Malice (1993)"
                ],
                [
                  491,
                  "Man Without a Face, The (1993)"
                ],
                [
                  492,
                  "Manhattan Murder Mystery (1993)"
                ],
                [
                  493,
                  "Menace II Society (1993)"
                ],
                [
                  494,
                  "Executive Decision (1996)"
                ],
                [
                  495,
                  "In the Realm of the Senses (Ai no corrida) (1976)"
                ],
                [
                  496,
                  "What Happened Was... (1994)"
                ],
                [
                  497,
                  "Much Ado About Nothing (1993)"
                ],
                [
                  499,
                  "Mr. Wonderful (1993)"
                ],
                [
                  500,
                  "Mrs. Doubtfire (1993)"
                ],
                [
                  501,
                  "Naked (1993)"
                ],
                [
                  502,
                  "Next Karate Kid, The (1994)"
                ],
                [
                  504,
                  "No Escape (1994)"
                ],
                [
                  505,
                  "North (1994)"
                ],
                [
                  506,
                  "Orlando (1992)"
                ],
                [
                  507,
                  "Perfect World, A (1993)"
                ],
                [
                  508,
                  "Philadelphia (1993)"
                ],
                [
                  509,
                  "Piano, The (1993)"
                ],
                [
                  510,
                  "Poetic Justice (1993)"
                ],
                [
                  511,
                  "Program, The (1993)"
                ],
                [
                  512,
                  "Puppet Masters, The (1994)"
                ],
                [
                  513,
                  "Radioland Murders (1994)"
                ],
                [
                  514,
                  "Ref, The (1994)"
                ],
                [
                  515,
                  "Remains of the Day, The (1993)"
                ],
                [
                  516,
                  "Renaissance Man (1994)"
                ],
                [
                  517,
                  "Rising Sun (1993)"
                ],
                [
                  518,
                  "Road to Wellville, The (1994)"
                ],
                [
                  519,
                  "RoboCop 3 (1993)"
                ],
                [
                  520,
                  "Robin Hood: Men in Tights (1993)"
                ],
                [
                  521,
                  "Romeo Is Bleeding (1993)"
                ],
                [
                  522,
                  "Romper Stomper (1992)"
                ],
                [
                  523,
                  "Ruby in Paradise (1993)"
                ],
                [
                  524,
                  "Rudy (1993)"
                ],
                [
                  526,
                  "Savage Nights (Nuits fauves, Les) (1992)"
                ],
                [
                  527,
                  "Schindler's List (1993)"
                ],
                [
                  528,
                  "Scout, The (1994)"
                ],
                [
                  529,
                  "Searching for Bobby Fischer (1993)"
                ],
                [
                  531,
                  "Secret Garden, The (1993)"
                ],
                [
                  532,
                  "Serial Mom (1994)"
                ],
                [
                  533,
                  "Shadow, The (1994)"
                ],
                [
                  534,
                  "Shadowlands (1993)"
                ],
                [
                  535,
                  "Short Cuts (1993)"
                ],
                [
                  536,
                  "Simple Twist of Fate, A (1994)"
                ],
                [
                  537,
                  "Sirens (1994)"
                ],
                [
                  538,
                  "Six Degrees of Separation (1993)"
                ],
                [
                  539,
                  "Sleepless in Seattle (1993)"
                ],
                [
                  540,
                  "Sliver (1993)"
                ],
                [
                  541,
                  "Blade Runner (1982)"
                ],
                [
                  542,
                  "Son in Law (1993)"
                ],
                [
                  543,
                  "So I Married an Axe Murderer (1993)"
                ],
                [
                  544,
                  "Striking Distance (1993)"
                ],
                [
                  546,
                  "Super Mario Bros. (1993)"
                ],
                [
                  547,
                  "Surviving the Game (1994)"
                ],
                [
                  548,
                  "Terminal Velocity (1994)"
                ],
                [
                  549,
                  "Thirty-Two Short Films About Glenn Gould (1993)"
                ],
                [
                  550,
                  "Threesome (1994)"
                ],
                [
                  551,
                  "Nightmare Before Christmas, The (1993)"
                ],
                [
                  552,
                  "Three Musketeers, The (1993)"
                ],
                [
                  553,
                  "Tombstone (1993)"
                ],
                [
                  555,
                  "True Romance (1993)"
                ],
                [
                  556,
                  "War Room, The (1993)"
                ],
                [
                  558,
                  "Pagemaster, The (1994)"
                ],
                [
                  562,
                  "Welcome to the Dollhouse (1995)"
                ],
                [
                  563,
                  "Germinal (1993)"
                ],
                [
                  564,
                  "Chasers (1994)"
                ],
                [
                  567,
                  "Kika (1993)"
                ],
                [
                  568,
                  "Bhaji on the Beach (1993)"
                ],
                [
                  569,
                  "Little Big League (1994)"
                ],
                [
                  573,
                  "Ciao, Professore! (Io speriamo che me la cavo) (1992)"
                ],
                [
                  574,
                  "Spanking the Monkey (1994)"
                ],
                [
                  575,
                  "Little Rascals, The (1994)"
                ],
                [
                  577,
                  "Andre (1994)"
                ],
                [
                  579,
                  "Escort, The (Scorta, La) (1993)"
                ],
                [
                  580,
                  "Princess Caraboo (1994)"
                ],
                [
                  581,
                  "Celluloid Closet, The (1995)"
                ],
                [
                  583,
                  "Dear Diary (Caro Diario) (1994)"
                ],
                [
                  585,
                  "Brady Bunch Movie, The (1995)"
                ],
                [
                  586,
                  "Home Alone (1990)"
                ],
                [
                  587,
                  "Ghost (1990)"
                ],
                [
                  588,
                  "Aladdin (1992)"
                ],
                [
                  589,
                  "Terminator 2: Judgment Day (1991)"
                ],
                [
                  590,
                  "Dances with Wolves (1990)"
                ],
                [
                  592,
                  "Batman (1989)"
                ],
                [
                  593,
                  "Silence of the Lambs, The (1991)"
                ],
                [
                  594,
                  "Snow White and the Seven Dwarfs (1937)"
                ],
                [
                  595,
                  "Beauty and the Beast (1991)"
                ],
                [
                  596,
                  "Pinocchio (1940)"
                ],
                [
                  597,
                  "Pretty Woman (1990)"
                ],
                [
                  599,
                  "Wild Bunch, The (1969)"
                ],
                [
                  600,
                  "Love and a .45 (1994)"
                ],
                [
                  602,
                  "Great Day in Harlem, A (1994)"
                ],
                [
                  605,
                  "One Fine Day (1996)"
                ],
                [
                  606,
                  "Candyman: Farewell to the Flesh (1995)"
                ],
                [
                  608,
                  "Fargo (1996)"
                ],
                [
                  609,
                  "Homeward Bound II: Lost in San Francisco (1996)"
                ],
                [
                  610,
                  "Heavy Metal (1981)"
                ],
                [
                  611,
                  "Hellraiser: Bloodline (1996)"
                ],
                [
                  612,
                  "Pallbearer, The (1996)"
                ],
                [
                  613,
                  "Jane Eyre (1996)"
                ],
                [
                  615,
                  "Bread and Chocolate (Pane e cioccolata) (1973)"
                ],
                [
                  616,
                  "Aristocats, The (1970)"
                ],
                [
                  617,
                  "Flower of My Secret, The (La flor de mi secreto) (1995)"
                ],
                [
                  618,
                  "Two Much (1995)"
                ],
                [
                  619,
                  "Ed (1996)"
                ],
                [
                  626,
                  "Thin Line Between Love and Hate, A (1996)"
                ],
                [
                  627,
                  "Last Supper, The (1995)"
                ],
                [
                  628,
                  "Primal Fear (1996)"
                ],
                [
                  631,
                  "All Dogs Go to Heaven 2 (1996)"
                ],
                [
                  632,
                  "Land and Freedom (Tierra y libertad) (1995)"
                ],
                [
                  633,
                  "Denise Calls Up (1995)"
                ],
                [
                  634,
                  "Theodore Rex (1995)"
                ],
                [
                  635,
                  "Family Thing, A (1996)"
                ],
                [
                  636,
                  "Frisk (1995)"
                ],
                [
                  637,
                  "Sgt. Bilko (1996)"
                ],
                [
                  638,
                  "Jack and Sarah (1995)"
                ],
                [
                  639,
                  "Girl 6 (1996)"
                ],
                [
                  640,
                  "Diabolique (1996)"
                ],
                [
                  645,
                  "Nelly & Monsieur Arnaud (1995)"
                ],
                [
                  647,
                  "Courage Under Fire (1996)"
                ],
                [
                  648,
                  "Mission: Impossible (1996)"
                ],
                [
                  649,
                  "Cold Fever (Á köldum klaka) (1995)"
                ],
                [
                  650,
                  "Moll Flanders (1996)"
                ],
                [
                  653,
                  "Dragonheart (1996)"
                ],
                [
                  656,
                  "Eddie (1996)"
                ],
                [
                  661,
                  "James and the Giant Peach (1996)"
                ],
                [
                  662,
                  "Fear (1996)"
                ],
                [
                  663,
                  "Kids in the Hall: Brain Candy (1996)"
                ],
                [
                  665,
                  "Underground (1995)"
                ],
                [
                  667,
                  "Bloodsport 2 (a.k.a. Bloodsport II: The Next Kumite) (1996)"
                ],
                [
                  668,
                  "Song of the Little Road (Pather Panchali) (1955)"
                ],
                [
                  670,
                  "World of Apu, The (Apur Sansar) (1959)"
                ],
                [
                  671,
                  "Mystery Science Theater 3000: The Movie (1996)"
                ],
                [
                  673,
                  "Space Jam (1996)"
                ],
                [
                  674,
                  "Barbarella (1968)"
                ],
                [
                  678,
                  "Some Folks Call It a Sling Blade (1993)"
                ],
                [
                  679,
                  "Run of the Country, The (1995)"
                ],
                [
                  680,
                  "Alphaville (Alphaville, une étrange aventure de Lemmy Caution) (1965)"
                ],
                [
                  685,
                  "It's My Party (1996)"
                ],
                [
                  688,
                  "Operation Dumbo Drop (1995)"
                ],
                [
                  691,
                  "Mrs. Winterbourne (1996)"
                ],
                [
                  692,
                  "Solo (1996)"
                ],
                [
                  694,
                  "Substitute, The (1996)"
                ],
                [
                  695,
                  "True Crime (1996)"
                ],
                [
                  697,
                  "Feeling Minnesota (1996)"
                ],
                [
                  698,
                  "Delta of Venus (1995)"
                ],
                [
                  700,
                  "Angus (1995)"
                ],
                [
                  703,
                  "Boys (1996)"
                ],
                [
                  704,
                  "Quest, The (1996)"
                ],
                [
                  706,
                  "Sunset Park (1996)"
                ],
                [
                  707,
                  "Mulholland Falls (1996)"
                ],
                [
                  708,
                  "Truth About Cats & Dogs, The (1996)"
                ],
                [
                  709,
                  "Oliver & Company (1988)"
                ],
                [
                  710,
                  "Celtic Pride (1996)"
                ],
                [
                  711,
                  "Flipper (1996)"
                ],
                [
                  714,
                  "Dead Man (1995)"
                ],
                [
                  715,
                  "Horseman on the Roof, The (Hussard sur le toit, Le) (1995)"
                ],
                [
                  718,
                  "Visitors, The (Visiteurs, Les) (1993)"
                ],
                [
                  719,
                  "Multiplicity (1996)"
                ],
                [
                  720,
                  "Wallace & Gromit: The Best of Aardman Animation (1996)"
                ],
                [
                  722,
                  "Haunted World of Edward D. Wood Jr., The (1996)"
                ],
                [
                  724,
                  "Craft, The (1996)"
                ],
                [
                  725,
                  "Great White Hype, The (1996)"
                ],
                [
                  726,
                  "Last Dance (1996)"
                ],
                [
                  728,
                  "Cold Comfort Farm (1995)"
                ],
                [
                  731,
                  "Heaven's Prisoners (1996)"
                ],
                [
                  733,
                  "Rock, The (1996)"
                ],
                [
                  735,
                  "Cemetery Man (Dellamorte Dellamore) (1994)"
                ],
                [
                  736,
                  "Twister (1996)"
                ],
                [
                  737,
                  "Barb Wire (1996)"
                ],
                [
                  741,
                  "Ghost in the Shell (Kôkaku kidôtai) (1995)"
                ],
                [
                  742,
                  "Thinner (1996)"
                ],
                [
                  743,
                  "Spy Hard (1996)"
                ],
                [
                  745,
                  "Wallace & Gromit: A Close Shave (1995)"
                ],
                [
                  747,
                  "Stupids, The (1996)"
                ],
                [
                  748,
                  "Arrival, The (1996)"
                ],
                [
                  750,
                  "Dr. Strangelove or: How I Learned to Stop Worrying and Love the Bomb (1964)"
                ],
                [
                  757,
                  "Ashes of Time (Dung che sai duk) (1994)"
                ],
                [
                  759,
                  "Maya Lin: A Strong Clear Vision (1994)"
                ],
                [
                  760,
                  "Stalingrad (1993)"
                ],
                [
                  761,
                  "Phantom, The (1996)"
                ],
                [
                  762,
                  "Striptease (1996)"
                ],
                [
                  764,
                  "Heavy (1995)"
                ],
                [
                  765,
                  "Jack (1996)"
                ],
                [
                  766,
                  "I Shot Andy Warhol (1996)"
                ],
                [
                  773,
                  "Touki Bouki (1973)"
                ],
                [
                  775,
                  "Spirits of the Dead (1968)"
                ],
                [
                  778,
                  "Trainspotting (1996)"
                ],
                [
                  779,
                  "'Til There Was You (1997)"
                ],
                [
                  780,
                  "Independence Day (a.k.a. ID4) (1996)"
                ],
                [
                  781,
                  "Stealing Beauty (1996)"
                ],
                [
                  782,
                  "Fan, The (1996)"
                ],
                [
                  783,
                  "Hunchback of Notre Dame, The (1996)"
                ],
                [
                  784,
                  "Cable Guy, The (1996)"
                ],
                [
                  785,
                  "Kingpin (1996)"
                ],
                [
                  786,
                  "Eraser (1996)"
                ],
                [
                  788,
                  "Nutty Professor, The (1996)"
                ],
                [
                  790,
                  "Unforgettable Summer, An (Un été inoubliable) (1994)"
                ],
                [
                  791,
                  "Last Klezmer: Leopold Kozlowski, His Life and Music, The (1994)"
                ],
                [
                  795,
                  "Somebody to Love (1994)"
                ],
                [
                  798,
                  "Daylight (1996)"
                ],
                [
                  799,
                  "Frighteners, The (1996)"
                ],
                [
                  800,
                  "Lone Star (1996)"
                ],
                [
                  801,
                  "Harriet the Spy (1996)"
                ],
                [
                  802,
                  "Phenomenon (1996)"
                ],
                [
                  803,
                  "Walking and Talking (1996)"
                ],
                [
                  804,
                  "She's the One (1996)"
                ],
                [
                  805,
                  "Time to Kill, A (1996)"
                ],
                [
                  806,
                  "American Buffalo (1996)"
                ],
                [
                  808,
                  "Alaska (1996)"
                ],
                [
                  809,
                  "Fled (1996)"
                ],
                [
                  810,
                  "Kazaam (1996)"
                ],
                [
                  813,
                  "Larger Than Life (1996)"
                ],
                [
                  818,
                  "Very Brady Sequel, A (1996)"
                ],
                [
                  823,
                  "Collector, The (La collectionneuse) (1967)"
                ],
                [
                  824,
                  "Kaspar Hauser (1993)"
                ],
                [
                  828,
                  "Adventures of Pinocchio, The (1996)"
                ],
                [
                  829,
                  "Joe's Apartment (1996)"
                ],
                [
                  830,
                  "First Wives Club, The (1996)"
                ],
                [
                  832,
                  "Ransom (1996)"
                ],
                [
                  833,
                  "High School High (1996)"
                ],
                [
                  835,
                  "Foxfire (1996)"
                ],
                [
                  836,
                  "Chain Reaction (1996)"
                ],
                [
                  837,
                  "Matilda (1996)"
                ],
                [
                  838,
                  "Emma (1996)"
                ],
                [
                  839,
                  "Crow: City of Angels, The (1996)"
                ],
                [
                  840,
                  "House Arrest (1996)"
                ],
                [
                  841,
                  "Eyes Without a Face (Yeux sans visage, Les) (1959)"
                ],
                [
                  842,
                  "Tales from the Crypt Presents: Bordello of Blood (1996)"
                ],
                [
                  848,
                  "Spitfire Grill, The (1996)"
                ],
                [
                  849,
                  "Escape from L.A. (1996)"
                ],
                [
                  851,
                  "Basquiat (1996)"
                ],
                [
                  852,
                  "Tin Cup (1996)"
                ],
                [
                  858,
                  "Godfather, The (1972)"
                ],
                [
                  861,
                  "Supercop (Police Story 3: Supercop) (Jing cha gu shi III: Chao ji jing cha) (1992)"
                ],
                [
                  866,
                  "Bound (1996)"
                ],
                [
                  867,
                  "Carpool (1996)"
                ],
                [
                  869,
                  "Kansas City (1996)"
                ],
                [
                  870,
                  "Gone Fishin' (1997)"
                ],
                [
                  875,
                  "Nothing to Lose (1994)"
                ],
                [
                  876,
                  "Supercop 2 (Project S) (Chao ji ji hua) (1993)"
                ],
                [
                  879,
                  "Relic, The (1997)"
                ],
                [
                  880,
                  "Island of Dr. Moreau, The (1996)"
                ],
                [
                  881,
                  "First Kid (1996)"
                ],
                [
                  882,
                  "Trigger Effect, The (1996)"
                ],
                [
                  885,
                  "Bogus (1996)"
                ],
                [
                  886,
                  "Bulletproof (1996)"
                ],
                [
                  888,
                  "Land Before Time III: The Time of the Great Giving (1995)"
                ],
                [
                  889,
                  "1-900 (06) (1994)"
                ],
                [
                  891,
                  "Halloween: The Curse of Michael Myers (Halloween 6: The Curse of Michael Myers) (1995)"
                ],
                [
                  892,
                  "Twelfth Night (1996)"
                ],
                [
                  893,
                  "Mother Night (1996)"
                ],
                [
                  896,
                  "Wild Reeds (Les roseaux sauvages) (1994)"
                ],
                [
                  897,
                  "For Whom the Bell Tolls (1943)"
                ],
                [
                  898,
                  "Philadelphia Story, The (1940)"
                ],
                [
                  899,
                  "Singin' in the Rain (1952)"
                ],
                [
                  900,
                  "American in Paris, An (1951)"
                ],
                [
                  901,
                  "Funny Face (1957)"
                ],
                [
                  902,
                  "Breakfast at Tiffany's (1961)"
                ],
                [
                  903,
                  "Vertigo (1958)"
                ],
                [
                  904,
                  "Rear Window (1954)"
                ],
                [
                  905,
                  "It Happened One Night (1934)"
                ],
                [
                  906,
                  "Gaslight (1944)"
                ],
                [
                  907,
                  "Gay Divorcee, The (1934)"
                ],
                [
                  908,
                  "North by Northwest (1959)"
                ],
                [
                  909,
                  "Apartment, The (1960)"
                ],
                [
                  910,
                  "Some Like It Hot (1959)"
                ],
                [
                  911,
                  "Charade (1963)"
                ],
                [
                  912,
                  "Casablanca (1942)"
                ],
                [
                  913,
                  "Maltese Falcon, The (1941)"
                ],
                [
                  914,
                  "My Fair Lady (1964)"
                ],
                [
                  915,
                  "Sabrina (1954)"
                ],
                [
                  916,
                  "Roman Holiday (1953)"
                ],
                [
                  917,
                  "Little Princess, The (1939)"
                ],
                [
                  918,
                  "Meet Me in St. Louis (1944)"
                ],
                [
                  919,
                  "Wizard of Oz, The (1939)"
                ],
                [
                  920,
                  "Gone with the Wind (1939)"
                ],
                [
                  921,
                  "My Favorite Year (1982)"
                ],
                [
                  922,
                  "Sunset Blvd. (a.k.a. Sunset Boulevard) (1950)"
                ],
                [
                  923,
                  "Citizen Kane (1941)"
                ],
                [
                  924,
                  "2001: A Space Odyssey (1968)"
                ],
                [
                  926,
                  "All About Eve (1950)"
                ],
                [
                  927,
                  "Women, The (1939)"
                ],
                [
                  928,
                  "Rebecca (1940)"
                ],
                [
                  929,
                  "Foreign Correspondent (1940)"
                ],
                [
                  930,
                  "Notorious (1946)"
                ],
                [
                  931,
                  "Spellbound (1945)"
                ],
                [
                  932,
                  "Affair to Remember, An (1957)"
                ],
                [
                  933,
                  "To Catch a Thief (1955)"
                ],
                [
                  934,
                  "Father of the Bride (1950)"
                ],
                [
                  935,
                  "Band Wagon, The (1953)"
                ],
                [
                  936,
                  "Ninotchka (1939)"
                ],
                [
                  937,
                  "Love in the Afternoon (1957)"
                ],
                [
                  938,
                  "Gigi (1958)"
                ],
                [
                  940,
                  "Adventures of Robin Hood, The (1938)"
                ],
                [
                  941,
                  "Mark of Zorro, The (1940)"
                ],
                [
                  942,
                  "Laura (1944)"
                ],
                [
                  943,
                  "Ghost and Mrs. Muir, The (1947)"
                ],
                [
                  944,
                  "Lost Horizon (1937)"
                ],
                [
                  945,
                  "Top Hat (1935)"
                ],
                [
                  946,
                  "To Be or Not to Be (1942)"
                ],
                [
                  947,
                  "My Man Godfrey (1936)"
                ],
                [
                  948,
                  "Giant (1956)"
                ],
                [
                  949,
                  "East of Eden (1955)"
                ],
                [
                  950,
                  "Thin Man, The (1934)"
                ],
                [
                  951,
                  "His Girl Friday (1940)"
                ],
                [
                  952,
                  "Around the World in 80 Days (1956)"
                ],
                [
                  953,
                  "It's a Wonderful Life (1946)"
                ],
                [
                  954,
                  "Mr. Smith Goes to Washington (1939)"
                ],
                [
                  955,
                  "Bringing Up Baby (1938)"
                ],
                [
                  956,
                  "Penny Serenade (1941)"
                ],
                [
                  959,
                  "Of Human Bondage (1934)"
                ],
                [
                  961,
                  "Little Lord Fauntleroy (1936)"
                ],
                [
                  963,
                  "Inspector General, The (1949)"
                ],
                [
                  965,
                  "39 Steps, The (1935)"
                ],
                [
                  968,
                  "Night of the Living Dead (1968)"
                ],
                [
                  969,
                  "African Queen, The (1951)"
                ],
                [
                  970,
                  "Beat the Devil (1953)"
                ],
                [
                  971,
                  "Cat on a Hot Tin Roof (1958)"
                ],
                [
                  973,
                  "Meet John Doe (1941)"
                ],
                [
                  976,
                  "Farewell to Arms, A (1932)"
                ],
                [
                  979,
                  "Nothing Personal (1995)"
                ],
                [
                  981,
                  "Dangerous Ground (1997)"
                ],
                [
                  982,
                  "Picnic (1955)"
                ],
                [
                  984,
                  "Pompatus of Love, The (1996)"
                ],
                [
                  986,
                  "Fly Away Home (1996)"
                ],
                [
                  987,
                  "Bliss (1997)"
                ],
                [
                  988,
                  "Grace of My Heart (1996)"
                ],
                [
                  990,
                  "Maximum Risk (1996)"
                ],
                [
                  991,
                  "Michael Collins (1996)"
                ],
                [
                  993,
                  "Infinity (1996)"
                ],
                [
                  994,
                  "Big Night (1996)"
                ],
                [
                  996,
                  "Last Man Standing (1996)"
                ],
                [
                  998,
                  "Set It Off (1996)"
                ],
                [
                  999,
                  "2 Days in the Valley (1996)"
                ],
                [
                  1003,
                  "Extreme Measures (1996)"
                ],
                [
                  1004,
                  "Glimmer Man, The (1996)"
                ],
                [
                  1005,
                  "D3: The Mighty Ducks (1996)"
                ],
                [
                  1006,
                  "Chamber, The (1996)"
                ],
                [
                  1007,
                  "Apple Dumpling Gang, The (1975)"
                ],
                [
                  1008,
                  "Davy Crockett, King of the Wild Frontier (1955)"
                ],
                [
                  1009,
                  "Escape to Witch Mountain (1975)"
                ],
                [
                  1010,
                  "Love Bug, The (1969)"
                ],
                [
                  1011,
                  "Herbie Rides Again (1974)"
                ],
                [
                  1012,
                  "Old Yeller (1957)"
                ],
                [
                  1013,
                  "Parent Trap, The (1961)"
                ],
                [
                  1014,
                  "Pollyanna (1960)"
                ],
                [
                  1015,
                  "Homeward Bound: The Incredible Journey (1993)"
                ],
                [
                  1016,
                  "Shaggy Dog, The (1959)"
                ],
                [
                  1017,
                  "Swiss Family Robinson (1960)"
                ],
                [
                  1018,
                  "That Darn Cat! (1965)"
                ],
                [
                  1019,
                  "20,000 Leagues Under the Sea (1954)"
                ],
                [
                  1020,
                  "Cool Runnings (1993)"
                ],
                [
                  1021,
                  "Angels in the Outfield (1994)"
                ],
                [
                  1022,
                  "Cinderella (1950)"
                ],
                [
                  1023,
                  "Winnie the Pooh and the Blustery Day (1968)"
                ],
                [
                  1024,
                  "Three Caballeros, The (1945)"
                ],
                [
                  1025,
                  "Sword in the Stone, The (1963)"
                ],
                [
                  1027,
                  "Robin Hood: Prince of Thieves (1991)"
                ],
                [
                  1028,
                  "Mary Poppins (1964)"
                ],
                [
                  1029,
                  "Dumbo (1941)"
                ],
                [
                  1030,
                  "Pete's Dragon (1977)"
                ],
                [
                  1031,
                  "Bedknobs and Broomsticks (1971)"
                ],
                [
                  1032,
                  "Alice in Wonderland (1951)"
                ],
                [
                  1033,
                  "Fox and the Hound, The (1981)"
                ],
                [
                  1034,
                  "Freeway (1996)"
                ],
                [
                  1035,
                  "Sound of Music, The (1965)"
                ],
                [
                  1036,
                  "Die Hard (1988)"
                ],
                [
                  1037,
                  "Lawnmower Man, The (1992)"
                ],
                [
                  1040,
                  "Secret Agent, The (1996)"
                ],
                [
                  1041,
                  "Secrets & Lies (1996)"
                ],
                [
                  1042,
                  "That Thing You Do! (1996)"
                ],
                [
                  1043,
                  "To Gillian on Her 37th Birthday (1996)"
                ],
                [
                  1046,
                  "Beautiful Thing (1996)"
                ],
                [
                  1047,
                  "Long Kiss Goodnight, The (1996)"
                ],
                [
                  1049,
                  "Ghost and the Darkness, The (1996)"
                ],
                [
                  1050,
                  "Looking for Richard (1996)"
                ],
                [
                  1051,
                  "Trees Lounge (1996)"
                ],
                [
                  1053,
                  "Normal Life (1996)"
                ],
                [
                  1054,
                  "Get on the Bus (1996)"
                ],
                [
                  1055,
                  "Shadow Conspiracy (1997)"
                ],
                [
                  1056,
                  "Jude (1996)"
                ],
                [
                  1057,
                  "Everyone Says I Love You (1996)"
                ],
                [
                  1059,
                  "William Shakespeare's Romeo + Juliet (1996)"
                ],
                [
                  1060,
                  "Swingers (1996)"
                ],
                [
                  1061,
                  "Sleepers (1996)"
                ],
                [
                  1064,
                  "Aladdin and the King of Thieves (1996)"
                ],
                [
                  1066,
                  "Shall We Dance (1937)"
                ],
                [
                  1068,
                  "Crossfire (1947)"
                ],
                [
                  1073,
                  "Willy Wonka & the Chocolate Factory (1971)"
                ],
                [
                  1076,
                  "Innocents, The (1961)"
                ],
                [
                  1077,
                  "Sleeper (1973)"
                ],
                [
                  1078,
                  "Bananas (1971)"
                ],
                [
                  1079,
                  "Fish Called Wanda, A (1988)"
                ],
                [
                  1080,
                  "Monty Python's Life of Brian (1979)"
                ],
                [
                  1081,
                  "Victor/Victoria (1982)"
                ],
                [
                  1082,
                  "Candidate, The (1972)"
                ],
                [
                  1083,
                  "Great Race, The (1965)"
                ],
                [
                  1084,
                  "Bonnie and Clyde (1967)"
                ],
                [
                  1085,
                  "Old Man and the Sea, The (1958)"
                ],
                [
                  1086,
                  "Dial M for Murder (1954)"
                ],
                [
                  1088,
                  "Dirty Dancing (1987)"
                ],
                [
                  1089,
                  "Reservoir Dogs (1992)"
                ],
                [
                  1090,
                  "Platoon (1986)"
                ],
                [
                  1091,
                  "Weekend at Bernie's (1989)"
                ],
                [
                  1092,
                  "Basic Instinct (1992)"
                ],
                [
                  1093,
                  "Doors, The (1991)"
                ],
                [
                  1094,
                  "Crying Game, The (1992)"
                ],
                [
                  1095,
                  "Glengarry Glen Ross (1992)"
                ],
                [
                  1096,
                  "Sophie's Choice (1982)"
                ],
                [
                  1097,
                  "E.T. the Extra-Terrestrial (1982)"
                ],
                [
                  1099,
                  "Christmas Carol, A (1938)"
                ],
                [
                  1100,
                  "Days of Thunder (1990)"
                ],
                [
                  1101,
                  "Top Gun (1986)"
                ],
                [
                  1103,
                  "Rebel Without a Cause (1955)"
                ],
                [
                  1104,
                  "Streetcar Named Desire, A (1951)"
                ],
                [
                  1105,
                  "Children of the Corn IV: The Gathering (1996)"
                ],
                [
                  1107,
                  "Loser (1991)"
                ],
                [
                  1111,
                  "Microcosmos (Microcosmos: Le peuple de l'herbe) (1996)"
                ],
                [
                  1112,
                  "Palookaville (1996)"
                ],
                [
                  1114,
                  "Funeral, The (1996)"
                ],
                [
                  1116,
                  "Single Girl, A (Fille seule, La) (1995)"
                ],
                [
                  1117,
                  "Eighth Day, The (Huitième jour, Le) (1996)"
                ],
                [
                  1119,
                  "Drunks (1995)"
                ],
                [
                  1120,
                  "People vs. Larry Flynt, The (1996)"
                ],
                [
                  1121,
                  "Glory Daze (1995)"
                ],
                [
                  1123,
                  "Perfect Candidate, A (1996)"
                ],
                [
                  1124,
                  "On Golden Pond (1981)"
                ],
                [
                  1125,
                  "Return of the Pink Panther, The (1975)"
                ],
                [
                  1126,
                  "Drop Dead Fred (1991)"
                ],
                [
                  1127,
                  "Abyss, The (1989)"
                ],
                [
                  1128,
                  "Fog, The (1980)"
                ],
                [
                  1129,
                  "Escape from New York (1981)"
                ],
                [
                  1130,
                  "Howling, The (1980)"
                ],
                [
                  1131,
                  "Jean de Florette (1986)"
                ],
                [
                  1132,
                  "Manon of the Spring (Manon des sources) (1986)"
                ],
                [
                  1135,
                  "Private Benjamin (1980)"
                ],
                [
                  1136,
                  "Monty Python and the Holy Grail (1975)"
                ],
                [
                  1137,
                  "Hustler White (1996)"
                ],
                [
                  1140,
                  "Entertaining Angels: The Dorothy Day Story (1996)"
                ],
                [
                  1144,
                  "Line King: The Al Hirschfeld Story, The (1996)"
                ],
                [
                  1147,
                  "When We Were Kings (1996)"
                ],
                [
                  1148,
                  "Wallace & Gromit: The Wrong Trousers (1993)"
                ],
                [
                  1150,
                  "Return of Martin Guerre, The (Retour de Martin Guerre, Le) (1982)"
                ],
                [
                  1151,
                  "Lesson Faust (1994)"
                ],
                [
                  1156,
                  "Children Are Watching Us, The (Bambini ci guardano, I) (1944)"
                ],
                [
                  1161,
                  "Tin Drum, The (Blechtrommel, Die) (1979)"
                ],
                [
                  1162,
                  "Ruling Class, The (1972)"
                ],
                [
                  1163,
                  "Mina Tannenbaum (1994)"
                ],
                [
                  1167,
                  "Dear God (1996)"
                ],
                [
                  1170,
                  "Best of the Best 3: No Turning Back (1995)"
                ],
                [
                  1171,
                  "Bob Roberts (1992)"
                ],
                [
                  1172,
                  "Cinema Paradiso (Nuovo cinema Paradiso) (1989)"
                ],
                [
                  1173,
                  "Cook the Thief His Wife & Her Lover, The (1989)"
                ],
                [
                  1175,
                  "Delicatessen (1991)"
                ],
                [
                  1176,
                  "Double Life of Veronique, The (Double Vie de Véronique, La) (1991)"
                ],
                [
                  1177,
                  "Enchanted April (1992)"
                ],
                [
                  1178,
                  "Paths of Glory (1957)"
                ],
                [
                  1179,
                  "Grifters, The (1990)"
                ],
                [
                  1180,
                  "Hear My Song (1991)"
                ],
                [
                  1183,
                  "English Patient, The (1996)"
                ],
                [
                  1184,
                  "Mediterraneo (1991)"
                ],
                [
                  1185,
                  "My Left Foot (1989)"
                ],
                [
                  1186,
                  "Sex, Lies, and Videotape (1989)"
                ],
                [
                  1187,
                  "Passion Fish (1992)"
                ],
                [
                  1188,
                  "Strictly Ballroom (1992)"
                ],
                [
                  1189,
                  "Thin Blue Line, The (1988)"
                ],
                [
                  1190,
                  "Tie Me Up! Tie Me Down! (¡Átame!) (1990)"
                ],
                [
                  1191,
                  "Madonna: Truth or Dare (1991)"
                ],
                [
                  1192,
                  "Paris Is Burning (1990)"
                ],
                [
                  1193,
                  "One Flew Over the Cuckoo's Nest (1975)"
                ],
                [
                  1194,
                  "Cheech and Chong's Up in Smoke (1978)"
                ],
                [
                  1196,
                  "Star Wars: Episode V - The Empire Strikes Back (1980)"
                ],
                [
                  1197,
                  "Princess Bride, The (1987)"
                ],
                [
                  1198,
                  "Raiders of the Lost Ark (Indiana Jones and the Raiders of the Lost Ark) (1981)"
                ],
                [
                  1199,
                  "Brazil (1985)"
                ],
                [
                  1200,
                  "Aliens (1986)"
                ],
                [
                  1201,
                  "Good, the Bad and the Ugly, The (Buono, il brutto, il cattivo, Il) (1966)"
                ],
                [
                  1202,
                  "Withnail & I (1987)"
                ],
                [
                  1203,
                  "12 Angry Men (1957)"
                ],
                [
                  1204,
                  "Lawrence of Arabia (1962)"
                ],
                [
                  1206,
                  "Clockwork Orange, A (1971)"
                ],
                [
                  1207,
                  "To Kill a Mockingbird (1962)"
                ],
                [
                  1208,
                  "Apocalypse Now (1979)"
                ],
                [
                  1209,
                  "Once Upon a Time in the West (C'era una volta il West) (1968)"
                ],
                [
                  1210,
                  "Star Wars: Episode VI - Return of the Jedi (1983)"
                ],
                [
                  1211,
                  "Wings of Desire (Himmel über Berlin, Der) (1987)"
                ],
                [
                  1212,
                  "Third Man, The (1949)"
                ],
                [
                  1213,
                  "Goodfellas (1990)"
                ],
                [
                  1214,
                  "Alien (1979)"
                ],
                [
                  1215,
                  "Army of Darkness (1993)"
                ],
                [
                  1216,
                  "Big Blue, The (Grand bleu, Le) (1988)"
                ],
                [
                  1217,
                  "Ran (1985)"
                ],
                [
                  1218,
                  "Killer, The (Die xue shuang xiong) (1989)"
                ],
                [
                  1219,
                  "Psycho (1960)"
                ],
                [
                  1220,
                  "Blues Brothers, The (1980)"
                ],
                [
                  1221,
                  "Godfather: Part II, The (1974)"
                ],
                [
                  1222,
                  "Full Metal Jacket (1987)"
                ],
                [
                  1223,
                  "Grand Day Out with Wallace and Gromit, A (1989)"
                ],
                [
                  1224,
                  "Henry V (1989)"
                ],
                [
                  1225,
                  "Amadeus (1984)"
                ],
                [
                  1226,
                  "Quiet Man, The (1952)"
                ],
                [
                  1227,
                  "Once Upon a Time in America (1984)"
                ],
                [
                  1228,
                  "Raging Bull (1980)"
                ],
                [
                  1230,
                  "Annie Hall (1977)"
                ],
                [
                  1231,
                  "Right Stuff, The (1983)"
                ],
                [
                  1232,
                  "Stalker (1979)"
                ],
                [
                  1233,
                  "Boot, Das (Boat, The) (1981)"
                ],
                [
                  1234,
                  "Sting, The (1973)"
                ],
                [
                  1235,
                  "Harold and Maude (1971)"
                ],
                [
                  1236,
                  "Trust (1990)"
                ],
                [
                  1237,
                  "Seventh Seal, The (Sjunde inseglet, Det) (1957)"
                ],
                [
                  1238,
                  "Local Hero (1983)"
                ],
                [
                  1240,
                  "Terminator, The (1984)"
                ],
                [
                  1241,
                  "Dead Alive (Braindead) (1992)"
                ],
                [
                  1242,
                  "Glory (1989)"
                ],
                [
                  1243,
                  "Rosencrantz and Guildenstern Are Dead (1990)"
                ],
                [
                  1244,
                  "Manhattan (1979)"
                ],
                [
                  1245,
                  "Miller's Crossing (1990)"
                ],
                [
                  1246,
                  "Dead Poets Society (1989)"
                ],
                [
                  1247,
                  "Graduate, The (1967)"
                ],
                [
                  1248,
                  "Touch of Evil (1958)"
                ],
                [
                  1249,
                  "Femme Nikita, La (Nikita) (1990)"
                ],
                [
                  1250,
                  "Bridge on the River Kwai, The (1957)"
                ],
                [
                  1251,
                  "8 1/2 (8½) (1963)"
                ],
                [
                  1252,
                  "Chinatown (1974)"
                ],
                [
                  1253,
                  "Day the Earth Stood Still, The (1951)"
                ],
                [
                  1254,
                  "Treasure of the Sierra Madre, The (1948)"
                ],
                [
                  1255,
                  "Bad Taste (1987)"
                ],
                [
                  1256,
                  "Duck Soup (1933)"
                ],
                [
                  1257,
                  "Better Off Dead... (1985)"
                ],
                [
                  1258,
                  "Shining, The (1980)"
                ],
                [
                  1259,
                  "Stand by Me (1986)"
                ],
                [
                  1260,
                  "M (1931)"
                ],
                [
                  1261,
                  "Evil Dead II (Dead by Dawn) (1987)"
                ],
                [
                  1262,
                  "Great Escape, The (1963)"
                ],
                [
                  1263,
                  "Deer Hunter, The (1978)"
                ],
                [
                  1264,
                  "Diva (1981)"
                ],
                [
                  1265,
                  "Groundhog Day (1993)"
                ],
                [
                  1266,
                  "Unforgiven (1992)"
                ],
                [
                  1267,
                  "Manchurian Candidate, The (1962)"
                ],
                [
                  1268,
                  "Pump Up the Volume (1990)"
                ],
                [
                  1269,
                  "Arsenic and Old Lace (1944)"
                ],
                [
                  1270,
                  "Back to the Future (1985)"
                ],
                [
                  1271,
                  "Fried Green Tomatoes (1991)"
                ],
                [
                  1272,
                  "Patton (1970)"
                ],
                [
                  1273,
                  "Down by Law (1986)"
                ],
                [
                  1274,
                  "Akira (1988)"
                ],
                [
                  1275,
                  "Highlander (1986)"
                ],
                [
                  1276,
                  "Cool Hand Luke (1967)"
                ],
                [
                  1277,
                  "Cyrano de Bergerac (1990)"
                ],
                [
                  1278,
                  "Young Frankenstein (1974)"
                ],
                [
                  1279,
                  "Night on Earth (1991)"
                ],
                [
                  1280,
                  "Raise the Red Lantern (Da hong deng long gao gao gua) (1991)"
                ],
                [
                  1281,
                  "Great Dictator, The (1940)"
                ],
                [
                  1282,
                  "Fantasia (1940)"
                ],
                [
                  1283,
                  "High Noon (1952)"
                ],
                [
                  1284,
                  "Big Sleep, The (1946)"
                ],
                [
                  1285,
                  "Heathers (1989)"
                ],
                [
                  1286,
                  "Somewhere in Time (1980)"
                ],
                [
                  1287,
                  "Ben-Hur (1959)"
                ],
                [
                  1288,
                  "This Is Spinal Tap (1984)"
                ],
                [
                  1289,
                  "Koyaanisqatsi (a.k.a. Koyaanisqatsi: Life Out of Balance) (1983)"
                ],
                [
                  1290,
                  "Some Kind of Wonderful (1987)"
                ],
                [
                  1291,
                  "Indiana Jones and the Last Crusade (1989)"
                ],
                [
                  1292,
                  "Being There (1979)"
                ],
                [
                  1293,
                  "Gandhi (1982)"
                ],
                [
                  1295,
                  "Unbearable Lightness of Being, The (1988)"
                ],
                [
                  1296,
                  "Room with a View, A (1986)"
                ],
                [
                  1297,
                  "Real Genius (1985)"
                ],
                [
                  1298,
                  "Pink Floyd: The Wall (1982)"
                ],
                [
                  1299,
                  "Killing Fields, The (1984)"
                ],
                [
                  1300,
                  "My Life as a Dog (Mitt liv som hund) (1985)"
                ],
                [
                  1301,
                  "Forbidden Planet (1956)"
                ]
              ]
            },
            "text/plain": "<Spark SQL result set with 1000 rows and 2 fields>"
          },
          "execution_count": 7,
          "metadata": {}
        }
      ],
      "metadata": {
        "jupyter": {
          "source_hidden": false,
          "outputs_hidden": false
        },
        "nteract": {
          "transient": {
            "deleting": false
          }
        },
        "microsoft": {
          "language": "sparksql"
        },
        "collapsed": false
      },
      "source": [
        "%%sql\n",
        "\n",
        "select movieId, title from default.tbl_movies"
      ]
    }
  ]
}