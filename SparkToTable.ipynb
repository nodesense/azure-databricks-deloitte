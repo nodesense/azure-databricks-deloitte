{
  "nbformat": 4,
  "nbformat_minor": 2,
  "metadata": {
    "kernelspec": {
      "name": "synapse_pyspark",
      "display_name": "python"
    },
    "language_info": {
      "name": "python"
    },
    "save_output": true,
    "synapse_widget": {
      "version": "0.1",
      "state": {
        "c40f1c19-f1c4-4282-8abd-5c1298c337df": {
          "type": "Synapse.DataFrame",
          "sync_state": {
            "table": {
              "rows": [
                {
                  "_c0": "06/10/2010",
                  "_c1": "08:00:00",
                  "_c2": "106",
                  "_c3": "348746"
                },
                {
                  "_c0": "06/10/2010",
                  "_c1": "08:00:00",
                  "_c2": "105",
                  "_c3": "331580"
                },
                {
                  "_c0": "06/10/2010",
                  "_c1": "08:00:00",
                  "_c2": "105.5",
                  "_c3": "352352"
                },
                {
                  "_c0": "06/10/2010",
                  "_c1": "08:00:00",
                  "_c2": "106.5",
                  "_c3": "347253"
                },
                {
                  "_c0": "06/10/2010",
                  "_c1": "08:00:00",
                  "_c2": "105",
                  "_c3": "330164"
                },
                {
                  "_c0": "06/10/2010",
                  "_c1": "08:00:01",
                  "_c2": "106.5",
                  "_c3": "332688"
                },
                {
                  "_c0": "06/10/2010",
                  "_c1": "08:00:01",
                  "_c2": "107",
                  "_c3": "343413"
                },
                {
                  "_c0": "06/10/2010",
                  "_c1": "08:00:02",
                  "_c2": "107",
                  "_c3": "337008"
                },
                {
                  "_c0": "06/10/2010",
                  "_c1": "08:00:02",
                  "_c2": "107",
                  "_c3": "346299"
                },
                {
                  "_c0": "06/10/2010",
                  "_c1": "08:00:02",
                  "_c2": "105",
                  "_c3": "342927"
                }
              ],
              "schema": {
                "_c0": "string",
                "_c1": "string",
                "_c2": "string",
                "_c3": "string"
              }
            },
            "isSummary": false,
            "language": "scala"
          },
          "persist_state": {
            "view": {
              "type": "details",
              "tableOptions": {},
              "chartOptions": {
                "chartType": "bar",
                "aggregationType": "count",
                "categoryFieldKeys": [
                  "_c0"
                ],
                "seriesFieldKeys": [
                  "_c0"
                ],
                "isStacked": false
              }
            }
          }
        },
        "c3d81418-7297-4f6b-83ec-cb31f306516a": {
          "type": "Synapse.DataFrame",
          "sync_state": {
            "table": {
              "rows": [
                {
                  "name": "ADA",
                  "Min": 101.5,
                  "timestamp": {
                    "start": "2010-10-06T08:00:00Z",
                    "end": "2010-10-06T08:05:00Z"
                  },
                  "Change": 0.06,
                  "Max": 107.5,
                  "Avg": 104.59722222222223
                },
                {
                  "name": "ADA",
                  "Min": 98,
                  "timestamp": {
                    "start": "2010-10-06T08:05:00Z",
                    "end": "2010-10-06T08:10:00Z"
                  },
                  "Change": 0.08,
                  "Max": 106,
                  "Avg": 100.97058823529412
                },
                {
                  "name": "ADA",
                  "Min": 99.5,
                  "timestamp": {
                    "start": "2010-10-06T08:10:00Z",
                    "end": "2010-10-06T08:15:00Z"
                  },
                  "Change": 0.095,
                  "Max": 109,
                  "Avg": 104.49253731343283
                },
                {
                  "name": "ADA",
                  "Min": 106,
                  "timestamp": {
                    "start": "2010-10-06T08:15:00Z",
                    "end": "2010-10-06T08:20:00Z"
                  },
                  "Change": 0.055,
                  "Max": 111.5,
                  "Avg": 107.96428571428571
                },
                {
                  "name": "ADA",
                  "Min": 105.5,
                  "timestamp": {
                    "start": "2010-10-06T08:20:00Z",
                    "end": "2010-10-06T08:25:00Z"
                  },
                  "Change": 0.05,
                  "Max": 110.5,
                  "Avg": 108.5909090909091
                },
                {
                  "name": "ADA",
                  "Min": 105.5,
                  "timestamp": {
                    "start": "2010-10-06T08:25:00Z",
                    "end": "2010-10-06T08:30:00Z"
                  },
                  "Change": 0.05,
                  "Max": 110.5,
                  "Avg": 107.41666666666667
                },
                {
                  "name": "ADA",
                  "Min": 107,
                  "timestamp": {
                    "start": "2010-10-06T08:30:00Z",
                    "end": "2010-10-06T08:35:00Z"
                  },
                  "Change": 0.05,
                  "Max": 112,
                  "Avg": 110.58823529411765
                },
                {
                  "name": "ADA",
                  "Min": 102,
                  "timestamp": {
                    "start": "2010-10-06T08:35:00Z",
                    "end": "2010-10-06T08:40:00Z"
                  },
                  "Change": 0.08,
                  "Max": 110,
                  "Avg": 106.109375
                },
                {
                  "name": "ADA",
                  "Min": 99.5,
                  "timestamp": {
                    "start": "2010-10-06T08:40:00Z",
                    "end": "2010-10-06T08:45:00Z"
                  },
                  "Change": 0.07,
                  "Max": 106.5,
                  "Avg": 101.92537313432835
                },
                {
                  "name": "ADA",
                  "Min": 102.5,
                  "timestamp": {
                    "start": "2010-10-06T08:45:00Z",
                    "end": "2010-10-06T08:50:00Z"
                  },
                  "Change": 0.035,
                  "Max": 106,
                  "Avg": 104.56
                },
                {
                  "name": "ADA",
                  "Min": 105,
                  "timestamp": {
                    "start": "2010-10-06T08:50:00Z",
                    "end": "2010-10-06T08:55:00Z"
                  },
                  "Change": 0.05,
                  "Max": 110,
                  "Avg": 107.28358208955224
                },
                {
                  "name": "ADA",
                  "Min": 106,
                  "timestamp": {
                    "start": "2010-10-06T08:55:00Z",
                    "end": "2010-10-06T09:00:00Z"
                  },
                  "Change": 0.065,
                  "Max": 112.5,
                  "Avg": 109.52307692307693
                },
                {
                  "name": "ADA",
                  "Min": 108,
                  "timestamp": {
                    "start": "2010-10-06T09:00:00Z",
                    "end": "2010-10-06T09:05:00Z"
                  },
                  "Change": 0.1,
                  "Max": 118,
                  "Avg": 114.04625550660793
                },
                {
                  "name": "ADA",
                  "Min": 107.5,
                  "timestamp": {
                    "start": "2010-10-06T09:05:00Z",
                    "end": "2010-10-06T09:10:00Z"
                  },
                  "Change": 0.1,
                  "Max": 117.5,
                  "Avg": 113.05450236966824
                },
                {
                  "name": "ADA",
                  "Min": 108.5,
                  "timestamp": {
                    "start": "2010-10-06T09:10:00Z",
                    "end": "2010-10-06T09:15:00Z"
                  },
                  "Change": 0.09,
                  "Max": 117.5,
                  "Avg": 113.34756097560975
                },
                {
                  "name": "ADA",
                  "Min": 106.5,
                  "timestamp": {
                    "start": "2010-10-06T09:15:00Z",
                    "end": "2010-10-06T09:20:00Z"
                  },
                  "Change": 0.085,
                  "Max": 115,
                  "Avg": 111.57621951219512
                },
                {
                  "name": "ADA",
                  "Min": 98.5,
                  "timestamp": {
                    "start": "2010-10-06T09:20:00Z",
                    "end": "2010-10-06T09:25:00Z"
                  },
                  "Change": 0.075,
                  "Max": 106,
                  "Avg": 101.79268292682927
                },
                {
                  "name": "ADA",
                  "Min": 96.5,
                  "timestamp": {
                    "start": "2010-10-06T09:25:00Z",
                    "end": "2010-10-06T09:30:00Z"
                  },
                  "Change": 0.105,
                  "Max": 107,
                  "Avg": 101.0925925925926
                },
                {
                  "name": "ADA",
                  "Min": 106.5,
                  "timestamp": {
                    "start": "2010-10-06T09:30:00Z",
                    "end": "2010-10-06T09:35:00Z"
                  },
                  "Change": 0.115,
                  "Max": 118,
                  "Avg": 111.79513888888889
                },
                {
                  "name": "ADA",
                  "Min": 111.5,
                  "timestamp": {
                    "start": "2010-10-06T09:35:00Z",
                    "end": "2010-10-06T09:40:00Z"
                  },
                  "Change": 0.055,
                  "Max": 117,
                  "Avg": 114.38571428571429
                },
                {
                  "name": "ADA",
                  "Min": 113.5,
                  "timestamp": {
                    "start": "2010-10-06T09:40:00Z",
                    "end": "2010-10-06T09:45:00Z"
                  },
                  "Change": 0.08,
                  "Max": 121.5,
                  "Avg": 117.90384615384616
                },
                {
                  "name": "ADA",
                  "Min": 117,
                  "timestamp": {
                    "start": "2010-10-06T09:45:00Z",
                    "end": "2010-10-06T09:50:00Z"
                  },
                  "Change": 0.13,
                  "Max": 130,
                  "Avg": 125.42619047619047
                },
                {
                  "name": "ADA",
                  "Min": 120.5,
                  "timestamp": {
                    "start": "2010-10-06T09:50:00Z",
                    "end": "2010-10-06T09:55:00Z"
                  },
                  "Change": 0.08,
                  "Max": 128.5,
                  "Avg": 123.8006329113924
                },
                {
                  "name": "ADA",
                  "Min": 116,
                  "timestamp": {
                    "start": "2010-10-06T09:55:00Z",
                    "end": "2010-10-06T10:00:00Z"
                  },
                  "Change": 0.13,
                  "Max": 129,
                  "Avg": 122.490625
                },
                {
                  "name": "ADA",
                  "Min": 114,
                  "timestamp": {
                    "start": "2010-10-06T10:00:00Z",
                    "end": "2010-10-06T10:05:00Z"
                  },
                  "Change": 0.07,
                  "Max": 121,
                  "Avg": 118.60227272727273
                },
                {
                  "name": "ADA",
                  "Min": 114,
                  "timestamp": {
                    "start": "2010-10-06T10:05:00Z",
                    "end": "2010-10-06T10:10:00Z"
                  },
                  "Change": 0.095,
                  "Max": 123.5,
                  "Avg": 118.23979591836735
                },
                {
                  "name": "ADA",
                  "Min": 114,
                  "timestamp": {
                    "start": "2010-10-06T10:10:00Z",
                    "end": "2010-10-06T10:15:00Z"
                  },
                  "Change": 0.125,
                  "Max": 126.5,
                  "Avg": 120.5
                },
                {
                  "name": "ADA",
                  "Min": 118.5,
                  "timestamp": {
                    "start": "2010-10-06T10:15:00Z",
                    "end": "2010-10-06T10:20:00Z"
                  },
                  "Change": 0.1,
                  "Max": 128.5,
                  "Avg": 123.552
                },
                {
                  "name": "ADA",
                  "Min": 118,
                  "timestamp": {
                    "start": "2010-10-06T10:20:00Z",
                    "end": "2010-10-06T10:25:00Z"
                  },
                  "Change": 0.17,
                  "Max": 135,
                  "Avg": 126.252
                },
                {
                  "name": "ADA",
                  "Min": 133.5,
                  "timestamp": {
                    "start": "2010-10-06T10:25:00Z",
                    "end": "2010-10-06T10:30:00Z"
                  },
                  "Change": 0.07,
                  "Max": 140.5,
                  "Avg": 136.57558139534885
                },
                {
                  "name": "ADA",
                  "Min": 137,
                  "timestamp": {
                    "start": "2010-10-06T10:30:00Z",
                    "end": "2010-10-06T10:35:00Z"
                  },
                  "Change": 0.095,
                  "Max": 146.5,
                  "Avg": 142.07766990291262
                },
                {
                  "name": "ADA",
                  "Min": 142,
                  "timestamp": {
                    "start": "2010-10-06T10:35:00Z",
                    "end": "2010-10-06T10:40:00Z"
                  },
                  "Change": 0.21,
                  "Max": 163,
                  "Avg": 153.36328125
                },
                {
                  "name": "ADA",
                  "Min": 158,
                  "timestamp": {
                    "start": "2010-10-06T10:40:00Z",
                    "end": "2010-10-06T10:45:00Z"
                  },
                  "Change": 0.11,
                  "Max": 169,
                  "Avg": 164.22762645914398
                },
                {
                  "name": "ADA",
                  "Min": 165.5,
                  "timestamp": {
                    "start": "2010-10-06T10:45:00Z",
                    "end": "2010-10-06T10:50:00Z"
                  },
                  "Change": 0.08,
                  "Max": 173.5,
                  "Avg": 169.45278969957081
                },
                {
                  "name": "ADA",
                  "Min": 165.5,
                  "timestamp": {
                    "start": "2010-10-06T10:50:00Z",
                    "end": "2010-10-06T10:55:00Z"
                  },
                  "Change": 0.06,
                  "Max": 171.5,
                  "Avg": 167.98536585365855
                },
                {
                  "name": "ADA",
                  "Min": 167,
                  "timestamp": {
                    "start": "2010-10-06T10:55:00Z",
                    "end": "2010-10-06T11:00:00Z"
                  },
                  "Change": 0.045,
                  "Max": 171.5,
                  "Avg": 169.17732558139534
                },
                {
                  "name": "ADA",
                  "Min": 163.5,
                  "timestamp": {
                    "start": "2010-10-06T11:00:00Z",
                    "end": "2010-10-06T11:05:00Z"
                  },
                  "Change": 0.055,
                  "Max": 169,
                  "Avg": 166.05769230769232
                },
                {
                  "name": "ADA",
                  "Min": 164,
                  "timestamp": {
                    "start": "2010-10-06T11:05:00Z",
                    "end": "2010-10-06T11:10:00Z"
                  },
                  "Change": 0.055,
                  "Max": 169.5,
                  "Avg": 166.87610619469027
                },
                {
                  "name": "ADA",
                  "Min": 167.5,
                  "timestamp": {
                    "start": "2010-10-06T11:10:00Z",
                    "end": "2010-10-06T11:15:00Z"
                  },
                  "Change": 0.085,
                  "Max": 176,
                  "Avg": 171.36764705882354
                },
                {
                  "name": "ADA",
                  "Min": 172.5,
                  "timestamp": {
                    "start": "2010-10-06T11:15:00Z",
                    "end": "2010-10-06T11:20:00Z"
                  },
                  "Change": 0.09,
                  "Max": 181.5,
                  "Avg": 176.05
                },
                {
                  "name": "ADA",
                  "Min": 174,
                  "timestamp": {
                    "start": "2010-10-06T11:20:00Z",
                    "end": "2010-10-06T11:25:00Z"
                  },
                  "Change": 0.08,
                  "Max": 182,
                  "Avg": 176.99295774647888
                },
                {
                  "name": "ADA",
                  "Min": 179,
                  "timestamp": {
                    "start": "2010-10-06T11:25:00Z",
                    "end": "2010-10-06T11:30:00Z"
                  },
                  "Change": 0.055,
                  "Max": 184.5,
                  "Avg": 181.5121212121212
                },
                {
                  "name": "ADA",
                  "Min": 174,
                  "timestamp": {
                    "start": "2010-10-06T11:30:00Z",
                    "end": "2010-10-06T11:35:00Z"
                  },
                  "Change": 0.065,
                  "Max": 180.5,
                  "Avg": 177.875
                },
                {
                  "name": "ADA",
                  "Min": 172.5,
                  "timestamp": {
                    "start": "2010-10-06T11:35:00Z",
                    "end": "2010-10-06T11:40:00Z"
                  },
                  "Change": 0.025,
                  "Max": 175,
                  "Avg": 173.82038834951456
                },
                {
                  "name": "ADA",
                  "Min": 172,
                  "timestamp": {
                    "start": "2010-10-06T11:40:00Z",
                    "end": "2010-10-06T11:45:00Z"
                  },
                  "Change": 0.065,
                  "Max": 178.5,
                  "Avg": 175.5529411764706
                },
                {
                  "name": "ADA",
                  "Min": 175,
                  "timestamp": {
                    "start": "2010-10-06T11:45:00Z",
                    "end": "2010-10-06T11:50:00Z"
                  },
                  "Change": 0.035,
                  "Max": 178.5,
                  "Avg": 176.85256410256412
                },
                {
                  "name": "ADA",
                  "Min": 174.5,
                  "timestamp": {
                    "start": "2010-10-06T11:50:00Z",
                    "end": "2010-10-06T11:55:00Z"
                  },
                  "Change": 0.045,
                  "Max": 179,
                  "Avg": 176.64615384615385
                },
                {
                  "name": "ADA",
                  "Min": 170.5,
                  "timestamp": {
                    "start": "2010-10-06T11:55:00Z",
                    "end": "2010-10-06T12:00:00Z"
                  },
                  "Change": 0.055,
                  "Max": 176,
                  "Avg": 172.92857142857142
                },
                {
                  "name": "ADA",
                  "Min": 169,
                  "timestamp": {
                    "start": "2010-10-06T12:00:00Z",
                    "end": "2010-10-06T12:05:00Z"
                  },
                  "Change": 0.04,
                  "Max": 173,
                  "Avg": 171.232
                },
                {
                  "name": "ADA",
                  "Min": 164,
                  "timestamp": {
                    "start": "2010-10-06T12:05:00Z",
                    "end": "2010-10-06T12:10:00Z"
                  },
                  "Change": 0.06,
                  "Max": 170,
                  "Avg": 166.28731343283582
                },
                {
                  "name": "ADA",
                  "Min": 163.5,
                  "timestamp": {
                    "start": "2010-10-06T12:10:00Z",
                    "end": "2010-10-06T12:15:00Z"
                  },
                  "Change": 0.045,
                  "Max": 168,
                  "Avg": 166.1
                },
                {
                  "name": "ADA",
                  "Min": 167,
                  "timestamp": {
                    "start": "2010-10-06T12:15:00Z",
                    "end": "2010-10-06T12:20:00Z"
                  },
                  "Change": 0.03,
                  "Max": 170,
                  "Avg": 168.52857142857144
                },
                {
                  "name": "ADA",
                  "Min": 167.5,
                  "timestamp": {
                    "start": "2010-10-06T12:20:00Z",
                    "end": "2010-10-06T12:25:00Z"
                  },
                  "Change": 0.03,
                  "Max": 170.5,
                  "Avg": 169.375
                },
                {
                  "name": "ADA",
                  "Min": 169.5,
                  "timestamp": {
                    "start": "2010-10-06T12:25:00Z",
                    "end": "2010-10-06T12:30:00Z"
                  },
                  "Change": 0.045,
                  "Max": 174,
                  "Avg": 172.1358024691358
                },
                {
                  "name": "ADA",
                  "Min": 171.5,
                  "timestamp": {
                    "start": "2010-10-06T12:30:00Z",
                    "end": "2010-10-06T12:35:00Z"
                  },
                  "Change": 0.025,
                  "Max": 174,
                  "Avg": 172.9322033898305
                },
                {
                  "name": "ADA",
                  "Min": 173,
                  "timestamp": {
                    "start": "2010-10-06T12:35:00Z",
                    "end": "2010-10-06T12:40:00Z"
                  },
                  "Change": 0.035,
                  "Max": 176.5,
                  "Avg": 174.80246913580248
                },
                {
                  "name": "ADA",
                  "Min": 172.5,
                  "timestamp": {
                    "start": "2010-10-06T12:40:00Z",
                    "end": "2010-10-06T12:45:00Z"
                  },
                  "Change": 0.03,
                  "Max": 175.5,
                  "Avg": 174.10169491525423
                },
                {
                  "name": "ADA",
                  "Min": 172.5,
                  "timestamp": {
                    "start": "2010-10-06T12:45:00Z",
                    "end": "2010-10-06T12:50:00Z"
                  },
                  "Change": 0.035,
                  "Max": 176,
                  "Avg": 173.8125
                },
                {
                  "name": "ADA",
                  "Min": 173,
                  "timestamp": {
                    "start": "2010-10-06T12:50:00Z",
                    "end": "2010-10-06T12:55:00Z"
                  },
                  "Change": 0.025,
                  "Max": 175.5,
                  "Avg": 174.03846153846155
                },
                {
                  "name": "ADA",
                  "Min": 172,
                  "timestamp": {
                    "start": "2010-10-06T12:55:00Z",
                    "end": "2010-10-06T13:00:00Z"
                  },
                  "Change": 0.055,
                  "Max": 177.5,
                  "Avg": 174.76923076923077
                },
                {
                  "name": "ADA",
                  "Min": 173,
                  "timestamp": {
                    "start": "2010-10-06T13:00:00Z",
                    "end": "2010-10-06T13:05:00Z"
                  },
                  "Change": 0.035,
                  "Max": 176.5,
                  "Avg": 175.05084745762713
                },
                {
                  "name": "ADA",
                  "Min": 173,
                  "timestamp": {
                    "start": "2010-10-06T13:05:00Z",
                    "end": "2010-10-06T13:10:00Z"
                  },
                  "Change": 0.03,
                  "Max": 176,
                  "Avg": 174.61627906976744
                },
                {
                  "name": "ADA",
                  "Min": 173.5,
                  "timestamp": {
                    "start": "2010-10-06T13:10:00Z",
                    "end": "2010-10-06T13:15:00Z"
                  },
                  "Change": 0.025,
                  "Max": 176,
                  "Avg": 174.625
                },
                {
                  "name": "ADA",
                  "Min": 171,
                  "timestamp": {
                    "start": "2010-10-06T13:15:00Z",
                    "end": "2010-10-06T13:20:00Z"
                  },
                  "Change": 0.05,
                  "Max": 176,
                  "Avg": 173.41549295774647
                },
                {
                  "name": "ADA",
                  "Min": 169,
                  "timestamp": {
                    "start": "2010-10-06T13:20:00Z",
                    "end": "2010-10-06T13:25:00Z"
                  },
                  "Change": 0.04,
                  "Max": 173,
                  "Avg": 170.95192307692307
                },
                {
                  "name": "ADA",
                  "Min": 166.5,
                  "timestamp": {
                    "start": "2010-10-06T13:25:00Z",
                    "end": "2010-10-06T13:30:00Z"
                  },
                  "Change": 0.045,
                  "Max": 171,
                  "Avg": 168.40714285714284
                },
                {
                  "name": "ADA",
                  "Min": 166.5,
                  "timestamp": {
                    "start": "2010-10-06T13:30:00Z",
                    "end": "2010-10-06T13:35:00Z"
                  },
                  "Change": 0.035,
                  "Max": 170,
                  "Avg": 168.28235294117647
                },
                {
                  "name": "ADA",
                  "Min": 165.5,
                  "timestamp": {
                    "start": "2010-10-06T13:35:00Z",
                    "end": "2010-10-06T13:40:00Z"
                  },
                  "Change": 0.055,
                  "Max": 171,
                  "Avg": 167.68666666666667
                },
                {
                  "name": "ADA",
                  "Min": 169,
                  "timestamp": {
                    "start": "2010-10-06T13:40:00Z",
                    "end": "2010-10-06T13:45:00Z"
                  },
                  "Change": 0.035,
                  "Max": 172.5,
                  "Avg": 170.57746478873239
                },
                {
                  "name": "ADA",
                  "Min": 158.5,
                  "timestamp": {
                    "start": "2010-10-06T13:45:00Z",
                    "end": "2010-10-06T13:50:00Z"
                  },
                  "Change": 0.115,
                  "Max": 170,
                  "Avg": 163.6144578313253
                },
                {
                  "name": "ADA",
                  "Min": 160.5,
                  "timestamp": {
                    "start": "2010-10-06T13:50:00Z",
                    "end": "2010-10-06T13:55:00Z"
                  },
                  "Change": 0.07,
                  "Max": 167.5,
                  "Avg": 163.7719298245614
                },
                {
                  "name": "ADA",
                  "Min": 158,
                  "timestamp": {
                    "start": "2010-10-06T13:55:00Z",
                    "end": "2010-10-06T14:00:00Z"
                  },
                  "Change": 0.05,
                  "Max": 163,
                  "Avg": 160.6039603960396
                },
                {
                  "name": "ADA",
                  "Min": 157.5,
                  "timestamp": {
                    "start": "2010-10-06T14:00:00Z",
                    "end": "2010-10-06T14:05:00Z"
                  },
                  "Change": 0.045,
                  "Max": 162,
                  "Avg": 159.22549019607843
                },
                {
                  "name": "ADA",
                  "Min": 156.5,
                  "timestamp": {
                    "start": "2010-10-06T14:05:00Z",
                    "end": "2010-10-06T14:10:00Z"
                  },
                  "Change": 0.045,
                  "Max": 161,
                  "Avg": 159.2235294117647
                },
                {
                  "name": "ADA",
                  "Min": 154.5,
                  "timestamp": {
                    "start": "2010-10-06T14:10:00Z",
                    "end": "2010-10-06T14:15:00Z"
                  },
                  "Change": 0.06,
                  "Max": 160.5,
                  "Avg": 157.24553571428572
                },
                {
                  "name": "ADA",
                  "Min": 157.5,
                  "timestamp": {
                    "start": "2010-10-06T14:15:00Z",
                    "end": "2010-10-06T14:20:00Z"
                  },
                  "Change": 0.045,
                  "Max": 162,
                  "Avg": 160.33653846153845
                },
                {
                  "name": "ADA",
                  "Min": 156,
                  "timestamp": {
                    "start": "2010-10-06T14:20:00Z",
                    "end": "2010-10-06T14:25:00Z"
                  },
                  "Change": 0.06,
                  "Max": 162,
                  "Avg": 158.49418604651163
                },
                {
                  "name": "ADA",
                  "Min": 158.5,
                  "timestamp": {
                    "start": "2010-10-06T14:25:00Z",
                    "end": "2010-10-06T14:30:00Z"
                  },
                  "Change": 0.04,
                  "Max": 162.5,
                  "Avg": 160.5287356321839
                },
                {
                  "name": "ADA",
                  "Min": 157,
                  "timestamp": {
                    "start": "2010-10-06T14:30:00Z",
                    "end": "2010-10-06T14:35:00Z"
                  },
                  "Change": 0.15,
                  "Max": 172,
                  "Avg": 166.2945945945946
                },
                {
                  "name": "ADA",
                  "Min": 155.5,
                  "timestamp": {
                    "start": "2010-10-06T14:35:00Z",
                    "end": "2010-10-06T14:40:00Z"
                  },
                  "Change": 0.115,
                  "Max": 167,
                  "Avg": 161.29931972789115
                },
                {
                  "name": "ADA",
                  "Min": 151,
                  "timestamp": {
                    "start": "2010-10-06T14:40:00Z",
                    "end": "2010-10-06T14:45:00Z"
                  },
                  "Change": 0.095,
                  "Max": 160.5,
                  "Avg": 155.29640718562874
                },
                {
                  "name": "ADA",
                  "Min": 147.5,
                  "timestamp": {
                    "start": "2010-10-06T14:45:00Z",
                    "end": "2010-10-06T14:50:00Z"
                  },
                  "Change": 0.07,
                  "Max": 154.5,
                  "Avg": 150.77083333333334
                },
                {
                  "name": "ADA",
                  "Min": 152,
                  "timestamp": {
                    "start": "2010-10-06T14:50:00Z",
                    "end": "2010-10-06T14:55:00Z"
                  },
                  "Change": 0.06,
                  "Max": 158,
                  "Avg": 154.45744680851064
                },
                {
                  "name": "ADA",
                  "Min": 157,
                  "timestamp": {
                    "start": "2010-10-06T14:55:00Z",
                    "end": "2010-10-06T15:00:00Z"
                  },
                  "Change": 0.07,
                  "Max": 164,
                  "Avg": 160.66013071895424
                },
                {
                  "name": "ADA",
                  "Min": 160.5,
                  "timestamp": {
                    "start": "2010-10-06T15:00:00Z",
                    "end": "2010-10-06T15:05:00Z"
                  },
                  "Change": 0.07,
                  "Max": 167.5,
                  "Avg": 163.51572327044025
                },
                {
                  "name": "ADA",
                  "Min": 162.5,
                  "timestamp": {
                    "start": "2010-10-06T15:05:00Z",
                    "end": "2010-10-06T15:10:00Z"
                  },
                  "Change": 0.1,
                  "Max": 172.5,
                  "Avg": 168.01445086705203
                },
                {
                  "name": "ADA",
                  "Min": 167.5,
                  "timestamp": {
                    "start": "2010-10-06T15:10:00Z",
                    "end": "2010-10-06T15:15:00Z"
                  },
                  "Change": 0.05,
                  "Max": 172.5,
                  "Avg": 170.18835616438355
                },
                {
                  "name": "ADA",
                  "Min": 169.5,
                  "timestamp": {
                    "start": "2010-10-06T15:15:00Z",
                    "end": "2010-10-06T15:20:00Z"
                  },
                  "Change": 0.205,
                  "Max": 190,
                  "Avg": 181.79807692307693
                },
                {
                  "name": "ADA",
                  "Min": 183,
                  "timestamp": {
                    "start": "2010-10-06T15:20:00Z",
                    "end": "2010-10-06T15:25:00Z"
                  },
                  "Change": 0.055,
                  "Max": 188.5,
                  "Avg": 185.1437125748503
                },
                {
                  "name": "ADA",
                  "Min": 185,
                  "timestamp": {
                    "start": "2010-10-06T15:25:00Z",
                    "end": "2010-10-06T15:30:00Z"
                  },
                  "Change": 0.055,
                  "Max": 190.5,
                  "Avg": 187.6290322580645
                },
                {
                  "name": "ADA",
                  "Min": 187.5,
                  "timestamp": {
                    "start": "2010-10-06T15:30:00Z",
                    "end": "2010-10-06T15:35:00Z"
                  },
                  "Change": 0.065,
                  "Max": 194,
                  "Avg": 189.90243902439025
                },
                {
                  "name": "ADA",
                  "Min": 184,
                  "timestamp": {
                    "start": "2010-10-06T15:35:00Z",
                    "end": "2010-10-06T15:40:00Z"
                  },
                  "Change": 0.1,
                  "Max": 194,
                  "Avg": 188.5898058252427
                },
                {
                  "name": "ADA",
                  "Min": 189.5,
                  "timestamp": {
                    "start": "2010-10-06T15:40:00Z",
                    "end": "2010-10-06T15:45:00Z"
                  },
                  "Change": 0.04,
                  "Max": 193.5,
                  "Avg": 191.625
                }
              ],
              "schema": {
                "name": "string",
                "timestamp": "StructType(StructField(start,TimestampType,true), StructField(end,TimestampType,true))",
                "Min": "double",
                "Max": "double",
                "Avg": "double",
                "Change": "double"
              }
            },
            "isSummary": false,
            "language": "scala"
          },
          "persist_state": {
            "view": {
              "type": "details",
              "tableOptions": {},
              "chartOptions": {
                "chartType": "bar",
                "aggregationType": "sum",
                "categoryFieldKeys": [
                  "name"
                ],
                "seriesFieldKeys": [
                  "Min"
                ],
                "isStacked": false
              }
            }
          }
        }
      }
    }
  },
  "cells": [
    {
      "cell_type": "code",
      "execution_count": 4,
      "outputs": [
        {
          "output_type": "display_data",
          "data": {
            "application/vnd.livy.statement-meta+json": {
              "spark_pool": "workshopspark1",
              "session_id": 0,
              "statement_id": 4,
              "state": "finished",
              "livy_statement_state": "available",
              "queued_time": "2021-04-15T15:34:58.5916847Z",
              "execution_start_time": "2021-04-15T15:34:58.6991667Z",
              "execution_finish_time": "2021-04-15T15:36:11.2644791Z"
            },
            "text/plain": "StatementMeta(workshopspark1, 0, 4, Finished, Available)"
          },
          "metadata": {}
        },
        {
          "output_type": "display_data",
          "data": {
            "text/plain": "+----------+--------+-----+------+\n|      Date|    Time|Value|Volume|\n+----------+--------+-----+------+\n|06/10/2010|08:00:00|  106|348746|\n|06/10/2010|08:00:00|  105|331580|\n|06/10/2010|08:00:00|105.5|352352|\n|06/10/2010|08:00:00|106.5|347253|\n|06/10/2010|08:00:00|  105|330164|\n+----------+--------+-----+------+\nonly showing top 5 rows\n\n+----------+--------+-----+------+\n|      Date|    Time|Value|Volume|\n+----------+--------+-----+------+\n|06/10/2010|08:26:29|106.5|346184|\n|06/10/2010|08:27:13|  106|345722|\n|06/10/2010|09:05:02|  111|351804|\n|06/10/2010|09:05:05|109.5|347778|\n|06/10/2010|09:12:50|113.5|343770|\n+----------+--------+-----+------+\nonly showing top 5 rows\n\nroot\n |-- Date: string (nullable = true)\n |-- Time: string (nullable = true)\n |-- Value: double (nullable = true)\n |-- Volume: string (nullable = true)\n |-- JoinedColumn: string (nullable = true)\n |-- Timestamp: timestamp (nullable = true)\n |-- Name: string (nullable = true)\n\n+----------+--------+-----+------+-------------------+-------------------+----+\n|      Date|    Time|Value|Volume|       JoinedColumn|          Timestamp|Name|\n+----------+--------+-----+------+-------------------+-------------------+----+\n|06/10/2010|08:26:29|106.5|346184|06/10/2010 08:26:29|2010-10-06 08:26:29| ADA|\n|06/10/2010|08:27:13|106.0|345722|06/10/2010 08:27:13|2010-10-06 08:27:13| ADA|\n|06/10/2010|09:05:02|111.0|351804|06/10/2010 09:05:02|2010-10-06 09:05:02| ADA|\n|06/10/2010|09:05:05|109.5|347778|06/10/2010 09:05:05|2010-10-06 09:05:05| ADA|\n|06/10/2010|09:12:50|113.5|343770|06/10/2010 09:12:50|2010-10-06 09:12:50| ADA|\n+----------+--------+-----+------+-------------------+-------------------+----+\nonly showing top 5 rows\n\n+----+--------------------+----------+\n|Name|              window|min(Value)|\n+----+--------------------+----------+\n| ADA|[2010-10-06 08:00...|     101.5|\n| ADA|[2010-10-06 08:05...|      98.0|\n| ADA|[2010-10-06 08:10...|      99.5|\n| ADA|[2010-10-06 08:15...|     106.0|\n| ADA|[2010-10-06 08:20...|     105.5|\n+----+--------------------+----------+\nonly showing top 5 rows\n\n+----+--------------------+----------+\n|Name|              window|max(Value)|\n+----+--------------------+----------+\n| ADA|[2010-10-06 08:00...|     107.5|\n| ADA|[2010-10-06 08:05...|     106.0|\n| ADA|[2010-10-06 08:10...|     109.0|\n| ADA|[2010-10-06 08:15...|     111.5|\n| ADA|[2010-10-06 08:20...|     110.5|\n+----+--------------------+----------+\nonly showing top 5 rows\n\n+----+--------------------+------------------+\n|Name|              window|        avg(Value)|\n+----+--------------------+------------------+\n| ADA|[2010-10-06 08:00...|104.59722222222223|\n| ADA|[2010-10-06 08:05...|100.97058823529412|\n| ADA|[2010-10-06 08:10...|104.49253731343283|\n| ADA|[2010-10-06 08:15...|107.96428571428571|\n| ADA|[2010-10-06 08:20...| 108.5909090909091|\n+----+--------------------+------------------+\nonly showing top 5 rows\n\n+----+--------------------+----------+----------+------------------+\n|Name|              window|min(Value)|max(Value)|        avg(Value)|\n+----+--------------------+----------+----------+------------------+\n| ADA|[2010-10-06 08:00...|     101.5|     107.5|104.59722222222223|\n| ADA|[2010-10-06 08:05...|      98.0|     106.0|100.97058823529412|\n| ADA|[2010-10-06 08:10...|      99.5|     109.0|104.49253731343283|\n| ADA|[2010-10-06 08:15...|     106.0|     111.5|107.96428571428571|\n| ADA|[2010-10-06 08:20...|     105.5|     110.5| 108.5909090909091|\n+----+--------------------+----------+----------+------------------+\nonly showing top 5 rows\n\n+----+--------------------+----------+----------+------------------+-----------------+\n|Name|              window|min(Value)|max(Value)|        avg(Value)|Value Change in %|\n+----+--------------------+----------+----------+------------------+-----------------+\n| ADA|[2010-10-06 08:00...|     101.5|     107.5|104.59722222222223|             0.06|\n| ADA|[2010-10-06 08:05...|      98.0|     106.0|100.97058823529412|             0.08|\n| ADA|[2010-10-06 08:10...|      99.5|     109.0|104.49253731343283|            0.095|\n| ADA|[2010-10-06 08:15...|     106.0|     111.5|107.96428571428571|            0.055|\n| ADA|[2010-10-06 08:20...|     105.5|     110.5| 108.5909090909091|             0.05|\n+----+--------------------+----------+----------+------------------+-----------------+\nonly showing top 5 rows\n\n+----+--------------------+-----+-----+------------------+------+\n|name|           timestamp|  Min|  Max|               Avg|Change|\n+----+--------------------+-----+-----+------------------+------+\n| ADA|[2010-10-06 08:00...|101.5|107.5|104.59722222222223|  0.06|\n| ADA|[2010-10-06 08:05...| 98.0|106.0|100.97058823529412|  0.08|\n| ADA|[2010-10-06 08:10...| 99.5|109.0|104.49253731343283| 0.095|\n| ADA|[2010-10-06 08:15...|106.0|111.5|107.96428571428571| 0.055|\n| ADA|[2010-10-06 08:20...|105.5|110.5| 108.5909090909091|  0.05|\n| ADA|[2010-10-06 08:25...|105.5|110.5|107.41666666666667|  0.05|\n| ADA|[2010-10-06 08:30...|107.0|112.0|110.58823529411765|  0.05|\n| ADA|[2010-10-06 08:35...|102.0|110.0|        106.109375|  0.08|\n| ADA|[2010-10-06 08:40...| 99.5|106.5|101.92537313432835|  0.07|\n| ADA|[2010-10-06 08:45...|102.5|106.0|            104.56| 0.035|\n| ADA|[2010-10-06 08:50...|105.0|110.0|107.28358208955224|  0.05|\n| ADA|[2010-10-06 08:55...|106.0|112.5|109.52307692307693| 0.065|\n| ADA|[2010-10-06 09:00...|108.0|118.0|114.04625550660793|   0.1|\n| ADA|[2010-10-06 09:05...|107.5|117.5|113.05450236966824|   0.1|\n| ADA|[2010-10-06 09:10...|108.5|117.5|113.34756097560975|  0.09|\n| ADA|[2010-10-06 09:15...|106.5|115.0|111.57621951219512| 0.085|\n| ADA|[2010-10-06 09:20...| 98.5|106.0|101.79268292682927| 0.075|\n| ADA|[2010-10-06 09:25...| 96.5|107.0| 101.0925925925926| 0.105|\n| ADA|[2010-10-06 09:30...|106.5|118.0|111.79513888888889| 0.115|\n| ADA|[2010-10-06 09:35...|111.5|117.0|114.38571428571429| 0.055|\n+----+--------------------+-----+-----+------------------+------+\nonly showing top 20 rows\n\n"
          },
          "metadata": {}
        },
        {
          "output_type": "display_data",
          "data": {
            "application/vnd.synapse.widget-view+json": {
              "widget_id": "c40f1c19-f1c4-4282-8abd-5c1298c337df",
              "widget_type": "Synapse.DataFrame"
            },
            "text/plain": "SynapseWidget(Synapse.DataFrame, c40f1c19-f1c4-4282-8abd-5c1298c337df)"
          },
          "metadata": {}
        },
        {
          "output_type": "execute_result",
          "data": {},
          "execution_count": 4,
          "metadata": {}
        }
      ],
      "metadata": {
        "collapsed": false
      },
      "source": [
        "from pyspark.sql.types import DoubleType\n",
        "\n",
        "input_location = 'abfss://trade@gksynapsestorage.dfs.core.windows.net/FUTURES_TRADES.txt'\n",
        "\n",
        "df = spark.read.format('csv').option(\"header\", False).option(\"sep\", \",\").load(input_location, format='csv')\n",
        "display(df.limit(10))\n",
        "df = df.withColumnRenamed('_c0', 'Date') \\\n",
        ".withColumnRenamed('_c1', 'Time') \\\n",
        ".withColumnRenamed('_c2', 'Value') \\\n",
        ".withColumnRenamed('_c3', 'Volume')\n",
        "df.show(5)\n",
        "\n",
        "df = df.dropDuplicates([\"Date\",\"Time\"])\n",
        "df.show(5)\n",
        "\n",
        "from pyspark.sql.functions import when\n",
        "from pyspark.sql import functions as F\n",
        "df = df.withColumn('JoinedColumn',\n",
        "F.concat(F.col('Date'),F.lit(' '), F.col('Time')))\n",
        "df = df.withColumn(\"Timestamp\", F.to_timestamp(\"JoinedColumn\", \"dd/MM/yyyy HH:mm:ss\"))\n",
        "df = df.withColumn(\"Name\", when(F.isnull('Value'), None).otherwise('ADA'))\n",
        "df = df.withColumn(\"Value\", df[\"Value\"].cast(DoubleType()))\n",
        "df.printSchema()\n",
        "df.show(5)\n",
        "\n",
        "min_df = df.groupBy(\"Name\", F.window(\"Timestamp\", \"5 minutes\")).min(\"Value\")\n",
        "min_df = min_df.sort('window','Name')\n",
        "min_df.show(5)\n",
        "\n",
        "max_df = df.groupBy(\"Name\", F.window(\"Timestamp\", \"5 minutes\")).max(\"Value\")\n",
        "max_df = max_df.sort('window','Name')\n",
        "max_df.show(5)\n",
        "\n",
        "avg_df = df.groupBy(\"Name\", F.window(\"Timestamp\", \"5 minutes\")).avg(\"Value\")\n",
        "avg_df = avg_df.sort('window','Name')\n",
        "avg_df.show(5)\n",
        "\n",
        "merged_df = min_df.join(max_df, on=['Name', 'window'], how='left_outer')\n",
        "merged_df = merged_df.join(avg_df, on=['Name', 'window'], how='left_outer')\n",
        "merged_df = merged_df.sort('window','Name')\n",
        "merged_df.show(5)\n",
        "\n",
        "merged_df = merged_df.withColumn('Value Change in %', when(F.isnull('Name'),None).otherwise((merged_df['max(Value)'] - merged_df['min(Value)'])/ 100))\n",
        "merged_df.show(5)\n",
        "\n",
        "# save to db\n",
        "\n",
        "#tableDf = merged_df.selectExpr(\"Name as name\", \"window as timestamp\",\"min(Value) as Min\",\"max(Value) as Max\",\" avg(Value) Avg\")\n",
        "# tableDf.show(10)\n",
        "\n",
        "\n",
        "# from functools import reduce"
      ]
    },
    {
      "cell_type": "code",
      "execution_count": 5,
      "outputs": [
        {
          "output_type": "display_data",
          "data": {
            "application/vnd.livy.statement-meta+json": {
              "spark_pool": "workshopspark1",
              "session_id": 0,
              "statement_id": 5,
              "state": "finished",
              "livy_statement_state": "available",
              "queued_time": "2021-04-15T15:36:23.7870417Z",
              "execution_start_time": "2021-04-15T15:36:23.8992082Z",
              "execution_finish_time": "2021-04-15T15:36:50.801178Z"
            },
            "text/plain": "StatementMeta(workshopspark1, 0, 5, Finished, Available)"
          },
          "metadata": {}
        },
        {
          "output_type": "stream",
          "name": "stdout",
          "text": "+----+--------------------+-----+-----+------------------+------+\n|name|           timestamp|  Min|  Max|               Avg|Change|\n+----+--------------------+-----+-----+------------------+------+\n| ADA|[2010-10-06 08:00...|101.5|107.5|104.59722222222223|  0.06|\n| ADA|[2010-10-06 08:05...| 98.0|106.0|100.97058823529412|  0.08|\n| ADA|[2010-10-06 08:10...| 99.5|109.0|104.49253731343283| 0.095|\n| ADA|[2010-10-06 08:15...|106.0|111.5|107.96428571428571| 0.055|\n| ADA|[2010-10-06 08:20...|105.5|110.5| 108.5909090909091|  0.05|\n| ADA|[2010-10-06 08:25...|105.5|110.5|107.41666666666667|  0.05|\n| ADA|[2010-10-06 08:30...|107.0|112.0|110.58823529411765|  0.05|\n| ADA|[2010-10-06 08:35...|102.0|110.0|        106.109375|  0.08|\n| ADA|[2010-10-06 08:40...| 99.5|106.5|101.92537313432835|  0.07|\n| ADA|[2010-10-06 08:45...|102.5|106.0|            104.56| 0.035|\n| ADA|[2010-10-06 08:50...|105.0|110.0|107.28358208955224|  0.05|\n| ADA|[2010-10-06 08:55...|106.0|112.5|109.52307692307693| 0.065|\n| ADA|[2010-10-06 09:00...|108.0|118.0|114.04625550660793|   0.1|\n| ADA|[2010-10-06 09:05...|107.5|117.5|113.05450236966824|   0.1|\n| ADA|[2010-10-06 09:10...|108.5|117.5|113.34756097560975|  0.09|\n| ADA|[2010-10-06 09:15...|106.5|115.0|111.57621951219512| 0.085|\n| ADA|[2010-10-06 09:20...| 98.5|106.0|101.79268292682927| 0.075|\n| ADA|[2010-10-06 09:25...| 96.5|107.0| 101.0925925925926| 0.105|\n| ADA|[2010-10-06 09:30...|106.5|118.0|111.79513888888889| 0.115|\n| ADA|[2010-10-06 09:35...|111.5|117.0|114.38571428571429| 0.055|\n+----+--------------------+-----+-----+------------------+------+\nonly showing top 20 rows"
        }
      ],
      "metadata": {
        "jupyter": {
          "source_hidden": false,
          "outputs_hidden": false
        },
        "nteract": {
          "transient": {
            "deleting": false
          }
        },
        "microsoft": {
          "language": "python"
        },
        "collapsed": true
      },
      "source": [
        "%%pyspark \n",
        "\n",
        "df = (merged_df.withColumnRenamed(\"Name\", \"name\")\n",
        ".withColumnRenamed(\"window\", \"timestamp\")\n",
        ".withColumnRenamed(\"min(Value)\",\"Min\")\n",
        ".withColumnRenamed(\"max(Value)\",\"Max\")\n",
        ".withColumnRenamed(\"avg(Value)\",\"Avg\")\n",
        ".withColumnRenamed(\"Value Change in %\",\"Change\")\n",
        "\n",
        "\n",
        ")\n",
        "df.show()\n",
        "df.write.mode(\"overwrite\").saveAsTable(\"default.t2\")\n",
        "\n",
        ""
      ]
    },
    {
      "cell_type": "code",
      "execution_count": 6,
      "outputs": [
        {
          "output_type": "display_data",
          "data": {
            "application/vnd.livy.statement-meta+json": {
              "spark_pool": "workshopspark1",
              "session_id": 0,
              "statement_id": 6,
              "state": "finished",
              "livy_statement_state": "available",
              "queued_time": "2021-04-15T15:37:45.6752059Z",
              "execution_start_time": "2021-04-15T15:37:45.8401416Z",
              "execution_finish_time": "2021-04-15T15:37:52.0509173Z"
            },
            "text/plain": "StatementMeta(workshopspark1, 0, 6, Finished, Available)"
          },
          "metadata": {}
        },
        {
          "output_type": "display_data",
          "data": {
            "application/vnd.synapse.widget-view+json": {
              "widget_id": "c3d81418-7297-4f6b-83ec-cb31f306516a",
              "widget_type": "Synapse.DataFrame"
            },
            "text/plain": "SynapseWidget(Synapse.DataFrame, c3d81418-7297-4f6b-83ec-cb31f306516a)"
          },
          "metadata": {}
        },
        {
          "output_type": "execute_result",
          "data": {},
          "execution_count": 6,
          "metadata": {}
        }
      ],
      "metadata": {
        "jupyter": {
          "source_hidden": false,
          "outputs_hidden": false
        },
        "nteract": {
          "transient": {
            "deleting": false
          }
        },
        "microsoft": {
          "language": "python"
        },
        "collapsed": false
      },
      "source": [
        "%%pyspark\n",
        "\n",
        "myNewPythonDataFrame = spark.sql(\"SELECT * FROM default.t2\")\n",
        "display(myNewPythonDataFrame)"
      ]
    },
    {
      "cell_type": "code",
      "execution_count": 7,
      "outputs": [
        {
          "output_type": "display_data",
          "data": {
            "application/vnd.livy.statement-meta+json": {
              "spark_pool": "workshopspark1",
              "session_id": 0,
              "statement_id": 8,
              "state": "finished",
              "livy_statement_state": "available",
              "queued_time": "2021-04-15T15:40:16.0596426Z",
              "execution_start_time": "2021-04-15T15:40:18.3823072Z",
              "execution_finish_time": "2021-04-15T15:40:28.6919659Z"
            },
            "text/plain": "StatementMeta(workshopspark1, 0, 8, Finished, Available)"
          },
          "metadata": {}
        },
        {
          "output_type": "stream",
          "name": "stdout",
          "text": "df: org.apache.spark.sql.DataFrame = [name: string, category: string]\n+---------+--------+\n|     name|category|\n+---------+--------+\n|  Finance|   extra|\n|Marketing|   addon|\n|    Sales| special|\n+---------+--------+\n\n"
        }
      ],
      "metadata": {
        "jupyter": {
          "source_hidden": false,
          "outputs_hidden": false
        },
        "nteract": {
          "transient": {
            "deleting": false
          }
        },
        "microsoft": {
          "language": "scala"
        },
        "collapsed": true
      },
      "source": [
        "%%spark\n",
        "val df = spark.read.sqlanalytics(\"workshoppool1.dbo.departments\") \n",
        "df.show()"
      ]
    },
    {
      "cell_type": "code",
      "execution_count": 9,
      "outputs": [
        {
          "output_type": "display_data",
          "data": {
            "application/vnd.livy.statement-meta+json": {
              "spark_pool": "workshopspark1",
              "session_id": 0,
              "statement_id": 10,
              "state": "finished",
              "livy_statement_state": "available",
              "queued_time": "2021-04-15T15:41:39.9150469Z",
              "execution_start_time": "2021-04-15T15:41:40.0780073Z",
              "execution_finish_time": "2021-04-15T15:41:42.1386976Z"
            },
            "text/plain": "StatementMeta(workshopspark1, 0, 10, Finished, Available)"
          },
          "metadata": {}
        },
        {
          "output_type": "error",
          "ename": "AnalysisException",
          "evalue": "Table or view not found: `dbo`.`departments`; line 1 pos 14;\n'Project [*]\n+- 'UnresolvedRelation `dbo`.`departments`\n",
          "traceback": [
            "AnalysisException: Table or view not found: `dbo`.`departments`; line 1 pos 14;\n'Project [*]\n+- 'UnresolvedRelation `dbo`.`departments`\n",
            "Traceback (most recent call last):\n",
            "  File \"/opt/spark/python/lib/pyspark.zip/pyspark/sql/session.py\", line 767, in sql\n    return DataFrame(self._jsparkSession.sql(sqlQuery), self._wrapped)\n",
            "  File \"/opt/spark/python/lib/py4j-0.10.7-src.zip/py4j/java_gateway.py\", line 1257, in __call__\n    answer, self.gateway_client, self.target_id, self.name)\n",
            "  File \"/opt/spark/python/lib/pyspark.zip/pyspark/sql/utils.py\", line 75, in deco\n    raise AnalysisException(s.split(': ', 1)[1], stackTrace)\n",
            "pyspark.sql.utils.AnalysisException: Table or view not found: `dbo`.`departments`; line 1 pos 14;\n'Project [*]\n+- 'UnresolvedRelation `dbo`.`departments`\n\n"
          ]
        }
      ],
      "metadata": {
        "jupyter": {
          "source_hidden": false,
          "outputs_hidden": false
        },
        "nteract": {
          "transient": {
            "deleting": false
          }
        },
        "microsoft": {
          "language": "python"
        },
        "collapsed": true
      },
      "source": [
        "%%pyspark \n",
        "# NOT WORKING\n",
        "df = spark.read.sqlanalytics(\"workshoppool1.dbo.departments\") \n",
        "df.show(2)"
      ]
    }
  ]
}