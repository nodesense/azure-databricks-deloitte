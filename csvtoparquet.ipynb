{
  "nbformat": 4,
  "nbformat_minor": 2,
  "metadata": {
    "kernelspec": {
      "name": "synapse_pyspark",
      "display_name": "python"
    },
    "language_info": {
      "name": "python"
    },
    "save_output": true,
    "synapse_widget": {
      "version": "0.1",
      "state": {}
    }
  },
  "cells": [
    {
      "cell_type": "code",
      "execution_count": 1,
      "outputs": [
        {
          "output_type": "display_data",
          "data": {
            "application/vnd.livy.statement-meta+json": {
              "spark_pool": "WorkshopPool1",
              "session_id": 1,
              "statement_id": 1,
              "state": "finished",
              "livy_statement_state": "available",
              "queued_time": "2021-04-19T10:28:48.2476972Z",
              "execution_start_time": "2021-04-19T10:31:04.2879239Z",
              "execution_finish_time": "2021-04-19T10:31:06.3694758Z"
            },
            "text/plain": "StatementMeta(WorkshopPool1, 1, 1, Finished, Available)"
          },
          "metadata": {}
        },
        {
          "output_type": "stream",
          "name": "stdout",
          "text": ""
        }
      ],
      "metadata": {},
      "source": [
        "import pyspark\n",
        "from pyspark.sql.types import StructType, StringType, IntegerType, DoubleType, DateType, TimestampType\n",
        "from pyspark.sql.functions import col, count, sum\n",
        "\n",
        "# inferSchema, it scan data and build schema automatically\n",
        " \n",
        "schema = StructType()\\\n",
        "        .add(\"InvoiceNo\", StringType(), True)\\\n",
        "        .add(\"StockCode\", StringType(), True)\\\n",
        "        .add(\"Description\", StringType(), True)\\\n",
        "        .add(\"Quantity\", IntegerType(), True)\\\n",
        "        .add(\"InvoiceDate\", DateType(), True)\\\n",
        "        .add(\"UnitPrice\", DoubleType(), True)\\\n",
        "        .add(\"Customer\", StringType(), True)\\\n",
        "        .add(\"Country\", StringType(), True)\n",
        "\n",
        "\n",
        ""
      ]
    },
    {
      "cell_type": "code",
      "execution_count": 3,
      "outputs": [
        {
          "output_type": "display_data",
          "data": {
            "application/vnd.livy.statement-meta+json": {
              "spark_pool": "WorkshopPool1",
              "session_id": 1,
              "statement_id": 3,
              "state": "finished",
              "livy_statement_state": "available",
              "queued_time": "2021-04-19T10:35:06.8899402Z",
              "execution_start_time": "2021-04-19T10:35:06.995077Z",
              "execution_finish_time": "2021-04-19T10:35:19.3964107Z"
            },
            "text/plain": "StatementMeta(WorkshopPool1, 1, 3, Finished, Available)"
          },
          "metadata": {}
        },
        {
          "output_type": "stream",
          "name": "stdout",
          "text": "+---------+---------+--------------------+--------+-----------+---------+--------+--------------+\n|InvoiceNo|StockCode|         Description|Quantity|InvoiceDate|UnitPrice|Customer|       Country|\n+---------+---------+--------------------+--------+-----------+---------+--------+--------------+\n|   536365|   85123A|WHITE HANGING HEA...|       6| 2010-12-01|     2.55|   17850|United Kingdom|\n|   536365|    71053| WHITE METAL LANTERN|       6| 2010-12-01|     3.39|   17850|United Kingdom|\n+---------+---------+--------------------+--------+-----------+---------+--------+--------------+\nonly showing top 2 rows"
        }
      ],
      "metadata": {
        "jupyter": {
          "source_hidden": false,
          "outputs_hidden": false
        },
        "nteract": {
          "transient": {
            "deleting": false
          }
        },
        "collapsed": true
      },
      "source": [
        "input_file_path = 'abfss://invoices@gksynapsestorage.dfs.core.windows.net/'\n",
        "invoicesDf = spark.read.format('csv') \\\n",
        "              .option(\"header\", True) \\\n",
        "              .schema(schema)\\\n",
        "              .option(\"sep\", \",\") \\\n",
        "              .option(\"dateFormat\", \"MM/dd/yyyy HH:mm\")\\\n",
        "              .load(input_file_path)\n",
        "\n",
        "invoicesDf.show(2)"
      ]
    },
    {
      "cell_type": "code",
      "execution_count": 5,
      "outputs": [
        {
          "output_type": "display_data",
          "data": {
            "application/vnd.livy.statement-meta+json": {
              "spark_pool": "WorkshopPool1",
              "session_id": 1,
              "statement_id": 5,
              "state": "finished",
              "livy_statement_state": "available",
              "queued_time": "2021-04-19T10:39:38.5753219Z",
              "execution_start_time": "2021-04-19T10:39:38.6843828Z",
              "execution_finish_time": "2021-04-19T10:39:46.953606Z"
            },
            "text/plain": "StatementMeta(WorkshopPool1, 1, 5, Finished, Available)"
          },
          "metadata": {}
        },
        {
          "output_type": "stream",
          "name": "stdout",
          "text": ""
        }
      ],
      "metadata": {
        "jupyter": {
          "source_hidden": false,
          "outputs_hidden": false
        },
        "nteract": {
          "transient": {
            "deleting": false
          }
        },
        "collapsed": true
      },
      "source": [
        "output_file_path = 'abfss://invoices-parquet@gksynapsestorage.dfs.core.windows.net/invoices-01.parquet'\n",
        "\n",
        "invoicesDf\\\n",
        ".coalesce(1)\\\n",
        ".write\\\n",
        ".mode(\"overwrite\")\\\n",
        ".parquet(output_file_path)"
      ]
    }
  ]
}